{
 "cells": [
  {
   "cell_type": "markdown",
   "id": "8e4794af-3214-44e5-baf3-529baf1e1440",
   "metadata": {},
   "source": [
    "**==================== Numpy Random ====================**"
   ]
  },
  {
   "cell_type": "code",
   "execution_count": 1,
   "id": "c72b1050-c443-4129-9f45-946bfae15083",
   "metadata": {},
   "outputs": [],
   "source": [
    "import numpy as np\n",
    "from numpy import random"
   ]
  },
  {
   "cell_type": "code",
   "execution_count": 2,
   "id": "71decfc3-3737-4511-8002-120d3a136898",
   "metadata": {},
   "outputs": [
    {
     "data": {
      "text/plain": [
       "0.21840544712355858"
      ]
     },
     "execution_count": 2,
     "metadata": {},
     "output_type": "execute_result"
    }
   ],
   "source": [
    "random.rand()"
   ]
  },
  {
   "cell_type": "code",
   "execution_count": 3,
   "id": "a789e5ae-228f-42c7-b18f-93f9859ba65c",
   "metadata": {},
   "outputs": [
    {
     "data": {
      "text/plain": [
       "array([0.38820171, 0.01836937, 0.08836052, 0.5463684 , 0.62117964])"
      ]
     },
     "execution_count": 3,
     "metadata": {},
     "output_type": "execute_result"
    }
   ],
   "source": [
    "random.rand(5)"
   ]
  },
  {
   "cell_type": "code",
   "execution_count": 4,
   "id": "f6f824a7-22c9-4033-859e-14834c10d4bc",
   "metadata": {},
   "outputs": [
    {
     "data": {
      "text/plain": [
       "array([[0.29395085, 0.49171766, 0.74691995, 0.86705719, 0.0049136 ],\n",
       "       [0.40825827, 0.67268194, 0.94450778, 0.46936056, 0.37941249],\n",
       "       [0.48171862, 0.51202287, 0.94743703, 0.7893522 , 0.26946371]])"
      ]
     },
     "execution_count": 4,
     "metadata": {},
     "output_type": "execute_result"
    }
   ],
   "source": [
    "random.rand(3, 5)"
   ]
  },
  {
   "cell_type": "code",
   "execution_count": 5,
   "id": "ab3f235e-6b4c-4ab9-a776-ecac0a7ece8a",
   "metadata": {},
   "outputs": [
    {
     "data": {
      "text/plain": [
       "3"
      ]
     },
     "execution_count": 5,
     "metadata": {},
     "output_type": "execute_result"
    }
   ],
   "source": [
    "random.choice([1, 2, 3, 4, 5, 6, 7, 8, 9, 10])"
   ]
  },
  {
   "cell_type": "code",
   "execution_count": 6,
   "id": "1165b574-3a5b-41ff-8d2d-5823f7b454a8",
   "metadata": {},
   "outputs": [
    {
     "data": {
      "text/plain": [
       "array([[7, 7, 8, 8, 9],\n",
       "       [5, 3, 5, 5, 5],\n",
       "       [2, 6, 5, 6, 7]])"
      ]
     },
     "execution_count": 6,
     "metadata": {},
     "output_type": "execute_result"
    }
   ],
   "source": [
    "random.choice([1, 2, 3, 4, 5, 6, 7, 8, 9, 10], size= (3, 5))"
   ]
  },
  {
   "cell_type": "code",
   "execution_count": 7,
   "id": "36c94257-53e8-436f-9179-e0b597c8e1f0",
   "metadata": {},
   "outputs": [
    {
     "data": {
      "text/plain": [
       "96"
      ]
     },
     "execution_count": 7,
     "metadata": {},
     "output_type": "execute_result"
    }
   ],
   "source": [
    "random.randint(100)"
   ]
  },
  {
   "cell_type": "code",
   "execution_count": 8,
   "id": "ebba6374-0337-4e57-bfa2-d44b6a54cd6b",
   "metadata": {},
   "outputs": [
    {
     "data": {
      "text/plain": [
       "array([97, 56, 76, 95, 73])"
      ]
     },
     "execution_count": 8,
     "metadata": {},
     "output_type": "execute_result"
    }
   ],
   "source": [
    "random.randint(100, size= (5))"
   ]
  },
  {
   "cell_type": "code",
   "execution_count": 9,
   "id": "759d0234-b215-43be-a9f1-d44116e6403c",
   "metadata": {},
   "outputs": [
    {
     "data": {
      "text/plain": [
       "array([[61, 17, 44, 42, 21],\n",
       "       [22, 17, 89, 70, 70],\n",
       "       [32, 91, 60, 24, 44]])"
      ]
     },
     "execution_count": 9,
     "metadata": {},
     "output_type": "execute_result"
    }
   ],
   "source": [
    "random.randint(100, size= (3, 5))"
   ]
  },
  {
   "cell_type": "code",
   "execution_count": 10,
   "id": "b6808eda-1240-4353-b67f-6f9e995ee05b",
   "metadata": {},
   "outputs": [
    {
     "data": {
      "text/plain": [
       "array([[-0.52106923,  3.18698092,  2.3814332 ],\n",
       "       [ 2.09811325,  3.89426155,  0.6074976 ]])"
      ]
     },
     "execution_count": 10,
     "metadata": {},
     "output_type": "execute_result"
    }
   ],
   "source": [
    "random.normal(loc= 1, scale= 2, size= (2, 3))"
   ]
  },
  {
   "cell_type": "code",
   "execution_count": 11,
   "id": "703de1a8-ba54-4921-9e4d-751f00ede92d",
   "metadata": {},
   "outputs": [
    {
     "data": {
      "text/plain": [
       "array([[ 5.81790287, 14.99756952, -3.92991923],\n",
       "       [-5.11341613,  2.37574978,  1.69033999]])"
      ]
     },
     "execution_count": 11,
     "metadata": {},
     "output_type": "execute_result"
    }
   ],
   "source": [
    "random.normal(loc= 1, scale= 6, size= (2, 3))"
   ]
  },
  {
   "cell_type": "code",
   "execution_count": 12,
   "id": "fdefd8f3-df3c-4a64-adb1-72b4867cbbd8",
   "metadata": {},
   "outputs": [
    {
     "data": {
      "text/plain": [
       "array([[ 6.21509231,  5.35008525,  7.08927833],\n",
       "       [ 5.55538695,  5.12428184, 10.07094718]])"
      ]
     },
     "execution_count": 12,
     "metadata": {},
     "output_type": "execute_result"
    }
   ],
   "source": [
    "random.normal(loc= 5, scale= 2, size= (2, 3))"
   ]
  },
  {
   "cell_type": "code",
   "execution_count": 13,
   "id": "89d279ce-2ab6-42ad-a654-ae5596b491ea",
   "metadata": {},
   "outputs": [
    {
     "data": {
      "text/plain": [
       "array([8, 4, 7, 8, 7, 6, 5, 5, 5, 4])"
      ]
     },
     "execution_count": 13,
     "metadata": {},
     "output_type": "execute_result"
    }
   ],
   "source": [
    "random.binomial(n= 10, p= 0.5, size= 10)"
   ]
  },
  {
   "cell_type": "code",
   "execution_count": 14,
   "id": "d8e71cf8-f39b-40ac-b6a5-e4b22f417444",
   "metadata": {},
   "outputs": [
    {
     "data": {
      "text/plain": [
       "array([4, 1, 1, 3, 3, 3, 3, 4, 3, 3])"
      ]
     },
     "execution_count": 14,
     "metadata": {},
     "output_type": "execute_result"
    }
   ],
   "source": [
    "random.binomial(n= 5, p= 0.5, size= 10)"
   ]
  },
  {
   "cell_type": "code",
   "execution_count": 15,
   "id": "e962a6e6-30e9-4a88-bb6f-e6ae127b3ae4",
   "metadata": {},
   "outputs": [
    {
     "data": {
      "text/plain": [
       "array([[0.62848283, 0.59334173, 0.6080244 ],\n",
       "       [0.95431005, 0.48171862, 0.57300613]])"
      ]
     },
     "execution_count": 15,
     "metadata": {},
     "output_type": "execute_result"
    }
   ],
   "source": [
    "random.uniform(size= (2, 3))"
   ]
  },
  {
   "cell_type": "code",
   "execution_count": 16,
   "id": "e6274dc7-b923-486a-b96a-7798fc7e7f62",
   "metadata": {},
   "outputs": [
    {
     "data": {
      "text/plain": [
       "array([[ 5.41269908,  2.22481486, -2.84992978],\n",
       "       [ 5.7771669 ,  1.95620199,  1.64038694]])"
      ]
     },
     "execution_count": 16,
     "metadata": {},
     "output_type": "execute_result"
    }
   ],
   "source": [
    "random.logistic(loc= 1, scale= 2, size= (2, 3))"
   ]
  },
  {
   "cell_type": "code",
   "execution_count": 17,
   "id": "64f3e9d5-1eef-41f2-8e99-dd48c0f5a629",
   "metadata": {},
   "outputs": [
    {
     "data": {
      "text/plain": [
       "array([[4.6151455 , 6.23523031, 9.50610517],\n",
       "       [1.96335035, 9.54171098, 6.30627379]])"
      ]
     },
     "execution_count": 17,
     "metadata": {},
     "output_type": "execute_result"
    }
   ],
   "source": [
    "random.logistic(loc= 7, scale= 2, size= (2, 3))"
   ]
  },
  {
   "cell_type": "code",
   "execution_count": 18,
   "id": "f0a0f32e-f6f1-4440-8aa4-960fb87b3285",
   "metadata": {},
   "outputs": [
    {
     "data": {
      "text/plain": [
       "array([1, 1, 0, 0, 3, 1])"
      ]
     },
     "execution_count": 18,
     "metadata": {},
     "output_type": "execute_result"
    }
   ],
   "source": [
    "random.multinomial(n= 6, pvals=[1/6, 1/6, 1/6, 1/6, 1/6, 1/6])"
   ]
  },
  {
   "cell_type": "code",
   "execution_count": 19,
   "id": "3ce62d99-0d6c-46c6-a62b-1cbbbd8bcbe9",
   "metadata": {},
   "outputs": [
    {
     "data": {
      "text/plain": [
       "array([1, 2, 1, 1, 0, 2])"
      ]
     },
     "execution_count": 19,
     "metadata": {},
     "output_type": "execute_result"
    }
   ],
   "source": [
    "random.multinomial(n= 7, pvals=[1/6, 1/6, 1/6, 1/6, 1/6, 1/6])"
   ]
  },
  {
   "cell_type": "code",
   "execution_count": 20,
   "id": "c721ffcb-05b4-40cb-8415-56ca8cd097e8",
   "metadata": {},
   "outputs": [
    {
     "data": {
      "text/plain": [
       "array([0, 0, 0, 3, 1, 3])"
      ]
     },
     "execution_count": 20,
     "metadata": {},
     "output_type": "execute_result"
    }
   ],
   "source": [
    "random.multinomial(n= 7, pvals=[1/7, 1/7, 1/7, 1/7, 1/7, 1/7])"
   ]
  },
  {
   "cell_type": "code",
   "execution_count": 21,
   "id": "274e8a05-991f-46e3-8e3d-4b84757b5ffd",
   "metadata": {},
   "outputs": [
    {
     "data": {
      "text/plain": [
       "array([[1.28832454, 1.06877976, 1.3135652 ],\n",
       "       [1.95443927, 1.84963717, 6.10629509]])"
      ]
     },
     "execution_count": 21,
     "metadata": {},
     "output_type": "execute_result"
    }
   ],
   "source": [
    "random.exponential(scale= 2, size= (2, 3))"
   ]
  },
  {
   "cell_type": "code",
   "execution_count": 22,
   "id": "0d35a711-3869-46ee-ae0e-22d6b91ffb4b",
   "metadata": {},
   "outputs": [
    {
     "data": {
      "text/plain": [
       "array([[2.16492663, 1.27655682, 0.31063957],\n",
       "       [1.39737329, 3.34532091, 2.16727234],\n",
       "       [0.69428327, 2.13548859, 2.59314965]])"
      ]
     },
     "execution_count": 22,
     "metadata": {},
     "output_type": "execute_result"
    }
   ],
   "source": [
    "random.chisquare(df= 2, size= (3, 3))"
   ]
  },
  {
   "cell_type": "code",
   "execution_count": 23,
   "id": "eb8ff50c-eca3-47c3-857c-5db55ba99788",
   "metadata": {},
   "outputs": [
    {
     "data": {
      "text/plain": [
       "array([[1.43164731, 3.4068243 ],\n",
       "       [1.03913033, 2.99826685]])"
      ]
     },
     "execution_count": 23,
     "metadata": {},
     "output_type": "execute_result"
    }
   ],
   "source": [
    "random.rayleigh(scale= 2, size= (2, 2))"
   ]
  },
  {
   "cell_type": "code",
   "execution_count": 24,
   "id": "6889a51d-4df0-4d95-8edd-ff70a2fa4e02",
   "metadata": {},
   "outputs": [
    {
     "data": {
      "text/plain": [
       "array([[8.87948616, 0.48502883, 0.31477427],\n",
       "       [0.38454054, 1.70277732, 0.78273273]])"
      ]
     },
     "execution_count": 24,
     "metadata": {},
     "output_type": "execute_result"
    }
   ],
   "source": [
    "random.pareto(a= 2, size= (2, 3))"
   ]
  },
  {
   "cell_type": "code",
   "execution_count": 25,
   "id": "5d7e42a0-6d85-4f03-a576-e656142e5020",
   "metadata": {},
   "outputs": [
    {
     "data": {
      "text/plain": [
       "array([[ 1,  1],\n",
       "       [ 1, 11],\n",
       "       [ 2,  3]])"
      ]
     },
     "execution_count": 25,
     "metadata": {},
     "output_type": "execute_result"
    }
   ],
   "source": [
    "random.zipf(a= 2, size= (3, 2))"
   ]
  },
  {
   "cell_type": "code",
   "execution_count": 26,
   "id": "6baac105-465f-4e7c-a570-a1c36b0a1de3",
   "metadata": {},
   "outputs": [],
   "source": [
    "array_1 = np.array([20, 21, 22, 23, 24, 25])\n",
    "array_2 = np.array([50, 51, 52, 53, 54, 55])"
   ]
  },
  {
   "cell_type": "code",
   "execution_count": 27,
   "id": "4f7c2c64-ef2d-4286-803f-3b7d28ebc5b8",
   "metadata": {},
   "outputs": [
    {
     "name": "stdout",
     "output_type": "stream",
     "text": [
      "[70 72 74 76 78 80]\n"
     ]
    }
   ],
   "source": [
    "add_array = np.add(array_1, array_2)\n",
    "print(add_array)"
   ]
  },
  {
   "cell_type": "code",
   "execution_count": 28,
   "id": "3e6c98ac-aafb-476f-af6c-2812df278804",
   "metadata": {},
   "outputs": [
    {
     "name": "stdout",
     "output_type": "stream",
     "text": [
      "[-30 -30 -30 -30 -30 -30]\n"
     ]
    }
   ],
   "source": [
    "sub_array = np.subtract(array_1, array_2)\n",
    "print(sub_array)"
   ]
  },
  {
   "cell_type": "code",
   "execution_count": 29,
   "id": "827bb1b3-6790-4f82-aef8-9ed9962f0c3c",
   "metadata": {},
   "outputs": [
    {
     "name": "stdout",
     "output_type": "stream",
     "text": [
      "[1000 1071 1144 1219 1296 1375]\n"
     ]
    }
   ],
   "source": [
    "multip_array = np.multiply(array_1, array_2)\n",
    "print(multip_array)"
   ]
  },
  {
   "cell_type": "code",
   "execution_count": 30,
   "id": "1acda212-485c-4adf-9055-cedacbfc01a7",
   "metadata": {},
   "outputs": [],
   "source": [
    "array_1 = np.array([10, 20, 30, 40, 50, 60])\n",
    "array_2 = np.array([3, 5, 10, 8, 2, 33])"
   ]
  },
  {
   "cell_type": "code",
   "execution_count": 31,
   "id": "34a6035d-354e-45e4-b247-ff287d5b8edb",
   "metadata": {},
   "outputs": [
    {
     "name": "stdout",
     "output_type": "stream",
     "text": [
      "[ 3.33333333  4.          3.          5.         25.          1.81818182]\n"
     ]
    }
   ],
   "source": [
    "div_array = np.divide(array_1, array_2)\n",
    "print(div_array)"
   ]
  },
  {
   "cell_type": "code",
   "execution_count": 32,
   "id": "bd43dd7f-56f1-4516-bf6d-887b67ab4426",
   "metadata": {},
   "outputs": [
    {
     "name": "stdout",
     "output_type": "stream",
     "text": [
      "[      1000    3200000  716276736 -520093696       2500          0]\n"
     ]
    }
   ],
   "source": [
    "power_array = np.power(array_1, array_2)\n",
    "print(power_array)"
   ]
  },
  {
   "cell_type": "code",
   "execution_count": 33,
   "id": "5f295b70-90e2-4af6-a572-d60b185e8350",
   "metadata": {},
   "outputs": [
    {
     "name": "stdout",
     "output_type": "stream",
     "text": [
      "[ 1  0  0  0  0 27]\n"
     ]
    }
   ],
   "source": [
    "mod_array = np.mod(array_1, array_2)\n",
    "print(mod_array)"
   ]
  },
  {
   "cell_type": "code",
   "execution_count": 34,
   "id": "ca9b8e83-cba0-4f08-821c-22ed13565301",
   "metadata": {},
   "outputs": [
    {
     "name": "stdout",
     "output_type": "stream",
     "text": [
      "[ 1  0  0  0  0 27]\n"
     ]
    }
   ],
   "source": [
    "remainder_array = np.remainder(array_1, array_2)\n",
    "print(remainder_array)"
   ]
  },
  {
   "cell_type": "code",
   "execution_count": 35,
   "id": "ccd20e18-16bf-4d4f-b6bc-da0173f7071a",
   "metadata": {},
   "outputs": [
    {
     "name": "stdout",
     "output_type": "stream",
     "text": [
      "(array([ 3,  4,  3,  5, 25,  1]), array([ 1,  0,  0,  0,  0, 27]))\n"
     ]
    }
   ],
   "source": [
    "divmod_array = np.divmod(array_1, array_2)\n",
    "print(divmod_array)"
   ]
  },
  {
   "cell_type": "code",
   "execution_count": 36,
   "id": "20284a31-6c95-4b59-ac2c-242c04fdbd39",
   "metadata": {},
   "outputs": [
    {
     "name": "stdout",
     "output_type": "stream",
     "text": [
      "[1 2 1 2 3 4]\n"
     ]
    }
   ],
   "source": [
    "array = np.array([-1, -2, 1, 2, 3, -4])\n",
    "\n",
    "abs_array = np.absolute(array)\n",
    "print(abs_array)"
   ]
  },
  {
   "cell_type": "markdown",
   "id": "f6af825c-8dc3-4fa4-9437-021a3c888b17",
   "metadata": {},
   "source": [
    "**==================== NumPy Universal Functions ====================**"
   ]
  },
  {
   "cell_type": "code",
   "execution_count": 37,
   "id": "f3a58d83-bf87-4629-832e-7ab3db40f887",
   "metadata": {},
   "outputs": [
    {
     "name": "stdout",
     "output_type": "stream",
     "text": [
      "[-3.  3.]\n"
     ]
    }
   ],
   "source": [
    "array = np.trunc([-3.1666, 3.6667])\n",
    "print(array)"
   ]
  },
  {
   "cell_type": "code",
   "execution_count": 38,
   "id": "3acce844-98a8-4247-9013-0962382c8744",
   "metadata": {},
   "outputs": [
    {
     "name": "stdout",
     "output_type": "stream",
     "text": [
      "[-3.  3.]\n"
     ]
    }
   ],
   "source": [
    "array = np.fix([-3.1666, 3.6667])\n",
    "print(array)"
   ]
  },
  {
   "cell_type": "code",
   "execution_count": 39,
   "id": "6bc268db-2679-4fe6-a45e-bc611eea885b",
   "metadata": {},
   "outputs": [
    {
     "name": "stdout",
     "output_type": "stream",
     "text": [
      "3.17\n"
     ]
    }
   ],
   "source": [
    "array = np.around(3.1666, 2)\n",
    "print(array)"
   ]
  },
  {
   "cell_type": "code",
   "execution_count": 40,
   "id": "0a2f18d3-62e9-4e81-9ad4-405fbc2c4134",
   "metadata": {},
   "outputs": [
    {
     "name": "stdout",
     "output_type": "stream",
     "text": [
      "[-4.  3.]\n"
     ]
    }
   ],
   "source": [
    "array = np.floor([-3.1666, 3.6667])\n",
    "print(array)"
   ]
  },
  {
   "cell_type": "code",
   "execution_count": 41,
   "id": "2ec695ce-ace2-48b3-914f-f1195023eb70",
   "metadata": {},
   "outputs": [
    {
     "name": "stdout",
     "output_type": "stream",
     "text": [
      "[-3.  4.]\n"
     ]
    }
   ],
   "source": [
    "array = np.ceil([-3.1666, 3.6667])\n",
    "print(array)"
   ]
  }
 ],
 "metadata": {
  "kernelspec": {
   "display_name": "Python 3 (ipykernel)",
   "language": "python",
   "name": "python3"
  },
  "language_info": {
   "codemirror_mode": {
    "name": "ipython",
    "version": 3
   },
   "file_extension": ".py",
   "mimetype": "text/x-python",
   "name": "python",
   "nbconvert_exporter": "python",
   "pygments_lexer": "ipython3",
   "version": "3.12.1"
  }
 },
 "nbformat": 4,
 "nbformat_minor": 5
}
