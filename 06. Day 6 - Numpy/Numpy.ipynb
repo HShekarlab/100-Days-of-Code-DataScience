{
 "cells": [
  {
   "cell_type": "markdown",
   "id": "4c71c0ef-de52-4c67-8539-bb4f66163ead",
   "metadata": {},
   "source": [
    "**==================== Numpy ====================**"
   ]
  },
  {
   "cell_type": "code",
   "execution_count": 1,
   "id": "ccb39162-c303-406b-a3f7-dd54515d0de0",
   "metadata": {},
   "outputs": [],
   "source": [
    "import numpy as np"
   ]
  },
  {
   "cell_type": "code",
   "execution_count": 2,
   "id": "32d7bf42-1728-4fc6-9549-1534e3b5d3d5",
   "metadata": {},
   "outputs": [
    {
     "data": {
      "text/plain": [
       "'1.26.3'"
      ]
     },
     "execution_count": 2,
     "metadata": {},
     "output_type": "execute_result"
    }
   ],
   "source": [
    "np.__version__"
   ]
  },
  {
   "cell_type": "code",
   "execution_count": 3,
   "id": "91a559f1-0067-4a8d-b959-5bd3b577fc5e",
   "metadata": {},
   "outputs": [
    {
     "data": {
      "text/plain": [
       "array([1, 2, 3, 4, 5, 6, 7])"
      ]
     },
     "execution_count": 3,
     "metadata": {},
     "output_type": "execute_result"
    }
   ],
   "source": [
    "array = np.array([1, 2, 3, 4, 5, 6, 7])\n",
    "array"
   ]
  },
  {
   "cell_type": "code",
   "execution_count": 4,
   "id": "b9445d8f-79ab-456b-aa6f-5985aae9103e",
   "metadata": {},
   "outputs": [
    {
     "data": {
      "text/plain": [
       "numpy.ndarray"
      ]
     },
     "execution_count": 4,
     "metadata": {},
     "output_type": "execute_result"
    }
   ],
   "source": [
    "type(array)"
   ]
  },
  {
   "cell_type": "code",
   "execution_count": 5,
   "id": "9cd33614-209f-43d1-a739-f7e998eb73fb",
   "metadata": {},
   "outputs": [
    {
     "name": "stdout",
     "output_type": "stream",
     "text": [
      "<class 'numpy.ndarray'>\n"
     ]
    }
   ],
   "source": [
    "print(type(array))"
   ]
  },
  {
   "cell_type": "markdown",
   "id": "0663b054-5eec-49b1-9190-3020c38d26e8",
   "metadata": {},
   "source": [
    "**==================== NumPy Array Slicing ====================**"
   ]
  },
  {
   "cell_type": "code",
   "execution_count": 6,
   "id": "d51906f0-fb2c-42c0-afe6-9fb0e9b51da9",
   "metadata": {},
   "outputs": [
    {
     "data": {
      "text/plain": [
       "array([2, 3, 4, 5])"
      ]
     },
     "execution_count": 6,
     "metadata": {},
     "output_type": "execute_result"
    }
   ],
   "source": [
    "array[1: 5]"
   ]
  },
  {
   "cell_type": "code",
   "execution_count": 7,
   "id": "5b7426dc-fa90-4fbc-95dd-cd1aea943cc3",
   "metadata": {},
   "outputs": [
    {
     "data": {
      "text/plain": [
       "array([5, 6, 7])"
      ]
     },
     "execution_count": 7,
     "metadata": {},
     "output_type": "execute_result"
    }
   ],
   "source": [
    "array[4: ]"
   ]
  },
  {
   "cell_type": "code",
   "execution_count": 8,
   "id": "897c89c9-ce75-4392-aff3-1a7dfe114a38",
   "metadata": {},
   "outputs": [
    {
     "data": {
      "text/plain": [
       "array([1, 2, 3, 4])"
      ]
     },
     "execution_count": 8,
     "metadata": {},
     "output_type": "execute_result"
    }
   ],
   "source": [
    "array[: 4]"
   ]
  },
  {
   "cell_type": "code",
   "execution_count": 9,
   "id": "354b4c0e-17a1-41f6-b424-2b7381b07091",
   "metadata": {},
   "outputs": [
    {
     "data": {
      "text/plain": [
       "array([5, 6])"
      ]
     },
     "execution_count": 9,
     "metadata": {},
     "output_type": "execute_result"
    }
   ],
   "source": [
    "array[-3: -1]"
   ]
  },
  {
   "cell_type": "code",
   "execution_count": 10,
   "id": "da767768-0c82-423d-9781-95f55dd2838e",
   "metadata": {},
   "outputs": [
    {
     "data": {
      "text/plain": [
       "array([2, 4])"
      ]
     },
     "execution_count": 10,
     "metadata": {},
     "output_type": "execute_result"
    }
   ],
   "source": [
    "array[1: 5: 2]"
   ]
  },
  {
   "cell_type": "code",
   "execution_count": 11,
   "id": "9f33070a-fff1-4b9f-b516-6be68cca48f4",
   "metadata": {},
   "outputs": [
    {
     "data": {
      "text/plain": [
       "array([1, 3, 5, 7])"
      ]
     },
     "execution_count": 11,
     "metadata": {},
     "output_type": "execute_result"
    }
   ],
   "source": [
    "array[: : 2]"
   ]
  },
  {
   "cell_type": "code",
   "execution_count": 12,
   "id": "a9348edd-6e45-41f9-935e-f42953dfef71",
   "metadata": {},
   "outputs": [
    {
     "data": {
      "text/plain": [
       "array([1, 2])"
      ]
     },
     "execution_count": 12,
     "metadata": {},
     "output_type": "execute_result"
    }
   ],
   "source": [
    "array[0: 2]"
   ]
  },
  {
   "cell_type": "markdown",
   "id": "947d8629-d155-47ee-8ec2-b059461753ae",
   "metadata": {},
   "source": [
    "**==================== Dimensions Array ====================**"
   ]
  },
  {
   "cell_type": "code",
   "execution_count": 13,
   "id": "8e2e2360-98db-4893-b193-c8d6b2f99270",
   "metadata": {},
   "outputs": [
    {
     "data": {
      "text/plain": [
       "0"
      ]
     },
     "execution_count": 13,
     "metadata": {},
     "output_type": "execute_result"
    }
   ],
   "source": [
    "D_0 = np.array(42) \n",
    "D_0.ndim"
   ]
  },
  {
   "cell_type": "code",
   "execution_count": 14,
   "id": "481ba5b4-bc32-41d5-9884-ddafc84d83e3",
   "metadata": {},
   "outputs": [
    {
     "data": {
      "text/plain": [
       "()"
      ]
     },
     "execution_count": 14,
     "metadata": {},
     "output_type": "execute_result"
    }
   ],
   "source": [
    "D_0.shape"
   ]
  },
  {
   "cell_type": "code",
   "execution_count": 15,
   "id": "9f5a7675-d65c-4018-a573-55bf7252cf5e",
   "metadata": {},
   "outputs": [
    {
     "data": {
      "text/plain": [
       "1"
      ]
     },
     "execution_count": 15,
     "metadata": {},
     "output_type": "execute_result"
    }
   ],
   "source": [
    "D_0.size"
   ]
  },
  {
   "cell_type": "code",
   "execution_count": 16,
   "id": "d1938f39-7e95-435e-a82d-3995198b16fa",
   "metadata": {},
   "outputs": [
    {
     "data": {
      "text/plain": [
       "1"
      ]
     },
     "execution_count": 16,
     "metadata": {},
     "output_type": "execute_result"
    }
   ],
   "source": [
    "D_1 = np.array([1, 2, 3, 4, 5]) \n",
    "D_1.ndim"
   ]
  },
  {
   "cell_type": "code",
   "execution_count": 17,
   "id": "cabbeb49-e6eb-4745-981c-a04e6958296e",
   "metadata": {},
   "outputs": [
    {
     "data": {
      "text/plain": [
       "(5,)"
      ]
     },
     "execution_count": 17,
     "metadata": {},
     "output_type": "execute_result"
    }
   ],
   "source": [
    "D_1.shape"
   ]
  },
  {
   "cell_type": "code",
   "execution_count": 18,
   "id": "d68d93e5-47a4-4c8f-b6d3-67fc17ec81dd",
   "metadata": {},
   "outputs": [
    {
     "data": {
      "text/plain": [
       "5"
      ]
     },
     "execution_count": 18,
     "metadata": {},
     "output_type": "execute_result"
    }
   ],
   "source": [
    "D_1.size"
   ]
  },
  {
   "cell_type": "code",
   "execution_count": 19,
   "id": "c7324d45-ba8b-4960-9034-fe3c615d6da8",
   "metadata": {},
   "outputs": [
    {
     "data": {
      "text/plain": [
       "2"
      ]
     },
     "execution_count": 19,
     "metadata": {},
     "output_type": "execute_result"
    }
   ],
   "source": [
    "D_2 = np.array([[1, 2, 3], [4, 5, 6]]) \n",
    "D_2.ndim"
   ]
  },
  {
   "cell_type": "code",
   "execution_count": 20,
   "id": "c6fffcbb-0443-4bb5-9240-c5f674180d1d",
   "metadata": {},
   "outputs": [
    {
     "data": {
      "text/plain": [
       "(2, 3)"
      ]
     },
     "execution_count": 20,
     "metadata": {},
     "output_type": "execute_result"
    }
   ],
   "source": [
    "D_2.shape"
   ]
  },
  {
   "cell_type": "code",
   "execution_count": 21,
   "id": "ba9b8d0a-13be-409d-86ba-4ca1f78969c6",
   "metadata": {},
   "outputs": [
    {
     "data": {
      "text/plain": [
       "6"
      ]
     },
     "execution_count": 21,
     "metadata": {},
     "output_type": "execute_result"
    }
   ],
   "source": [
    "D_2.size"
   ]
  },
  {
   "cell_type": "code",
   "execution_count": 22,
   "id": "6707a158-3cbc-4c6b-88dd-6805084d3296",
   "metadata": {},
   "outputs": [
    {
     "data": {
      "text/plain": [
       "3"
      ]
     },
     "execution_count": 22,
     "metadata": {},
     "output_type": "execute_result"
    }
   ],
   "source": [
    "D_3 = np.array([[[1, 2, 3], [4, 5, 6]], [[1, 2, 3], [4, 5, 6]]])\n",
    "D_3.ndim"
   ]
  },
  {
   "cell_type": "code",
   "execution_count": 23,
   "id": "95f5cf37-bf1d-42dd-8dee-a9ca6affb88d",
   "metadata": {},
   "outputs": [
    {
     "data": {
      "text/plain": [
       "(2, 2, 3)"
      ]
     },
     "execution_count": 23,
     "metadata": {},
     "output_type": "execute_result"
    }
   ],
   "source": [
    "D_3.shape"
   ]
  },
  {
   "cell_type": "code",
   "execution_count": 24,
   "id": "d2905eee-f907-4ee0-b750-094eaa2ebece",
   "metadata": {},
   "outputs": [
    {
     "data": {
      "text/plain": [
       "12"
      ]
     },
     "execution_count": 24,
     "metadata": {},
     "output_type": "execute_result"
    }
   ],
   "source": [
    "D_3.size"
   ]
  },
  {
   "cell_type": "markdown",
   "id": "a5cf071f-9972-48d8-9f74-5176f5cb6606",
   "metadata": {},
   "source": [
    "**==================== NumPy Array Copy vs View ====================**"
   ]
  },
  {
   "cell_type": "code",
   "execution_count": 25,
   "id": "39884d10-aa95-4bf1-9c5b-d4366d2399a9",
   "metadata": {},
   "outputs": [
    {
     "name": "stdout",
     "output_type": "stream",
     "text": [
      "[20  2  3  4  5]\n",
      "[1 2 3 4 5]\n"
     ]
    }
   ],
   "source": [
    "array = np.array([1, 2, 3, 4, 5])\n",
    "\n",
    "x = array.copy()\n",
    "array[0] = 20\n",
    "\n",
    "print(array)\n",
    "print(x)"
   ]
  },
  {
   "cell_type": "code",
   "execution_count": 26,
   "id": "32d46f19-0d6a-405d-b3a2-e6d1e04b5eb3",
   "metadata": {},
   "outputs": [
    {
     "name": "stdout",
     "output_type": "stream",
     "text": [
      "[74  2  3  4  5  6]\n",
      "[74  2  3  4  5  6]\n"
     ]
    }
   ],
   "source": [
    "array = np.array([1, 2, 3, 4, 5, 6])\n",
    "\n",
    "x = array.view()\n",
    "array[0] = 74\n",
    "\n",
    "print(array)\n",
    "print(x)"
   ]
  },
  {
   "cell_type": "code",
   "execution_count": 27,
   "id": "66efb2c2-fc60-4ae5-8fa6-cd4ec68be018",
   "metadata": {},
   "outputs": [
    {
     "name": "stdout",
     "output_type": "stream",
     "text": [
      "[74 90  3  4  5  6]\n",
      "[74 90  3  4  5  6]\n"
     ]
    }
   ],
   "source": [
    "x = array.view()\n",
    "array[1] = 90\n",
    "\n",
    "print(array)\n",
    "print(x)"
   ]
  },
  {
   "cell_type": "code",
   "execution_count": 28,
   "id": "3595dd9d-5d32-4bbe-af61-a3cb3c1daab9",
   "metadata": {},
   "outputs": [],
   "source": [
    "array_1 = np.array([1, 2, 3])\n",
    "array_2 = np.array([4, 5, 6])"
   ]
  },
  {
   "cell_type": "markdown",
   "id": "70418952-77dd-404a-b2c5-0d9ed3644dce",
   "metadata": {},
   "source": [
    "**==================== joining Numpy Array ====================**"
   ]
  },
  {
   "cell_type": "code",
   "execution_count": 29,
   "id": "60265cda-c534-4164-9ef2-fd5bf368fe66",
   "metadata": {},
   "outputs": [
    {
     "name": "stdout",
     "output_type": "stream",
     "text": [
      "[1 2 3 4 5 6]\n"
     ]
    }
   ],
   "source": [
    "array_concat = np.concatenate((array_1, array_2))\n",
    "\n",
    "print(array_concat)"
   ]
  },
  {
   "cell_type": "code",
   "execution_count": 30,
   "id": "4f90e080-1ec5-4724-be0b-8b6a4ac19529",
   "metadata": {},
   "outputs": [
    {
     "name": "stdout",
     "output_type": "stream",
     "text": [
      "[[1 4]\n",
      " [2 5]\n",
      " [3 6]]\n"
     ]
    }
   ],
   "source": [
    "array_stack = np.stack((array_1, array_2), axis= 1)\n",
    "\n",
    "print(array_stack)"
   ]
  },
  {
   "cell_type": "code",
   "execution_count": 31,
   "id": "4d97fd50-524f-4336-b68f-e3518f3730c2",
   "metadata": {},
   "outputs": [
    {
     "name": "stdout",
     "output_type": "stream",
     "text": [
      "[1 2 3 4 5 6]\n"
     ]
    }
   ],
   "source": [
    "array_hstack = np.hstack((array_1, array_2))\n",
    "\n",
    "print(array_hstack)"
   ]
  },
  {
   "cell_type": "code",
   "execution_count": 32,
   "id": "96f0c95a-221f-45f4-aff7-02813523605b",
   "metadata": {},
   "outputs": [
    {
     "name": "stdout",
     "output_type": "stream",
     "text": [
      "[[1 2 3]\n",
      " [4 5 6]]\n"
     ]
    }
   ],
   "source": [
    "array_vstack = np.vstack((array_1, array_2))\n",
    "\n",
    "print(array_vstack)"
   ]
  },
  {
   "cell_type": "code",
   "execution_count": 33,
   "id": "2fb153df-b1dd-496d-992a-0a45b8185ad2",
   "metadata": {},
   "outputs": [
    {
     "name": "stdout",
     "output_type": "stream",
     "text": [
      "[[[1 4]\n",
      "  [2 5]\n",
      "  [3 6]]]\n"
     ]
    }
   ],
   "source": [
    "array_dstack = np.dstack((array_1, array_2))\n",
    "\n",
    "print(array_dstack)"
   ]
  },
  {
   "cell_type": "markdown",
   "id": "2de6d449-048e-45d4-b57c-23d2ce789f8c",
   "metadata": {},
   "source": [
    "**==================== Searching Array ====================**"
   ]
  },
  {
   "cell_type": "code",
   "execution_count": 34,
   "id": "ed7dc882-5c23-4c63-aad7-1d70c8618c6f",
   "metadata": {},
   "outputs": [],
   "source": [
    "array = np.array([1, 2, 3, 4, 5, 6, 7, 8, 9, 10])"
   ]
  },
  {
   "cell_type": "code",
   "execution_count": 35,
   "id": "54dcf46c-7325-4a63-a85b-6e71d646eb39",
   "metadata": {},
   "outputs": [
    {
     "data": {
      "text/plain": [
       "(array([3], dtype=int64),)"
      ]
     },
     "execution_count": 35,
     "metadata": {},
     "output_type": "execute_result"
    }
   ],
   "source": [
    "np.where(array == 4)"
   ]
  },
  {
   "cell_type": "code",
   "execution_count": 36,
   "id": "efb6d3e4-a785-460c-b703-dc78c2f2a0c7",
   "metadata": {},
   "outputs": [
    {
     "data": {
      "text/plain": [
       "(array([1, 3, 5, 7, 9], dtype=int64),)"
      ]
     },
     "execution_count": 36,
     "metadata": {},
     "output_type": "execute_result"
    }
   ],
   "source": [
    "np.where(array %  2 == 0)"
   ]
  },
  {
   "cell_type": "code",
   "execution_count": 37,
   "id": "62028fd6-ee3b-4cc9-bd02-39b8bff2768a",
   "metadata": {},
   "outputs": [
    {
     "data": {
      "text/plain": [
       "(array([0, 2, 4, 6, 8], dtype=int64),)"
      ]
     },
     "execution_count": 37,
     "metadata": {},
     "output_type": "execute_result"
    }
   ],
   "source": [
    "np.where(array %  2 == 1)"
   ]
  },
  {
   "cell_type": "code",
   "execution_count": 38,
   "id": "5fe3c4a3-56b9-4c6a-9413-05f7571cf2f5",
   "metadata": {},
   "outputs": [
    {
     "data": {
      "text/plain": [
       "7"
      ]
     },
     "execution_count": 38,
     "metadata": {},
     "output_type": "execute_result"
    }
   ],
   "source": [
    "np.searchsorted(array, 8)"
   ]
  },
  {
   "cell_type": "markdown",
   "id": "a3a5014c-8275-44d0-95ba-bd310212676d",
   "metadata": {},
   "source": [
    "**==================== Sorting Array ====================**"
   ]
  },
  {
   "cell_type": "code",
   "execution_count": 39,
   "id": "7ad18d75-756a-42cd-a0d6-14065c449ae7",
   "metadata": {},
   "outputs": [
    {
     "name": "stdout",
     "output_type": "stream",
     "text": [
      "[33 14 85  1 74 11]\n",
      "[ 1 11 14 33 74 85]\n"
     ]
    }
   ],
   "source": [
    "array = np.array([33, 14, 85, 1, 74, 11])\n",
    "\n",
    "print(array)\n",
    "print(np.sort(array))"
   ]
  },
  {
   "cell_type": "code",
   "execution_count": 40,
   "id": "74ba2833-4b5b-4ad7-a8b0-592d2dea1bd0",
   "metadata": {},
   "outputs": [
    {
     "name": "stdout",
     "output_type": "stream",
     "text": [
      "[[ 5  1 10]\n",
      " [12  3  7]]\n",
      "[[ 1  5 10]\n",
      " [ 3  7 12]]\n"
     ]
    }
   ],
   "source": [
    "array = np.array([[5, 1, 10], [12, 3, 7]])\n",
    "\n",
    "print(array)\n",
    "print(np.sort(array))"
   ]
  },
  {
   "cell_type": "code",
   "execution_count": 41,
   "id": "ea9fe324-d77b-4572-89b0-2de953b42bc1",
   "metadata": {},
   "outputs": [
    {
     "name": "stdout",
     "output_type": "stream",
     "text": [
      "['lime' 'magenta' 'plum' 'purple' 'gray' 'navy blue' 'teal' 'silver']\n",
      "['gray' 'lime' 'magenta' 'navy blue' 'plum' 'purple' 'silver' 'teal']\n"
     ]
    }
   ],
   "source": [
    "array = np.array([\"lime\", \"magenta\", \"plum\", \"purple\", \"gray\", \"navy blue\", \"teal\", \"silver\"])\n",
    "\n",
    "print(array)\n",
    "print(np.sort(array))"
   ]
  },
  {
   "cell_type": "code",
   "execution_count": 42,
   "id": "ec906b1f-56c1-4bd7-95f9-ad424e913593",
   "metadata": {},
   "outputs": [
    {
     "name": "stdout",
     "output_type": "stream",
     "text": [
      "[ True False  True]\n",
      "[False  True  True]\n"
     ]
    }
   ],
   "source": [
    "array = np.array([True, False, True])\n",
    "\n",
    "print(array)\n",
    "print(np.sort(array))"
   ]
  },
  {
   "cell_type": "markdown",
   "id": "cfd70f20-281f-463d-8ff1-a56b29a4f741",
   "metadata": {},
   "source": [
    "**==================== Transpose Array ====================**"
   ]
  },
  {
   "cell_type": "code",
   "execution_count": 43,
   "id": "be0a526c-4f7f-4b4a-b45c-241da1c02d23",
   "metadata": {},
   "outputs": [
    {
     "data": {
      "text/plain": [
       "array([[[1, 2, 3],\n",
       "        [4, 5, 6],\n",
       "        [7, 8, 9]]])"
      ]
     },
     "execution_count": 43,
     "metadata": {},
     "output_type": "execute_result"
    }
   ],
   "source": [
    "array = np.array([[[1, 2, 3], [4, 5, 6], [7, 8, 9]]])\n",
    "array"
   ]
  },
  {
   "cell_type": "code",
   "execution_count": 44,
   "id": "68395d7b-59a9-4782-b997-058756fc9836",
   "metadata": {},
   "outputs": [
    {
     "data": {
      "text/plain": [
       "array([[[1],\n",
       "        [4],\n",
       "        [7]],\n",
       "\n",
       "       [[2],\n",
       "        [5],\n",
       "        [8]],\n",
       "\n",
       "       [[3],\n",
       "        [6],\n",
       "        [9]]])"
      ]
     },
     "execution_count": 44,
     "metadata": {},
     "output_type": "execute_result"
    }
   ],
   "source": [
    "array.transpose()"
   ]
  },
  {
   "cell_type": "markdown",
   "id": "fa0348a2-eafd-4306-8ea9-8397534dc083",
   "metadata": {},
   "source": [
    "**==================== Empty Array ====================**"
   ]
  },
  {
   "cell_type": "code",
   "execution_count": 45,
   "id": "ef4c3e5c-739f-465a-903a-1ff08279a8f3",
   "metadata": {},
   "outputs": [
    {
     "data": {
      "text/plain": [
       "array([[6.23042070e-307, 4.67296746e-307, 1.69121096e-306],\n",
       "       [8.90098127e-307, 6.23054972e-307, 2.22526399e-307],\n",
       "       [6.23053614e-307, 7.56592338e-307, 5.33590898e-322]])"
      ]
     },
     "execution_count": 45,
     "metadata": {},
     "output_type": "execute_result"
    }
   ],
   "source": [
    "np.empty((3, 3))"
   ]
  },
  {
   "cell_type": "code",
   "execution_count": 46,
   "id": "8298c7d8-c637-4148-a016-045a79453060",
   "metadata": {},
   "outputs": [
    {
     "data": {
      "text/plain": [
       "array([[4128860, 6029375, 3801155],\n",
       "       [5570652, 6619251, 7536754],\n",
       "       [4718684, 6553701, 7929961]])"
      ]
     },
     "execution_count": 46,
     "metadata": {},
     "output_type": "execute_result"
    }
   ],
   "source": [
    "np.empty((3, 3), dtype= int)"
   ]
  },
  {
   "cell_type": "markdown",
   "id": "13a97050-d655-4282-996c-58d3bc76c0ef",
   "metadata": {},
   "source": [
    "**==================== Ones Array ====================**"
   ]
  },
  {
   "cell_type": "code",
   "execution_count": 47,
   "id": "0ab14b1c-b27e-40ed-8baa-f85bd1b77964",
   "metadata": {},
   "outputs": [
    {
     "data": {
      "text/plain": [
       "array([1., 1., 1., 1., 1.])"
      ]
     },
     "execution_count": 47,
     "metadata": {},
     "output_type": "execute_result"
    }
   ],
   "source": [
    "np.ones(5)"
   ]
  },
  {
   "cell_type": "code",
   "execution_count": 48,
   "id": "37e193b2-7bf6-4821-ab42-abb7d5321529",
   "metadata": {},
   "outputs": [
    {
     "data": {
      "text/plain": [
       "array([[1., 1., 1., 1.],\n",
       "       [1., 1., 1., 1.],\n",
       "       [1., 1., 1., 1.]])"
      ]
     },
     "execution_count": 48,
     "metadata": {},
     "output_type": "execute_result"
    }
   ],
   "source": [
    "np.ones((3, 4))"
   ]
  },
  {
   "cell_type": "code",
   "execution_count": 49,
   "id": "42bb8051-364c-40f5-8bf2-207087d9202a",
   "metadata": {},
   "outputs": [
    {
     "data": {
      "text/plain": [
       "array([[1, 1, 1, 1],\n",
       "       [1, 1, 1, 1],\n",
       "       [1, 1, 1, 1]])"
      ]
     },
     "execution_count": 49,
     "metadata": {},
     "output_type": "execute_result"
    }
   ],
   "source": [
    "np.ones((3, 4), dtype= int)"
   ]
  },
  {
   "cell_type": "code",
   "execution_count": 50,
   "id": "42479fca-c860-4f16-98ac-6f576c804b86",
   "metadata": {},
   "outputs": [
    {
     "data": {
      "text/plain": [
       "array([[ True,  True,  True,  True],\n",
       "       [ True,  True,  True,  True],\n",
       "       [ True,  True,  True,  True]])"
      ]
     },
     "execution_count": 50,
     "metadata": {},
     "output_type": "execute_result"
    }
   ],
   "source": [
    "np.ones((3, 4), dtype= bool)"
   ]
  },
  {
   "cell_type": "markdown",
   "id": "b10b7b64-100a-4fc5-9b4a-b0abc479aa82",
   "metadata": {},
   "source": [
    "**==================== Zeros Array ====================**"
   ]
  },
  {
   "cell_type": "code",
   "execution_count": 51,
   "id": "f97fe2e1-a2a1-4707-b025-1d58cabad3c4",
   "metadata": {},
   "outputs": [
    {
     "data": {
      "text/plain": [
       "array([0., 0., 0., 0.])"
      ]
     },
     "execution_count": 51,
     "metadata": {},
     "output_type": "execute_result"
    }
   ],
   "source": [
    "np.zeros(4)"
   ]
  },
  {
   "cell_type": "code",
   "execution_count": 52,
   "id": "91ff00da-9160-403b-a880-a8bee7d257b3",
   "metadata": {},
   "outputs": [
    {
     "data": {
      "text/plain": [
       "array([[0., 0., 0., 0.],\n",
       "       [0., 0., 0., 0.],\n",
       "       [0., 0., 0., 0.]])"
      ]
     },
     "execution_count": 52,
     "metadata": {},
     "output_type": "execute_result"
    }
   ],
   "source": [
    "np.zeros((3, 4))"
   ]
  },
  {
   "cell_type": "code",
   "execution_count": 53,
   "id": "6fa6ba51-f567-4b6a-9fec-5adb7050d0cd",
   "metadata": {},
   "outputs": [
    {
     "data": {
      "text/plain": [
       "array([[0, 0, 0, 0],\n",
       "       [0, 0, 0, 0],\n",
       "       [0, 0, 0, 0]])"
      ]
     },
     "execution_count": 53,
     "metadata": {},
     "output_type": "execute_result"
    }
   ],
   "source": [
    "np.zeros((3, 4), dtype= int)"
   ]
  },
  {
   "cell_type": "code",
   "execution_count": 54,
   "id": "216597fd-83fc-4caa-9dcc-93f085cc3b94",
   "metadata": {},
   "outputs": [
    {
     "data": {
      "text/plain": [
       "array([[False, False, False, False],\n",
       "       [False, False, False, False],\n",
       "       [False, False, False, False]])"
      ]
     },
     "execution_count": 54,
     "metadata": {},
     "output_type": "execute_result"
    }
   ],
   "source": [
    "np.zeros((3, 4), dtype= bool)"
   ]
  }
 ],
 "metadata": {
  "kernelspec": {
   "display_name": "Python 3 (ipykernel)",
   "language": "python",
   "name": "python3"
  },
  "language_info": {
   "codemirror_mode": {
    "name": "ipython",
    "version": 3
   },
   "file_extension": ".py",
   "mimetype": "text/x-python",
   "name": "python",
   "nbconvert_exporter": "python",
   "pygments_lexer": "ipython3",
   "version": "3.12.1"
  }
 },
 "nbformat": 4,
 "nbformat_minor": 5
}
