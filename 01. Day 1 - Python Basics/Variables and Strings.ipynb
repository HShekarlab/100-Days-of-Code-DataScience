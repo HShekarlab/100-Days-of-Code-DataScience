{
 "cells": [
  {
   "cell_type": "markdown",
   "id": "3fdced29-0a09-416f-9cda-c1da71ae18e6",
   "metadata": {},
   "source": [
    "**==================== Python Variables and Strings ====================**"
   ]
  },
  {
   "cell_type": "code",
   "execution_count": 1,
   "id": "ed34946a-e657-4458-9e38-307c678a007f",
   "metadata": {},
   "outputs": [],
   "source": [
    "a = 7"
   ]
  },
  {
   "cell_type": "code",
   "execution_count": 2,
   "id": "1dcd6975-cb67-4748-855f-9d74a347098c",
   "metadata": {},
   "outputs": [
    {
     "data": {
      "text/plain": [
       "7"
      ]
     },
     "execution_count": 2,
     "metadata": {},
     "output_type": "execute_result"
    }
   ],
   "source": [
    "a"
   ]
  },
  {
   "cell_type": "code",
   "execution_count": 3,
   "id": "402e40a6-2761-4ebd-a171-b018079ba946",
   "metadata": {},
   "outputs": [
    {
     "data": {
      "text/plain": [
       "int"
      ]
     },
     "execution_count": 3,
     "metadata": {},
     "output_type": "execute_result"
    }
   ],
   "source": [
    "type(a)"
   ]
  },
  {
   "cell_type": "code",
   "execution_count": 4,
   "id": "48e86ba3-b628-4cfb-bffe-3cfae8bbee5b",
   "metadata": {},
   "outputs": [],
   "source": [
    "b = 3.8"
   ]
  },
  {
   "cell_type": "code",
   "execution_count": 5,
   "id": "60264ca1-9b79-4dd3-aa23-731d27bf93cb",
   "metadata": {},
   "outputs": [
    {
     "data": {
      "text/plain": [
       "3.8"
      ]
     },
     "execution_count": 5,
     "metadata": {},
     "output_type": "execute_result"
    }
   ],
   "source": [
    "b"
   ]
  },
  {
   "cell_type": "code",
   "execution_count": 6,
   "id": "e59b257a-5d60-4d36-b6b3-fe6d6f220648",
   "metadata": {},
   "outputs": [
    {
     "data": {
      "text/plain": [
       "float"
      ]
     },
     "execution_count": 6,
     "metadata": {},
     "output_type": "execute_result"
    }
   ],
   "source": [
    "type(b)"
   ]
  },
  {
   "cell_type": "code",
   "execution_count": 7,
   "id": "bad0c45d-2647-469d-86c8-d26f105ee423",
   "metadata": {},
   "outputs": [],
   "source": [
    "c = \"Data Science\""
   ]
  },
  {
   "cell_type": "code",
   "execution_count": 8,
   "id": "eaf164e0-8a5d-4244-81e5-9b40568b0ab1",
   "metadata": {},
   "outputs": [
    {
     "data": {
      "text/plain": [
       "'Data Science'"
      ]
     },
     "execution_count": 8,
     "metadata": {},
     "output_type": "execute_result"
    }
   ],
   "source": [
    "c"
   ]
  },
  {
   "cell_type": "code",
   "execution_count": 9,
   "id": "fec721e1-1aa4-4b4b-b009-ae53dc6229a8",
   "metadata": {},
   "outputs": [
    {
     "data": {
      "text/plain": [
       "str"
      ]
     },
     "execution_count": 9,
     "metadata": {},
     "output_type": "execute_result"
    }
   ],
   "source": [
    "type(c)"
   ]
  },
  {
   "cell_type": "code",
   "execution_count": 10,
   "id": "a5b47ebc-526d-459d-931c-12d274a8566a",
   "metadata": {},
   "outputs": [
    {
     "data": {
      "text/plain": [
       "'Science'"
      ]
     },
     "execution_count": 10,
     "metadata": {},
     "output_type": "execute_result"
    }
   ],
   "source": [
    "c[5: ]"
   ]
  },
  {
   "cell_type": "code",
   "execution_count": 11,
   "id": "7dd67de8-c1bb-4897-aa76-0f0bb1dfce16",
   "metadata": {},
   "outputs": [
    {
     "data": {
      "text/plain": [
       "'ence'"
      ]
     },
     "execution_count": 11,
     "metadata": {},
     "output_type": "execute_result"
    }
   ],
   "source": [
    "c[-4: ]"
   ]
  },
  {
   "cell_type": "code",
   "execution_count": 12,
   "id": "b1005256-0927-4354-9b02-bf5cca8a1dba",
   "metadata": {},
   "outputs": [
    {
     "data": {
      "text/plain": [
       "12"
      ]
     },
     "execution_count": 12,
     "metadata": {},
     "output_type": "execute_result"
    }
   ],
   "source": [
    "len(c)"
   ]
  },
  {
   "cell_type": "code",
   "execution_count": 13,
   "id": "3f2d4a68-99f3-4dd2-a15a-44f7f1c3636f",
   "metadata": {},
   "outputs": [
    {
     "data": {
      "text/plain": [
       "str"
      ]
     },
     "execution_count": 13,
     "metadata": {},
     "output_type": "execute_result"
    }
   ],
   "source": [
    "d = \"49\"\n",
    "type(d)"
   ]
  },
  {
   "cell_type": "code",
   "execution_count": 14,
   "id": "74ac376f-16f1-439b-a000-4c692ad6274f",
   "metadata": {},
   "outputs": [
    {
     "data": {
      "text/plain": [
       "int"
      ]
     },
     "execution_count": 14,
     "metadata": {},
     "output_type": "execute_result"
    }
   ],
   "source": [
    "type(int(d))"
   ]
  },
  {
   "cell_type": "code",
   "execution_count": 15,
   "id": "6c4808eb-f94d-4f0c-b4e4-2555fb803dd8",
   "metadata": {},
   "outputs": [
    {
     "data": {
      "text/plain": [
       "'Hello, World!'"
      ]
     },
     "execution_count": 15,
     "metadata": {},
     "output_type": "execute_result"
    }
   ],
   "source": [
    "e = \"Hello, World!\"\n",
    "e"
   ]
  },
  {
   "cell_type": "code",
   "execution_count": 16,
   "id": "3f1d9f3c-1b25-4c36-8a53-e81dcd172962",
   "metadata": {},
   "outputs": [
    {
     "data": {
      "text/plain": [
       "'lo, W'"
      ]
     },
     "execution_count": 16,
     "metadata": {},
     "output_type": "execute_result"
    }
   ],
   "source": [
    "e[3: 8]"
   ]
  },
  {
   "cell_type": "code",
   "execution_count": 17,
   "id": "c2fc2701-d693-4963-9b6b-661e3beb926d",
   "metadata": {},
   "outputs": [
    {
     "name": "stdout",
     "output_type": "stream",
     "text": [
      "Before stripping:    Hello World     \n",
      "After stripping: Hello World\n"
     ]
    }
   ],
   "source": [
    "text = \"   Hello World     \"\n",
    "\n",
    "print(\"Before stripping:\", text)\n",
    "\n",
    "text_1 = text.strip()\n",
    "\n",
    "print(\"After stripping:\", text_1)"
   ]
  },
  {
   "cell_type": "code",
   "execution_count": 18,
   "id": "2b7287bb-112a-4170-b807-71d56796389f",
   "metadata": {},
   "outputs": [
    {
     "name": "stdout",
     "output_type": "stream",
     "text": [
      "Before stripping:    Hello World     \n",
      "After stripping: Hello World\n"
     ]
    }
   ],
   "source": [
    "text = \"   Hello World     \"\n",
    "\n",
    "print(\"Before stripping:\", text)\n",
    "\n",
    "print(\"After stripping:\", text.strip())"
   ]
  },
  {
   "cell_type": "code",
   "execution_count": 19,
   "id": "7ef37ce5-8c01-49ef-89bf-e3251fa7cd10",
   "metadata": {},
   "outputs": [
    {
     "data": {
      "text/plain": [
       "['2024', '02', '05']"
      ]
     },
     "execution_count": 19,
     "metadata": {},
     "output_type": "execute_result"
    }
   ],
   "source": [
    "date = \"2024-02-05\"\n",
    "\n",
    "date.split(\"-\")"
   ]
  },
  {
   "cell_type": "code",
   "execution_count": 20,
   "id": "5668e74e-316a-492d-a821-f83350ee1d8a",
   "metadata": {},
   "outputs": [
    {
     "name": "stdout",
     "output_type": "stream",
     "text": [
      "DataScience\n"
     ]
    }
   ],
   "source": [
    "first = \"Data\"\n",
    "second = \"Science\"\n",
    "\n",
    "print(first + second)"
   ]
  },
  {
   "cell_type": "code",
   "execution_count": 21,
   "id": "59bd028d-a07c-4236-ac26-824ac658da81",
   "metadata": {},
   "outputs": [
    {
     "name": "stdout",
     "output_type": "stream",
     "text": [
      "Data Science\n"
     ]
    }
   ],
   "source": [
    "first = \"Data\"\n",
    "second = \"Science\"\n",
    "third = first + \" \" + second\n",
    "\n",
    "print(third)"
   ]
  },
  {
   "cell_type": "code",
   "execution_count": 22,
   "id": "3f83b02d-7e06-4cfa-a291-348844f1ffcd",
   "metadata": {},
   "outputs": [
    {
     "name": "stdout",
     "output_type": "stream",
     "text": [
      "*Data* *Science*\n"
     ]
    }
   ],
   "source": [
    "first = \"Data\"\n",
    "second = \"Science\"\n",
    "third = \"*\" + first + \"*\" + \" \" + \"*\" + second + \"*\"\n",
    "\n",
    "print(third)"
   ]
  },
  {
   "cell_type": "code",
   "execution_count": 23,
   "id": "00698ac3-3abc-4751-a70a-42f94af6dc80",
   "metadata": {},
   "outputs": [
    {
     "name": "stdout",
     "output_type": "stream",
     "text": [
      " information information data data\n"
     ]
    }
   ],
   "source": [
    "txt = \" data data data data\"\n",
    "new_txt = txt.replace(\"data\", \"information\", 2)\n",
    "print(new_txt)"
   ]
  }
 ],
 "metadata": {
  "kernelspec": {
   "display_name": "Python 3 (ipykernel)",
   "language": "python",
   "name": "python3"
  },
  "language_info": {
   "codemirror_mode": {
    "name": "ipython",
    "version": 3
   },
   "file_extension": ".py",
   "mimetype": "text/x-python",
   "name": "python",
   "nbconvert_exporter": "python",
   "pygments_lexer": "ipython3",
   "version": "3.12.1"
  }
 },
 "nbformat": 4,
 "nbformat_minor": 5
}
