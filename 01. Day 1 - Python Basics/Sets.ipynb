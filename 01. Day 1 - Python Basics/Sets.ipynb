{
 "cells": [
  {
   "cell_type": "markdown",
   "id": "c2fce0d1-1f21-452e-9ac2-4a52bda6b068",
   "metadata": {},
   "source": [
    "**==================== Python Sets ====================**"
   ]
  },
  {
   "cell_type": "code",
   "execution_count": 1,
   "id": "a57b132b-941a-4a33-a416-ca5a97a699fe",
   "metadata": {},
   "outputs": [
    {
     "data": {
      "text/plain": [
       "{'gray', 'lime', 'magenta', 'plum', 'purple'}"
      ]
     },
     "execution_count": 1,
     "metadata": {},
     "output_type": "execute_result"
    }
   ],
   "source": [
    "colors = {\"lime\", \"magenta\", \"plum\", \"purple\", \"gray\"}\n",
    "colors"
   ]
  },
  {
   "cell_type": "code",
   "execution_count": 2,
   "id": "cf416f3f-5166-44fc-8a0d-f812b4069e70",
   "metadata": {},
   "outputs": [
    {
     "data": {
      "text/plain": [
       "5"
      ]
     },
     "execution_count": 2,
     "metadata": {},
     "output_type": "execute_result"
    }
   ],
   "source": [
    "len(colors)"
   ]
  },
  {
   "cell_type": "code",
   "execution_count": 3,
   "id": "e3b5ab89-0d46-4bf3-8641-a87e06a2ed13",
   "metadata": {},
   "outputs": [
    {
     "data": {
      "text/plain": [
       "set"
      ]
     },
     "execution_count": 3,
     "metadata": {},
     "output_type": "execute_result"
    }
   ],
   "source": [
    "type(colors)"
   ]
  },
  {
   "cell_type": "code",
   "execution_count": 4,
   "id": "9116d157-6b8f-4269-a5a3-a26a54859903",
   "metadata": {},
   "outputs": [
    {
     "data": {
      "text/plain": [
       "{0, 5, 8, True, 'gray', 'lime', 'magenta', 'plum', 'purple'}"
      ]
     },
     "execution_count": 4,
     "metadata": {},
     "output_type": "execute_result"
    }
   ],
   "source": [
    "colors = {\"lime\", \"magenta\", \"plum\", \"purple\", \"gray\", 0, True, False, 8, 5}\n",
    "colors"
   ]
  },
  {
   "cell_type": "code",
   "execution_count": 5,
   "id": "487da8fa-0372-497b-adb7-2e7174637c31",
   "metadata": {},
   "outputs": [
    {
     "data": {
      "text/plain": [
       "{'gray', 'lime', 'magenta', 'plum', 'purple'}"
      ]
     },
     "execution_count": 5,
     "metadata": {},
     "output_type": "execute_result"
    }
   ],
   "source": [
    "colors = set((\"lime\", \"magenta\", \"plum\", \"purple\", \"gray\"))\n",
    "colors"
   ]
  },
  {
   "cell_type": "markdown",
   "id": "115cc7a0-f60d-4597-8b01-5069977f88d4",
   "metadata": {},
   "source": [
    "**==================== Access Set Items ====================**"
   ]
  },
  {
   "cell_type": "code",
   "execution_count": 6,
   "id": "0c66f7b9-bafb-42fc-829f-cd14a26b1660",
   "metadata": {},
   "outputs": [
    {
     "data": {
      "text/plain": [
       "True"
      ]
     },
     "execution_count": 6,
     "metadata": {},
     "output_type": "execute_result"
    }
   ],
   "source": [
    "\"gray\" in colors"
   ]
  },
  {
   "cell_type": "code",
   "execution_count": 7,
   "id": "349c350d-1f11-4720-aeef-bd42eb1dd8e5",
   "metadata": {},
   "outputs": [
    {
     "data": {
      "text/plain": [
       "False"
      ]
     },
     "execution_count": 7,
     "metadata": {},
     "output_type": "execute_result"
    }
   ],
   "source": [
    "\"blue\" in colors"
   ]
  },
  {
   "cell_type": "markdown",
   "id": "9cc77d54-00f9-422c-8006-def50f75e780",
   "metadata": {},
   "source": [
    "**==================== Add Set Items ====================**"
   ]
  },
  {
   "cell_type": "code",
   "execution_count": 8,
   "id": "a0039db7-5ae7-40bc-a41f-e0865747f06f",
   "metadata": {},
   "outputs": [
    {
     "data": {
      "text/plain": [
       "{'gray', 'lime', 'magenta', 'orange', 'plum', 'purple'}"
      ]
     },
     "execution_count": 8,
     "metadata": {},
     "output_type": "execute_result"
    }
   ],
   "source": [
    "colors.add(\"orange\")\n",
    "colors"
   ]
  },
  {
   "cell_type": "code",
   "execution_count": 9,
   "id": "7b2733d1-2977-43fa-b064-86e0e8a716cb",
   "metadata": {},
   "outputs": [
    {
     "data": {
      "text/plain": [
       "{'gray', 'lime', 'magenta', 'navy blue', 'plum', 'purple', 'silver', 'teal'}"
      ]
     },
     "execution_count": 9,
     "metadata": {},
     "output_type": "execute_result"
    }
   ],
   "source": [
    "colors_1 = {\"lime\", \"magenta\", \"plum\", \"purple\", \"gray\"}\n",
    "colors_2 = {\"navy blue\", \"teal\", \"silver\"}\n",
    "\n",
    "colors_1.update(colors_2)\n",
    "colors_1"
   ]
  },
  {
   "cell_type": "markdown",
   "id": "c8859095-aaae-46d1-a2c4-633de1768240",
   "metadata": {},
   "source": [
    "**==================== Remove Set Items ====================**"
   ]
  },
  {
   "cell_type": "code",
   "execution_count": 10,
   "id": "df1ec805-5cb0-43b8-936c-896f1cb4507a",
   "metadata": {},
   "outputs": [
    {
     "data": {
      "text/plain": [
       "{'lime', 'magenta', 'navy blue', 'plum', 'purple', 'silver', 'teal'}"
      ]
     },
     "execution_count": 10,
     "metadata": {},
     "output_type": "execute_result"
    }
   ],
   "source": [
    "colors_1.remove(\"gray\")\n",
    "colors_1"
   ]
  },
  {
   "cell_type": "code",
   "execution_count": 11,
   "id": "2e1e8303-84ab-482d-a6f8-c2885d72049a",
   "metadata": {},
   "outputs": [
    {
     "data": {
      "text/plain": [
       "{'navy blue', 'silver'}"
      ]
     },
     "execution_count": 11,
     "metadata": {},
     "output_type": "execute_result"
    }
   ],
   "source": [
    "colors_2.discard(\"teal\")\n",
    "colors_2"
   ]
  },
  {
   "cell_type": "code",
   "execution_count": 12,
   "id": "0c0b3384-d828-4fe1-8656-dcaa85376af6",
   "metadata": {},
   "outputs": [
    {
     "data": {
      "text/plain": [
       "'plum'"
      ]
     },
     "execution_count": 12,
     "metadata": {},
     "output_type": "execute_result"
    }
   ],
   "source": [
    "x = colors.pop()\n",
    "x"
   ]
  },
  {
   "cell_type": "code",
   "execution_count": 13,
   "id": "39a4a022-0e32-45ea-a311-8721f0730bcf",
   "metadata": {},
   "outputs": [
    {
     "data": {
      "text/plain": [
       "set()"
      ]
     },
     "execution_count": 13,
     "metadata": {},
     "output_type": "execute_result"
    }
   ],
   "source": [
    "colors_2.clear()\n",
    "colors_2"
   ]
  },
  {
   "cell_type": "markdown",
   "id": "a51726a5-e506-4e20-aa16-75e0051d2070",
   "metadata": {},
   "source": [
    "**==================== Join Two Sets ====================**"
   ]
  },
  {
   "cell_type": "code",
   "execution_count": 14,
   "id": "1914cc96-4a57-4e5c-bc5d-a773a0990647",
   "metadata": {},
   "outputs": [
    {
     "data": {
      "text/plain": [
       "{1, 2, 3, 'a', 'b', 'c', 'd', 'e'}"
      ]
     },
     "execution_count": 14,
     "metadata": {},
     "output_type": "execute_result"
    }
   ],
   "source": [
    "set_1 = {\"a\", \"b\", \"c\", \"d\", \"e\"}\n",
    "set_2 = {1, 2, 3}\n",
    "\n",
    "set_3 = set_1.union(set_2)\n",
    "set_3"
   ]
  },
  {
   "cell_type": "code",
   "execution_count": 15,
   "id": "23f045b6-5f86-4c92-a557-8f746282a453",
   "metadata": {},
   "outputs": [
    {
     "data": {
      "text/plain": [
       "{'cyan'}"
      ]
     },
     "execution_count": 15,
     "metadata": {},
     "output_type": "execute_result"
    }
   ],
   "source": [
    "s_1 = {\"cyan\", \"golden\", \"silver\"}\n",
    "s_2 = {\"crimson\", \"orange\", \"cyan\"}\n",
    "\n",
    "s_1.intersection_update(s_2)\n",
    "s_1"
   ]
  },
  {
   "cell_type": "code",
   "execution_count": 16,
   "id": "7529ee85-6b40-4004-ade3-05e0517bbe1d",
   "metadata": {},
   "outputs": [
    {
     "data": {
      "text/plain": [
       "{'crimson', 'orange'}"
      ]
     },
     "execution_count": 16,
     "metadata": {},
     "output_type": "execute_result"
    }
   ],
   "source": [
    "s_1.symmetric_difference_update(s_2)\n",
    "s_1"
   ]
  },
  {
   "cell_type": "code",
   "execution_count": 17,
   "id": "e83d29e8-062a-4511-bbe1-6f079771b0fd",
   "metadata": {},
   "outputs": [
    {
     "data": {
      "text/plain": [
       "{'crimson', 'cyan', 'orange'}"
      ]
     },
     "execution_count": 17,
     "metadata": {},
     "output_type": "execute_result"
    }
   ],
   "source": [
    "s_1.update(s_2)\n",
    "s_1"
   ]
  }
 ],
 "metadata": {
  "kernelspec": {
   "display_name": "Python 3 (ipykernel)",
   "language": "python",
   "name": "python3"
  },
  "language_info": {
   "codemirror_mode": {
    "name": "ipython",
    "version": 3
   },
   "file_extension": ".py",
   "mimetype": "text/x-python",
   "name": "python",
   "nbconvert_exporter": "python",
   "pygments_lexer": "ipython3",
   "version": "3.12.1"
  }
 },
 "nbformat": 4,
 "nbformat_minor": 5
}
