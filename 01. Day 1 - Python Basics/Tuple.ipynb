{
 "cells": [
  {
   "cell_type": "markdown",
   "id": "6abfb2d7-76d3-44a2-801d-b7d9d5a0391e",
   "metadata": {},
   "source": [
    "**==================== Python Tuples ====================**"
   ]
  },
  {
   "cell_type": "code",
   "execution_count": 1,
   "id": "fa5ee7a0-bf01-4ab7-ae14-05aabe76407b",
   "metadata": {},
   "outputs": [
    {
     "data": {
      "text/plain": [
       "('blue', 'green', 'red', 'pink', 'orange')"
      ]
     },
     "execution_count": 1,
     "metadata": {},
     "output_type": "execute_result"
    }
   ],
   "source": [
    "colors = (\"blue\", \"green\", \"red\", \"pink\", \"orange\")\n",
    "colors"
   ]
  },
  {
   "cell_type": "code",
   "execution_count": 2,
   "id": "9a54475d-df23-4749-a657-6e83a465c18e",
   "metadata": {},
   "outputs": [
    {
     "data": {
      "text/plain": [
       "5"
      ]
     },
     "execution_count": 2,
     "metadata": {},
     "output_type": "execute_result"
    }
   ],
   "source": [
    "len(colors)"
   ]
  },
  {
   "cell_type": "code",
   "execution_count": 3,
   "id": "17e1f9cf-b751-4488-bb8e-99d887c074e1",
   "metadata": {},
   "outputs": [
    {
     "data": {
      "text/plain": [
       "tuple"
      ]
     },
     "execution_count": 3,
     "metadata": {},
     "output_type": "execute_result"
    }
   ],
   "source": [
    "type(colors)"
   ]
  },
  {
   "cell_type": "code",
   "execution_count": 4,
   "id": "8c35cca5-bad4-444c-a919-8f7c94feac9a",
   "metadata": {},
   "outputs": [
    {
     "data": {
      "text/plain": [
       "('blue', 'green', 'red', 'pink', 'orange')"
      ]
     },
     "execution_count": 4,
     "metadata": {},
     "output_type": "execute_result"
    }
   ],
   "source": [
    "colors = tuple((\"blue\", \"green\", \"red\", \"pink\", \"orange\"))\n",
    "colors"
   ]
  },
  {
   "cell_type": "markdown",
   "id": "2fca1c4f-3965-4721-ba7b-c90ab6822417",
   "metadata": {},
   "source": [
    "**==================== Access Tuple Items ====================**"
   ]
  },
  {
   "cell_type": "code",
   "execution_count": 5,
   "id": "99bf58f3-f51f-4c10-af39-081164539d33",
   "metadata": {},
   "outputs": [
    {
     "data": {
      "text/plain": [
       "'green'"
      ]
     },
     "execution_count": 5,
     "metadata": {},
     "output_type": "execute_result"
    }
   ],
   "source": [
    "colors[1]"
   ]
  },
  {
   "cell_type": "code",
   "execution_count": 6,
   "id": "3b638236-b110-4ea0-a371-6dd9d9a1add8",
   "metadata": {},
   "outputs": [
    {
     "data": {
      "text/plain": [
       "'orange'"
      ]
     },
     "execution_count": 6,
     "metadata": {},
     "output_type": "execute_result"
    }
   ],
   "source": [
    "colors[-1]"
   ]
  },
  {
   "cell_type": "code",
   "execution_count": 7,
   "id": "3379c298-bb5e-4cf0-ad34-246f730fef9d",
   "metadata": {},
   "outputs": [
    {
     "data": {
      "text/plain": [
       "('red', 'pink')"
      ]
     },
     "execution_count": 7,
     "metadata": {},
     "output_type": "execute_result"
    }
   ],
   "source": [
    "colors[2: 4]"
   ]
  },
  {
   "cell_type": "code",
   "execution_count": 8,
   "id": "e044d0ff-6952-4a55-9fc7-7410d4ebb847",
   "metadata": {},
   "outputs": [
    {
     "data": {
      "text/plain": [
       "('blue', 'green', 'red', 'pink')"
      ]
     },
     "execution_count": 8,
     "metadata": {},
     "output_type": "execute_result"
    }
   ],
   "source": [
    "colors[:4]"
   ]
  },
  {
   "cell_type": "code",
   "execution_count": 9,
   "id": "2f6d3b4b-514f-4a98-a14e-470e2649c98e",
   "metadata": {},
   "outputs": [
    {
     "data": {
      "text/plain": [
       "('red', 'pink', 'orange')"
      ]
     },
     "execution_count": 9,
     "metadata": {},
     "output_type": "execute_result"
    }
   ],
   "source": [
    "colors[2:]"
   ]
  },
  {
   "cell_type": "code",
   "execution_count": 10,
   "id": "3efad2fa-8aa0-4fc2-91d3-8ad99304af70",
   "metadata": {},
   "outputs": [
    {
     "data": {
      "text/plain": [
       "('green', 'red', 'pink')"
      ]
     },
     "execution_count": 10,
     "metadata": {},
     "output_type": "execute_result"
    }
   ],
   "source": [
    "colors[-4: -1]"
   ]
  },
  {
   "cell_type": "markdown",
   "id": "7814f9ee-6ea2-4425-907a-993a70868747",
   "metadata": {},
   "source": [
    "**==================== Update Tuples ====================**"
   ]
  },
  {
   "cell_type": "code",
   "execution_count": 11,
   "id": "6dd2f16f-d038-4994-9d92-b4952e9bf036",
   "metadata": {},
   "outputs": [
    {
     "data": {
      "text/plain": [
       "('blue', 'green', 'red', 'pink', 'orange', 'silver')"
      ]
     },
     "execution_count": 11,
     "metadata": {},
     "output_type": "execute_result"
    }
   ],
   "source": [
    "lst = list(colors)\n",
    "\n",
    "lst.append(\"silver\")\n",
    "\n",
    "colors = tuple(lst)\n",
    "colors"
   ]
  },
  {
   "cell_type": "code",
   "execution_count": 12,
   "id": "5791ac30-f6bd-49f3-897a-5e1485ab5033",
   "metadata": {},
   "outputs": [
    {
     "data": {
      "text/plain": [
       "('blue', 'red', 'pink', 'orange', 'silver')"
      ]
     },
     "execution_count": 12,
     "metadata": {},
     "output_type": "execute_result"
    }
   ],
   "source": [
    "lst = list(colors)\n",
    "\n",
    "lst.remove(\"green\")\n",
    "\n",
    "colors = tuple(lst)\n",
    "colors"
   ]
  },
  {
   "cell_type": "markdown",
   "id": "19c083e6-634e-470a-b56b-3c94e459ebab",
   "metadata": {},
   "source": [
    "**==================== Unpacking Tuples ====================**"
   ]
  },
  {
   "cell_type": "code",
   "execution_count": 13,
   "id": "cccf2779-1481-4293-b9c0-a4db23731c59",
   "metadata": {},
   "outputs": [],
   "source": [
    "colors = (\"blue\", \"green\", \"red\", \"pink\", \"orange\")\n",
    "\n",
    "(b, g, *red) = colors"
   ]
  },
  {
   "cell_type": "code",
   "execution_count": 14,
   "id": "775881e6-37f1-45a6-b9f1-1e713e3dd1aa",
   "metadata": {},
   "outputs": [
    {
     "data": {
      "text/plain": [
       "'blue'"
      ]
     },
     "execution_count": 14,
     "metadata": {},
     "output_type": "execute_result"
    }
   ],
   "source": [
    "b"
   ]
  },
  {
   "cell_type": "code",
   "execution_count": 15,
   "id": "44553bca-161d-4d9f-8793-3fe92ddcc710",
   "metadata": {},
   "outputs": [
    {
     "data": {
      "text/plain": [
       "'green'"
      ]
     },
     "execution_count": 15,
     "metadata": {},
     "output_type": "execute_result"
    }
   ],
   "source": [
    "g"
   ]
  },
  {
   "cell_type": "code",
   "execution_count": 16,
   "id": "c74ba259-bbd0-4ade-b2ac-0e91160d0f60",
   "metadata": {},
   "outputs": [
    {
     "data": {
      "text/plain": [
       "['red', 'pink', 'orange']"
      ]
     },
     "execution_count": 16,
     "metadata": {},
     "output_type": "execute_result"
    }
   ],
   "source": [
    "red"
   ]
  },
  {
   "cell_type": "markdown",
   "id": "d44cec68-34a1-43aa-8818-f2da7ba737a9",
   "metadata": {},
   "source": [
    "**==================== Loop Tuples ====================**"
   ]
  },
  {
   "cell_type": "code",
   "execution_count": 17,
   "id": "5b9f1c4f-dec9-40ac-aa36-8dbef5450bc2",
   "metadata": {},
   "outputs": [
    {
     "name": "stdout",
     "output_type": "stream",
     "text": [
      "blue\n",
      "green\n",
      "red\n",
      "pink\n",
      "orange\n"
     ]
    }
   ],
   "source": [
    "for i in range(len(colors)):\n",
    "    print(colors[i])"
   ]
  },
  {
   "cell_type": "code",
   "execution_count": 18,
   "id": "6cd5c5d5-04aa-43fe-87d2-334a6f643724",
   "metadata": {},
   "outputs": [
    {
     "name": "stdout",
     "output_type": "stream",
     "text": [
      "blue\n",
      "green\n",
      "red\n",
      "pink\n",
      "orange\n"
     ]
    }
   ],
   "source": [
    "i = 0\n",
    "\n",
    "while(i < len(colors)):\n",
    "    print(colors[i])\n",
    "    i += 1"
   ]
  }
 ],
 "metadata": {
  "kernelspec": {
   "display_name": "Python 3 (ipykernel)",
   "language": "python",
   "name": "python3"
  },
  "language_info": {
   "codemirror_mode": {
    "name": "ipython",
    "version": 3
   },
   "file_extension": ".py",
   "mimetype": "text/x-python",
   "name": "python",
   "nbconvert_exporter": "python",
   "pygments_lexer": "ipython3",
   "version": "3.12.1"
  }
 },
 "nbformat": 4,
 "nbformat_minor": 5
}
