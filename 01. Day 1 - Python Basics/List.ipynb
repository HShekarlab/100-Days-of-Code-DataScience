{
 "cells": [
  {
   "cell_type": "markdown",
   "id": "efeba47d-db97-424c-940e-a6c71a5b0a58",
   "metadata": {},
   "source": [
    "**==================== Python List ====================**"
   ]
  },
  {
   "cell_type": "code",
   "execution_count": 1,
   "id": "f098122a-2e6f-4b31-9f81-aeda7c2ec450",
   "metadata": {},
   "outputs": [
    {
     "data": {
      "text/plain": [
       "['blue', 'green', 'red', 'pink', 'orange']"
      ]
     },
     "execution_count": 1,
     "metadata": {},
     "output_type": "execute_result"
    }
   ],
   "source": [
    "colors = [\"blue\", \"green\", \"red\", \"pink\", \"orange\"]\n",
    "colors"
   ]
  },
  {
   "cell_type": "code",
   "execution_count": 2,
   "id": "310e0743-670e-40ac-8815-523e959db473",
   "metadata": {},
   "outputs": [
    {
     "data": {
      "text/plain": [
       "5"
      ]
     },
     "execution_count": 2,
     "metadata": {},
     "output_type": "execute_result"
    }
   ],
   "source": [
    "len(colors)"
   ]
  },
  {
   "cell_type": "code",
   "execution_count": 3,
   "id": "3046ea2f-7fed-4814-96a4-429c358d92c7",
   "metadata": {},
   "outputs": [
    {
     "data": {
      "text/plain": [
       "list"
      ]
     },
     "execution_count": 3,
     "metadata": {},
     "output_type": "execute_result"
    }
   ],
   "source": [
    "type(colors)"
   ]
  },
  {
   "cell_type": "code",
   "execution_count": 4,
   "id": "210151e4-030f-4882-9960-d05e718ee27f",
   "metadata": {},
   "outputs": [
    {
     "data": {
      "text/plain": [
       "'green'"
      ]
     },
     "execution_count": 4,
     "metadata": {},
     "output_type": "execute_result"
    }
   ],
   "source": [
    "colors[1]"
   ]
  },
  {
   "cell_type": "code",
   "execution_count": 5,
   "id": "d99b7c81-2365-4d66-a90b-075aa839cdc3",
   "metadata": {},
   "outputs": [
    {
     "data": {
      "text/plain": [
       "['green', 'red']"
      ]
     },
     "execution_count": 5,
     "metadata": {},
     "output_type": "execute_result"
    }
   ],
   "source": [
    "colors[1: 3]"
   ]
  },
  {
   "cell_type": "code",
   "execution_count": 6,
   "id": "c1941c8a-0f4d-4f7d-b4f4-c844d0bd402b",
   "metadata": {},
   "outputs": [
    {
     "data": {
      "text/plain": [
       "'orange'"
      ]
     },
     "execution_count": 6,
     "metadata": {},
     "output_type": "execute_result"
    }
   ],
   "source": [
    "colors[-1]"
   ]
  },
  {
   "cell_type": "code",
   "execution_count": 7,
   "id": "9d97400b-cc94-4d0b-81e2-73bf83ebda27",
   "metadata": {},
   "outputs": [
    {
     "name": "stdout",
     "output_type": "stream",
     "text": [
      "Yes, orange is in the colors list.\n"
     ]
    }
   ],
   "source": [
    "if \"orange\" in colors:\n",
    "    print(f\"Yes, orange is in the colors list.\")"
   ]
  },
  {
   "cell_type": "markdown",
   "id": "95ffa787-135b-40f3-a2c4-c68755698ad2",
   "metadata": {},
   "source": [
    "**==================== Add List Items ====================**"
   ]
  },
  {
   "cell_type": "code",
   "execution_count": 8,
   "id": "baf6307b-5eae-4540-8dd2-a8069bb20b68",
   "metadata": {},
   "outputs": [
    {
     "data": {
      "text/plain": [
       "['blue', 'green', 'black', 'red', 'pink', 'orange']"
      ]
     },
     "execution_count": 8,
     "metadata": {},
     "output_type": "execute_result"
    }
   ],
   "source": [
    "colors.insert(2, \"black\")\n",
    "colors"
   ]
  },
  {
   "cell_type": "code",
   "execution_count": 9,
   "id": "2f103ce4-0149-4595-b2ec-64a99d42b5e6",
   "metadata": {},
   "outputs": [
    {
     "data": {
      "text/plain": [
       "['blue', 'green', 'black', 'red', 'pink', 'orange', 'yelow']"
      ]
     },
     "execution_count": 9,
     "metadata": {},
     "output_type": "execute_result"
    }
   ],
   "source": [
    "colors.append(\"yelow\")\n",
    "colors"
   ]
  },
  {
   "cell_type": "code",
   "execution_count": 10,
   "id": "1f0cd054-a786-4792-9771-c50d57c123af",
   "metadata": {},
   "outputs": [
    {
     "data": {
      "text/plain": [
       "['lime', 'magenta', 'plum', 'purple', 'gray', 'navy blue', 'teal', 'silver']"
      ]
     },
     "execution_count": 10,
     "metadata": {},
     "output_type": "execute_result"
    }
   ],
   "source": [
    "colors_1 = [\"lime\", \"magenta\", \"plum\", \"purple\", \"gray\"]\n",
    "colors_2 = [\"navy blue\", \"teal\", \"silver\"]\n",
    "\n",
    "colors_1.extend(colors_2)\n",
    "colors_1"
   ]
  },
  {
   "cell_type": "markdown",
   "id": "db4c2a1e-968a-4fa0-bdf0-1e9e2481a72f",
   "metadata": {},
   "source": [
    "**==================== Remove List Items ====================**"
   ]
  },
  {
   "cell_type": "code",
   "execution_count": 11,
   "id": "569c2a1c-98b5-45a2-82d3-2094aa10fb8f",
   "metadata": {},
   "outputs": [
    {
     "data": {
      "text/plain": [
       "['lime', 'magenta', 'plum', 'purple', 'navy blue', 'teal', 'silver']"
      ]
     },
     "execution_count": 11,
     "metadata": {},
     "output_type": "execute_result"
    }
   ],
   "source": [
    "colors_1.remove(\"gray\")\n",
    "colors_1"
   ]
  },
  {
   "cell_type": "code",
   "execution_count": 12,
   "id": "879f7eec-863e-48d9-ba26-2959118f9eae",
   "metadata": {},
   "outputs": [
    {
     "data": {
      "text/plain": [
       "['teal', 'silver']"
      ]
     },
     "execution_count": 12,
     "metadata": {},
     "output_type": "execute_result"
    }
   ],
   "source": [
    "del colors_2[0]\n",
    "colors_2"
   ]
  },
  {
   "cell_type": "code",
   "execution_count": 13,
   "id": "265d0099-214f-4784-880b-81075c880715",
   "metadata": {},
   "outputs": [
    {
     "data": {
      "text/plain": [
       "[]"
      ]
     },
     "execution_count": 13,
     "metadata": {},
     "output_type": "execute_result"
    }
   ],
   "source": [
    "colors_2.clear()\n",
    "colors_2"
   ]
  },
  {
   "cell_type": "markdown",
   "id": "5347f8b6-4744-4cb8-970a-0afcee409fb4",
   "metadata": {},
   "source": [
    "**==================== Sort Lists ====================**"
   ]
  },
  {
   "cell_type": "code",
   "execution_count": 14,
   "id": "73cac6de-7863-49f4-9c1c-af40ba4be807",
   "metadata": {},
   "outputs": [
    {
     "data": {
      "text/plain": [
       "['lime', 'magenta', 'navy blue', 'plum', 'purple', 'silver', 'teal']"
      ]
     },
     "execution_count": 14,
     "metadata": {},
     "output_type": "execute_result"
    }
   ],
   "source": [
    "colors_1.sort()\n",
    "colors_1"
   ]
  },
  {
   "cell_type": "code",
   "execution_count": 15,
   "id": "394d07cd-8f34-4b26-a5d4-c7c8e409b653",
   "metadata": {},
   "outputs": [
    {
     "data": {
      "text/plain": [
       "['teal', 'silver', 'purple', 'plum', 'navy blue', 'magenta', 'lime']"
      ]
     },
     "execution_count": 15,
     "metadata": {},
     "output_type": "execute_result"
    }
   ],
   "source": [
    "colors_1.sort(reverse= True)\n",
    "colors_1"
   ]
  },
  {
   "cell_type": "code",
   "execution_count": 16,
   "id": "a8e08abe-d86c-45ff-8dfa-0658a21a05f0",
   "metadata": {},
   "outputs": [
    {
     "data": {
      "text/plain": [
       "['lime', 'magenta', 'navy blue', 'plum', 'purple', 'silver', 'teal']"
      ]
     },
     "execution_count": 16,
     "metadata": {},
     "output_type": "execute_result"
    }
   ],
   "source": [
    "colors_1.reverse()\n",
    "colors_1"
   ]
  },
  {
   "cell_type": "markdown",
   "id": "f12ea32c-12eb-45ea-8053-50bf5479319f",
   "metadata": {},
   "source": [
    "**==================== Join Two Lists ====================**"
   ]
  },
  {
   "cell_type": "code",
   "execution_count": 17,
   "id": "547ca5a4-9373-4bc4-aa17-9c9a528b7c7f",
   "metadata": {},
   "outputs": [],
   "source": [
    "lst_1 = [\"a\", \"b\", \"c\", \"d\", \"e\"]\n",
    "lst_2 = [1, 2, 3]"
   ]
  },
  {
   "cell_type": "code",
   "execution_count": 18,
   "id": "d91c270d-a4ef-4299-b9d2-f7eed95ce681",
   "metadata": {},
   "outputs": [
    {
     "data": {
      "text/plain": [
       "['a', 'b', 'c', 'd', 'e', 1, 2, 3]"
      ]
     },
     "execution_count": 18,
     "metadata": {},
     "output_type": "execute_result"
    }
   ],
   "source": [
    "lst_3 = lst_1 + lst_2\n",
    "lst_3"
   ]
  },
  {
   "cell_type": "code",
   "execution_count": 19,
   "id": "64fc6bb6-2e67-452c-ad38-32c0a2d94e1d",
   "metadata": {},
   "outputs": [
    {
     "data": {
      "text/plain": [
       "['a', 'b', 'c', 'd', 'e', 1, 2, 3]"
      ]
     },
     "execution_count": 19,
     "metadata": {},
     "output_type": "execute_result"
    }
   ],
   "source": [
    "for i in lst_2:\n",
    "    lst_1.append(i)\n",
    "\n",
    "lst_1"
   ]
  },
  {
   "cell_type": "markdown",
   "id": "1d4a1e9f-0c75-40c3-a820-685c0b529a54",
   "metadata": {},
   "source": [
    "**==================== Copy List ====================**"
   ]
  },
  {
   "cell_type": "code",
   "execution_count": 20,
   "id": "b77a7a04-c42e-45dc-bd49-ec39b5bfb6af",
   "metadata": {},
   "outputs": [
    {
     "data": {
      "text/plain": [
       "['a', 'b', 'c', 'd', 'e', 1, 2, 3]"
      ]
     },
     "execution_count": 20,
     "metadata": {},
     "output_type": "execute_result"
    }
   ],
   "source": [
    "new_lst = lst_1.copy()\n",
    "new_lst"
   ]
  }
 ],
 "metadata": {
  "kernelspec": {
   "display_name": "Python 3 (ipykernel)",
   "language": "python",
   "name": "python3"
  },
  "language_info": {
   "codemirror_mode": {
    "name": "ipython",
    "version": 3
   },
   "file_extension": ".py",
   "mimetype": "text/x-python",
   "name": "python",
   "nbconvert_exporter": "python",
   "pygments_lexer": "ipython3",
   "version": "3.12.1"
  }
 },
 "nbformat": 4,
 "nbformat_minor": 5
}
