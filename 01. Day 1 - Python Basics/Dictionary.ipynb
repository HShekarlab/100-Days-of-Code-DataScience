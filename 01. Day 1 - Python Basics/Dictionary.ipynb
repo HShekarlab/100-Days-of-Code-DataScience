{
 "cells": [
  {
   "cell_type": "markdown",
   "id": "1b5fbacc-e387-4f94-b28c-6b9348b3ee76",
   "metadata": {},
   "source": [
    "**==================== Python dictionaries ====================**"
   ]
  },
  {
   "cell_type": "code",
   "execution_count": 1,
   "id": "f16f73a3-be3a-4ec1-839d-9402b71491fb",
   "metadata": {},
   "outputs": [
    {
     "data": {
      "text/plain": [
       "{'brand': 'Ford',\n",
       " 'model': 'Mustang',\n",
       " 'year': 1964,\n",
       " 'colors': ['red', 'white', 'blue']}"
      ]
     },
     "execution_count": 1,
     "metadata": {},
     "output_type": "execute_result"
    }
   ],
   "source": [
    "dict = {\"brand\": \"Ford\",\n",
    "        \"model\": \"Mustang\",\n",
    "        \"year\": 1964,\n",
    "        \"colors\": [\"red\", \"white\", \"blue\"]}\n",
    "\n",
    "dict"
   ]
  },
  {
   "cell_type": "code",
   "execution_count": 2,
   "id": "fc3d0b8c-4580-4bbe-bc15-0fe8b5593c58",
   "metadata": {},
   "outputs": [
    {
     "data": {
      "text/plain": [
       "4"
      ]
     },
     "execution_count": 2,
     "metadata": {},
     "output_type": "execute_result"
    }
   ],
   "source": [
    "len(dict)"
   ]
  },
  {
   "cell_type": "code",
   "execution_count": 3,
   "id": "064175ac-2cbb-4a4b-8208-22cd96fda6c1",
   "metadata": {},
   "outputs": [
    {
     "data": {
      "text/plain": [
       "dict"
      ]
     },
     "execution_count": 3,
     "metadata": {},
     "output_type": "execute_result"
    }
   ],
   "source": [
    "type(dict)"
   ]
  },
  {
   "cell_type": "markdown",
   "id": "8bb4a9f7-3637-4559-bdc3-00cbddd4e368",
   "metadata": {},
   "source": [
    "**==================== Access Distionary Items ====================**"
   ]
  },
  {
   "cell_type": "code",
   "execution_count": 4,
   "id": "8a07b519-5b8b-462b-a345-a30a5ac70603",
   "metadata": {},
   "outputs": [
    {
     "data": {
      "text/plain": [
       "'Mustang'"
      ]
     },
     "execution_count": 4,
     "metadata": {},
     "output_type": "execute_result"
    }
   ],
   "source": [
    "dict[\"model\"]"
   ]
  },
  {
   "cell_type": "code",
   "execution_count": 5,
   "id": "43c3ab7e-599f-4af3-a3e4-88172aed784f",
   "metadata": {},
   "outputs": [
    {
     "data": {
      "text/plain": [
       "'Mustang'"
      ]
     },
     "execution_count": 5,
     "metadata": {},
     "output_type": "execute_result"
    }
   ],
   "source": [
    "dict.get(\"model\")"
   ]
  },
  {
   "cell_type": "code",
   "execution_count": 6,
   "id": "4029120f-59ef-4672-9308-e74f7787032c",
   "metadata": {},
   "outputs": [
    {
     "data": {
      "text/plain": [
       "dict_keys(['brand', 'model', 'year', 'colors'])"
      ]
     },
     "execution_count": 6,
     "metadata": {},
     "output_type": "execute_result"
    }
   ],
   "source": [
    "dict.keys()"
   ]
  },
  {
   "cell_type": "code",
   "execution_count": 7,
   "id": "d2a68590-f06d-4db2-add3-c3172f81971a",
   "metadata": {},
   "outputs": [
    {
     "data": {
      "text/plain": [
       "dict_values(['Ford', 'Mustang', 1964, ['red', 'white', 'blue']])"
      ]
     },
     "execution_count": 7,
     "metadata": {},
     "output_type": "execute_result"
    }
   ],
   "source": [
    "dict.values()"
   ]
  },
  {
   "cell_type": "code",
   "execution_count": 8,
   "id": "7ec81e5c-ee1d-4403-ba46-73fb99c3223c",
   "metadata": {},
   "outputs": [
    {
     "data": {
      "text/plain": [
       "dict_items([('brand', 'Ford'), ('model', 'Mustang'), ('year', 1964), ('colors', ['red', 'white', 'blue'])])"
      ]
     },
     "execution_count": 8,
     "metadata": {},
     "output_type": "execute_result"
    }
   ],
   "source": [
    "dict.items()"
   ]
  },
  {
   "cell_type": "markdown",
   "id": "0ab6783d-eb3f-43db-828e-9e796b2fd31e",
   "metadata": {},
   "source": [
    "**==================== Change Dictionary Items ====================**"
   ]
  },
  {
   "cell_type": "code",
   "execution_count": 9,
   "id": "9c040f88-8946-417b-98be-b65745a59a01",
   "metadata": {},
   "outputs": [
    {
     "data": {
      "text/plain": [
       "{'brand': 'Ford',\n",
       " 'model': 'Mustang',\n",
       " 'year': 2020,\n",
       " 'colors': ['red', 'white', 'blue']}"
      ]
     },
     "execution_count": 9,
     "metadata": {},
     "output_type": "execute_result"
    }
   ],
   "source": [
    "dict[\"year\"] = 2020\n",
    "dict"
   ]
  },
  {
   "cell_type": "markdown",
   "id": "733a7e06-28d6-4360-81ab-29b94c8094be",
   "metadata": {},
   "source": [
    "**==================== Adding Items ====================**"
   ]
  },
  {
   "cell_type": "code",
   "execution_count": 10,
   "id": "3cdea692-dad1-4213-a315-be1aeb0ce1ff",
   "metadata": {},
   "outputs": [
    {
     "data": {
      "text/plain": [
       "{'brand': 'Ford', 'model': 'Mustang', 'year': 1964, 'color': 'blue'}"
      ]
     },
     "execution_count": 10,
     "metadata": {},
     "output_type": "execute_result"
    }
   ],
   "source": [
    "dict = {\"brand\": \"Ford\",\n",
    "        \"model\": \"Mustang\",\n",
    "        \"year\": 1964}\n",
    "\n",
    "dict[\"color\"] = \"blue\"\n",
    "dict"
   ]
  },
  {
   "cell_type": "code",
   "execution_count": 11,
   "id": "94238a4a-f231-4542-8eb8-e698caa53a26",
   "metadata": {},
   "outputs": [
    {
     "data": {
      "text/plain": [
       "{'brand': 'Ford', 'model': 'Mustang', 'year': 1964, 'color': 'red'}"
      ]
     },
     "execution_count": 11,
     "metadata": {},
     "output_type": "execute_result"
    }
   ],
   "source": [
    "dict = {\"brand\": \"Ford\",\n",
    "        \"model\": \"Mustang\",\n",
    "        \"year\": 1964}\n",
    "\n",
    "dict.update({\"color\": \"red\"})\n",
    "dict"
   ]
  },
  {
   "cell_type": "markdown",
   "id": "05e9330f-9038-4239-becd-d5302b6dfe9d",
   "metadata": {},
   "source": [
    "**==================== Remove Dictionary Items ====================**"
   ]
  },
  {
   "cell_type": "code",
   "execution_count": 12,
   "id": "4fac1497-b8c9-406e-9552-98f57b49d1dc",
   "metadata": {},
   "outputs": [
    {
     "data": {
      "text/plain": [
       "{'brand': 'Ford', 'year': 1964, 'color': 'red'}"
      ]
     },
     "execution_count": 12,
     "metadata": {},
     "output_type": "execute_result"
    }
   ],
   "source": [
    "dict.pop(\"model\")\n",
    "dict"
   ]
  },
  {
   "cell_type": "code",
   "execution_count": 13,
   "id": "1d7ce394-cd4b-4c88-aa6e-93d2dfc50d68",
   "metadata": {},
   "outputs": [
    {
     "data": {
      "text/plain": [
       "{'brand': 'Ford', 'year': 1964}"
      ]
     },
     "execution_count": 13,
     "metadata": {},
     "output_type": "execute_result"
    }
   ],
   "source": [
    "dict.popitem()\n",
    "dict"
   ]
  },
  {
   "cell_type": "code",
   "execution_count": 14,
   "id": "321577b7-896a-4ff1-96ce-f99f2eb0d772",
   "metadata": {},
   "outputs": [
    {
     "data": {
      "text/plain": [
       "{'brand': 'Ford', 'year': 1964}"
      ]
     },
     "execution_count": 14,
     "metadata": {},
     "output_type": "execute_result"
    }
   ],
   "source": [
    "dict = {\"brand\": \"Ford\",\n",
    "        \"model\": \"Mustang\",\n",
    "        \"year\": 1964}\n",
    "\n",
    "del dict[\"model\"]\n",
    "dict"
   ]
  },
  {
   "cell_type": "code",
   "execution_count": 15,
   "id": "c09e0c00-ceb2-4c76-b5a9-36fad3553939",
   "metadata": {},
   "outputs": [
    {
     "data": {
      "text/plain": [
       "{}"
      ]
     },
     "execution_count": 15,
     "metadata": {},
     "output_type": "execute_result"
    }
   ],
   "source": [
    "dict.clear()\n",
    "dict"
   ]
  }
 ],
 "metadata": {
  "kernelspec": {
   "display_name": "Python 3 (ipykernel)",
   "language": "python",
   "name": "python3"
  },
  "language_info": {
   "codemirror_mode": {
    "name": "ipython",
    "version": 3
   },
   "file_extension": ".py",
   "mimetype": "text/x-python",
   "name": "python",
   "nbconvert_exporter": "python",
   "pygments_lexer": "ipython3",
   "version": "3.12.1"
  }
 },
 "nbformat": 4,
 "nbformat_minor": 5
}
