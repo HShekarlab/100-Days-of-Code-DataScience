{
 "cells": [
  {
   "cell_type": "code",
   "execution_count": 1,
   "id": "168b002e-a7af-4deb-8e5e-bdfb43317560",
   "metadata": {},
   "outputs": [],
   "source": [
    "import numpy as np\n",
    "import pandas as pd"
   ]
  },
  {
   "cell_type": "code",
   "execution_count": 2,
   "id": "e99aeee3-3c6a-4fc8-b969-47c0fd9a522f",
   "metadata": {},
   "outputs": [
    {
     "name": "stdout",
     "output_type": "stream",
     "text": [
      "DatetimeIndex(['2024-03-01', '2024-03-02', '2024-03-03', '2024-03-04',\n",
      "               '2024-03-05', '2024-03-06', '2024-03-07', '2024-03-08',\n",
      "               '2024-03-09', '2024-03-10'],\n",
      "              dtype='datetime64[ns]', freq='D')\n"
     ]
    }
   ],
   "source": [
    "print( pd.date_range(\"3/1/2024\", periods= 10) )"
   ]
  },
  {
   "cell_type": "markdown",
   "id": "e468d260-bda5-4112-8c45-c23d93410bd4",
   "metadata": {},
   "source": [
    "**Adding Frequency**"
   ]
  },
  {
   "cell_type": "code",
   "execution_count": 3,
   "id": "3ff8f6b7-ed1d-4e88-a058-f1bba4db23d4",
   "metadata": {},
   "outputs": [
    {
     "name": "stdout",
     "output_type": "stream",
     "text": [
      "DatetimeIndex(['2024-03-31', '2024-04-30', '2024-05-31', '2024-06-30',\n",
      "               '2024-07-31', '2024-08-31', '2024-09-30', '2024-10-31',\n",
      "               '2024-11-30', '2024-12-31'],\n",
      "              dtype='datetime64[ns]', freq='M')\n"
     ]
    }
   ],
   "source": [
    "print( pd.date_range(\"3/1/2024\", periods= 10, freq= \"M\") )"
   ]
  },
  {
   "cell_type": "markdown",
   "id": "d5828abd-a304-47c0-805f-603fa9ee0729",
   "metadata": {},
   "source": [
    "**Other Frequency Options**"
   ]
  },
  {
   "cell_type": "code",
   "execution_count": 4,
   "id": "0a3ca5a1-1971-4f1d-a9a4-cda5cbf4ce21",
   "metadata": {},
   "outputs": [
    {
     "name": "stdout",
     "output_type": "stream",
     "text": [
      "DatetimeIndex(['2023-01-01', '2023-02-01', '2023-03-01', '2023-04-01',\n",
      "               '2023-05-01', '2023-06-01', '2023-07-01'],\n",
      "              dtype='datetime64[ns]', freq='MS')\n"
     ]
    }
   ],
   "source": [
    "print( pd.date_range(\"1/1/2023\", periods= 7, freq= \"MS\") )"
   ]
  },
  {
   "cell_type": "markdown",
   "id": "bef8286f-a0df-42a0-868f-d33765b58764",
   "metadata": {},
   "source": [
    "**Time Delta**"
   ]
  },
  {
   "cell_type": "code",
   "execution_count": 5,
   "id": "d4183bd9-7074-496d-80a9-4d8c128a3af1",
   "metadata": {},
   "outputs": [
    {
     "name": "stdout",
     "output_type": "stream",
     "text": [
      "Day 1: 2024-03-02 11:38:38.842460\n"
     ]
    }
   ],
   "source": [
    "Day_1 = pd.to_datetime(\"today\")\n",
    "print(\"Day 1:\", Day_1)"
   ]
  },
  {
   "cell_type": "code",
   "execution_count": 6,
   "id": "646a5d5b-7ae9-4edf-8f88-cc59187459b0",
   "metadata": {},
   "outputs": [
    {
     "name": "stdout",
     "output_type": "stream",
     "text": [
      "Day 2: 2024-03-03 11:38:38.842460 Sunday\n"
     ]
    }
   ],
   "source": [
    "Day_2 = Day_1 + pd.Timedelta(\"1 day\")\n",
    "print(\"Day 2:\", Day_2, Day_2.day_name())"
   ]
  },
  {
   "cell_type": "markdown",
   "id": "5b0f32c8-0fcd-497b-bc41-001500223c27",
   "metadata": {},
   "source": [
    "**Date Operations**"
   ]
  },
  {
   "cell_type": "code",
   "execution_count": 7,
   "id": "5edc887e-d3de-4378-82a5-ee4e39e6974a",
   "metadata": {},
   "outputs": [
    {
     "data": {
      "text/html": [
       "<div>\n",
       "<style scoped>\n",
       "    .dataframe tbody tr th:only-of-type {\n",
       "        vertical-align: middle;\n",
       "    }\n",
       "\n",
       "    .dataframe tbody tr th {\n",
       "        vertical-align: top;\n",
       "    }\n",
       "\n",
       "    .dataframe thead th {\n",
       "        text-align: right;\n",
       "    }\n",
       "</style>\n",
       "<table border=\"1\" class=\"dataframe\">\n",
       "  <thead>\n",
       "    <tr style=\"text-align: right;\">\n",
       "      <th></th>\n",
       "      <th>Date</th>\n",
       "      <th>To_Add</th>\n",
       "    </tr>\n",
       "  </thead>\n",
       "  <tbody>\n",
       "    <tr>\n",
       "      <th>0</th>\n",
       "      <td>2024-01-01</td>\n",
       "      <td>0 days</td>\n",
       "    </tr>\n",
       "    <tr>\n",
       "      <th>1</th>\n",
       "      <td>2024-01-02</td>\n",
       "      <td>1 days</td>\n",
       "    </tr>\n",
       "    <tr>\n",
       "      <th>2</th>\n",
       "      <td>2024-01-03</td>\n",
       "      <td>2 days</td>\n",
       "    </tr>\n",
       "    <tr>\n",
       "      <th>3</th>\n",
       "      <td>2024-01-04</td>\n",
       "      <td>3 days</td>\n",
       "    </tr>\n",
       "    <tr>\n",
       "      <th>4</th>\n",
       "      <td>2024-01-05</td>\n",
       "      <td>4 days</td>\n",
       "    </tr>\n",
       "    <tr>\n",
       "      <th>5</th>\n",
       "      <td>2024-01-06</td>\n",
       "      <td>5 days</td>\n",
       "    </tr>\n",
       "    <tr>\n",
       "      <th>6</th>\n",
       "      <td>2024-01-07</td>\n",
       "      <td>6 days</td>\n",
       "    </tr>\n",
       "  </tbody>\n",
       "</table>\n",
       "</div>"
      ],
      "text/plain": [
       "        Date To_Add\n",
       "0 2024-01-01 0 days\n",
       "1 2024-01-02 1 days\n",
       "2 2024-01-03 2 days\n",
       "3 2024-01-04 3 days\n",
       "4 2024-01-05 4 days\n",
       "5 2024-01-06 5 days\n",
       "6 2024-01-07 6 days"
      ]
     },
     "execution_count": 7,
     "metadata": {},
     "output_type": "execute_result"
    }
   ],
   "source": [
    "Date = pd.Series(pd.date_range(\"2024-1-1\", periods= 7, freq= \"D\"))\n",
    "series_Date = pd.Series([pd.Timedelta(days= i) for i in range(7)])\n",
    "df_Date = pd.DataFrame({\"Date\": Date, \"To_Add\": series_Date})\n",
    "df_Date"
   ]
  },
  {
   "cell_type": "code",
   "execution_count": 8,
   "id": "5fb25b9b-2e10-4b4e-8a7d-7f59d54109fa",
   "metadata": {},
   "outputs": [
    {
     "data": {
      "text/html": [
       "<div>\n",
       "<style scoped>\n",
       "    .dataframe tbody tr th:only-of-type {\n",
       "        vertical-align: middle;\n",
       "    }\n",
       "\n",
       "    .dataframe tbody tr th {\n",
       "        vertical-align: top;\n",
       "    }\n",
       "\n",
       "    .dataframe thead th {\n",
       "        text-align: right;\n",
       "    }\n",
       "</style>\n",
       "<table border=\"1\" class=\"dataframe\">\n",
       "  <thead>\n",
       "    <tr style=\"text-align: right;\">\n",
       "      <th></th>\n",
       "      <th>Date</th>\n",
       "      <th>To_Add</th>\n",
       "      <th>Final_Date_add</th>\n",
       "    </tr>\n",
       "  </thead>\n",
       "  <tbody>\n",
       "    <tr>\n",
       "      <th>0</th>\n",
       "      <td>2024-01-01</td>\n",
       "      <td>0 days</td>\n",
       "      <td>2024-01-01</td>\n",
       "    </tr>\n",
       "    <tr>\n",
       "      <th>1</th>\n",
       "      <td>2024-01-02</td>\n",
       "      <td>1 days</td>\n",
       "      <td>2024-01-03</td>\n",
       "    </tr>\n",
       "    <tr>\n",
       "      <th>2</th>\n",
       "      <td>2024-01-03</td>\n",
       "      <td>2 days</td>\n",
       "      <td>2024-01-05</td>\n",
       "    </tr>\n",
       "    <tr>\n",
       "      <th>3</th>\n",
       "      <td>2024-01-04</td>\n",
       "      <td>3 days</td>\n",
       "      <td>2024-01-07</td>\n",
       "    </tr>\n",
       "    <tr>\n",
       "      <th>4</th>\n",
       "      <td>2024-01-05</td>\n",
       "      <td>4 days</td>\n",
       "      <td>2024-01-09</td>\n",
       "    </tr>\n",
       "    <tr>\n",
       "      <th>5</th>\n",
       "      <td>2024-01-06</td>\n",
       "      <td>5 days</td>\n",
       "      <td>2024-01-11</td>\n",
       "    </tr>\n",
       "    <tr>\n",
       "      <th>6</th>\n",
       "      <td>2024-01-07</td>\n",
       "      <td>6 days</td>\n",
       "      <td>2024-01-13</td>\n",
       "    </tr>\n",
       "  </tbody>\n",
       "</table>\n",
       "</div>"
      ],
      "text/plain": [
       "        Date To_Add Final_Date_add\n",
       "0 2024-01-01 0 days     2024-01-01\n",
       "1 2024-01-02 1 days     2024-01-03\n",
       "2 2024-01-03 2 days     2024-01-05\n",
       "3 2024-01-04 3 days     2024-01-07\n",
       "4 2024-01-05 4 days     2024-01-09\n",
       "5 2024-01-06 5 days     2024-01-11\n",
       "6 2024-01-07 6 days     2024-01-13"
      ]
     },
     "execution_count": 8,
     "metadata": {},
     "output_type": "execute_result"
    }
   ],
   "source": [
    "df_Date[\"Final_Date_add\"] = df_Date[\"Date\"] + df_Date[\"To_Add\"]\n",
    "df_Date"
   ]
  },
  {
   "cell_type": "code",
   "execution_count": 9,
   "id": "5358bfc6-e61f-46c4-978d-bd887c889b3c",
   "metadata": {},
   "outputs": [
    {
     "data": {
      "text/html": [
       "<div>\n",
       "<style scoped>\n",
       "    .dataframe tbody tr th:only-of-type {\n",
       "        vertical-align: middle;\n",
       "    }\n",
       "\n",
       "    .dataframe tbody tr th {\n",
       "        vertical-align: top;\n",
       "    }\n",
       "\n",
       "    .dataframe thead th {\n",
       "        text-align: right;\n",
       "    }\n",
       "</style>\n",
       "<table border=\"1\" class=\"dataframe\">\n",
       "  <thead>\n",
       "    <tr style=\"text-align: right;\">\n",
       "      <th></th>\n",
       "      <th>Date</th>\n",
       "      <th>To_Add</th>\n",
       "      <th>Final_Date_add</th>\n",
       "      <th>Final_Date_sub</th>\n",
       "    </tr>\n",
       "  </thead>\n",
       "  <tbody>\n",
       "    <tr>\n",
       "      <th>0</th>\n",
       "      <td>2024-01-01</td>\n",
       "      <td>0 days</td>\n",
       "      <td>2024-01-01</td>\n",
       "      <td>2024-01-01</td>\n",
       "    </tr>\n",
       "    <tr>\n",
       "      <th>1</th>\n",
       "      <td>2024-01-02</td>\n",
       "      <td>1 days</td>\n",
       "      <td>2024-01-03</td>\n",
       "      <td>2024-01-01</td>\n",
       "    </tr>\n",
       "    <tr>\n",
       "      <th>2</th>\n",
       "      <td>2024-01-03</td>\n",
       "      <td>2 days</td>\n",
       "      <td>2024-01-05</td>\n",
       "      <td>2024-01-01</td>\n",
       "    </tr>\n",
       "    <tr>\n",
       "      <th>3</th>\n",
       "      <td>2024-01-04</td>\n",
       "      <td>3 days</td>\n",
       "      <td>2024-01-07</td>\n",
       "      <td>2024-01-01</td>\n",
       "    </tr>\n",
       "    <tr>\n",
       "      <th>4</th>\n",
       "      <td>2024-01-05</td>\n",
       "      <td>4 days</td>\n",
       "      <td>2024-01-09</td>\n",
       "      <td>2024-01-01</td>\n",
       "    </tr>\n",
       "    <tr>\n",
       "      <th>5</th>\n",
       "      <td>2024-01-06</td>\n",
       "      <td>5 days</td>\n",
       "      <td>2024-01-11</td>\n",
       "      <td>2024-01-01</td>\n",
       "    </tr>\n",
       "    <tr>\n",
       "      <th>6</th>\n",
       "      <td>2024-01-07</td>\n",
       "      <td>6 days</td>\n",
       "      <td>2024-01-13</td>\n",
       "      <td>2024-01-01</td>\n",
       "    </tr>\n",
       "  </tbody>\n",
       "</table>\n",
       "</div>"
      ],
      "text/plain": [
       "        Date To_Add Final_Date_add Final_Date_sub\n",
       "0 2024-01-01 0 days     2024-01-01     2024-01-01\n",
       "1 2024-01-02 1 days     2024-01-03     2024-01-01\n",
       "2 2024-01-03 2 days     2024-01-05     2024-01-01\n",
       "3 2024-01-04 3 days     2024-01-07     2024-01-01\n",
       "4 2024-01-05 4 days     2024-01-09     2024-01-01\n",
       "5 2024-01-06 5 days     2024-01-11     2024-01-01\n",
       "6 2024-01-07 6 days     2024-01-13     2024-01-01"
      ]
     },
     "execution_count": 9,
     "metadata": {},
     "output_type": "execute_result"
    }
   ],
   "source": [
    "df_Date[\"Final_Date_sub\"] = df_Date[\"Date\"] - df_Date[\"To_Add\"]\n",
    "df_Date"
   ]
  },
  {
   "cell_type": "code",
   "execution_count": 10,
   "id": "50a20e7d-74b1-4956-bccf-c262994c53dd",
   "metadata": {},
   "outputs": [
    {
     "data": {
      "text/html": [
       "<div>\n",
       "<style scoped>\n",
       "    .dataframe tbody tr th:only-of-type {\n",
       "        vertical-align: middle;\n",
       "    }\n",
       "\n",
       "    .dataframe tbody tr th {\n",
       "        vertical-align: top;\n",
       "    }\n",
       "\n",
       "    .dataframe thead th {\n",
       "        text-align: right;\n",
       "    }\n",
       "</style>\n",
       "<table border=\"1\" class=\"dataframe\">\n",
       "  <thead>\n",
       "    <tr style=\"text-align: right;\">\n",
       "      <th></th>\n",
       "      <th>Date</th>\n",
       "      <th>To_Add</th>\n",
       "      <th>Final_Date_add</th>\n",
       "      <th>Final_Date_sub</th>\n",
       "      <th>Year</th>\n",
       "      <th>Month</th>\n",
       "      <th>Day</th>\n",
       "    </tr>\n",
       "  </thead>\n",
       "  <tbody>\n",
       "    <tr>\n",
       "      <th>0</th>\n",
       "      <td>2024-01-01</td>\n",
       "      <td>0 days</td>\n",
       "      <td>2024-01-01</td>\n",
       "      <td>2024-01-01</td>\n",
       "      <td>2024</td>\n",
       "      <td>1</td>\n",
       "      <td>1</td>\n",
       "    </tr>\n",
       "    <tr>\n",
       "      <th>1</th>\n",
       "      <td>2024-01-02</td>\n",
       "      <td>1 days</td>\n",
       "      <td>2024-01-03</td>\n",
       "      <td>2024-01-01</td>\n",
       "      <td>2024</td>\n",
       "      <td>1</td>\n",
       "      <td>2</td>\n",
       "    </tr>\n",
       "    <tr>\n",
       "      <th>2</th>\n",
       "      <td>2024-01-03</td>\n",
       "      <td>2 days</td>\n",
       "      <td>2024-01-05</td>\n",
       "      <td>2024-01-01</td>\n",
       "      <td>2024</td>\n",
       "      <td>1</td>\n",
       "      <td>3</td>\n",
       "    </tr>\n",
       "    <tr>\n",
       "      <th>3</th>\n",
       "      <td>2024-01-04</td>\n",
       "      <td>3 days</td>\n",
       "      <td>2024-01-07</td>\n",
       "      <td>2024-01-01</td>\n",
       "      <td>2024</td>\n",
       "      <td>1</td>\n",
       "      <td>4</td>\n",
       "    </tr>\n",
       "    <tr>\n",
       "      <th>4</th>\n",
       "      <td>2024-01-05</td>\n",
       "      <td>4 days</td>\n",
       "      <td>2024-01-09</td>\n",
       "      <td>2024-01-01</td>\n",
       "      <td>2024</td>\n",
       "      <td>1</td>\n",
       "      <td>5</td>\n",
       "    </tr>\n",
       "    <tr>\n",
       "      <th>5</th>\n",
       "      <td>2024-01-06</td>\n",
       "      <td>5 days</td>\n",
       "      <td>2024-01-11</td>\n",
       "      <td>2024-01-01</td>\n",
       "      <td>2024</td>\n",
       "      <td>1</td>\n",
       "      <td>6</td>\n",
       "    </tr>\n",
       "    <tr>\n",
       "      <th>6</th>\n",
       "      <td>2024-01-07</td>\n",
       "      <td>6 days</td>\n",
       "      <td>2024-01-13</td>\n",
       "      <td>2024-01-01</td>\n",
       "      <td>2024</td>\n",
       "      <td>1</td>\n",
       "      <td>7</td>\n",
       "    </tr>\n",
       "  </tbody>\n",
       "</table>\n",
       "</div>"
      ],
      "text/plain": [
       "        Date To_Add Final_Date_add Final_Date_sub  Year  Month  Day\n",
       "0 2024-01-01 0 days     2024-01-01     2024-01-01  2024      1    1\n",
       "1 2024-01-02 1 days     2024-01-03     2024-01-01  2024      1    2\n",
       "2 2024-01-03 2 days     2024-01-05     2024-01-01  2024      1    3\n",
       "3 2024-01-04 3 days     2024-01-07     2024-01-01  2024      1    4\n",
       "4 2024-01-05 4 days     2024-01-09     2024-01-01  2024      1    5\n",
       "5 2024-01-06 5 days     2024-01-11     2024-01-01  2024      1    6\n",
       "6 2024-01-07 6 days     2024-01-13     2024-01-01  2024      1    7"
      ]
     },
     "execution_count": 10,
     "metadata": {},
     "output_type": "execute_result"
    }
   ],
   "source": [
    "df_Date[\"Year\"] = df_Date[\"Date\"].dt.year\n",
    "df_Date[\"Month\"] = df_Date[\"Date\"].dt.month\n",
    "df_Date[\"Day\"] = df_Date[\"Date\"].dt.day\n",
    "\n",
    "df_Date"
   ]
  },
  {
   "cell_type": "markdown",
   "id": "7a89ee62-d286-4d70-8cfb-41140b86d0c2",
   "metadata": {},
   "source": [
    "**Categorical Data**"
   ]
  },
  {
   "cell_type": "code",
   "execution_count": 11,
   "id": "fba0e595-889d-44b3-9f96-535152adf176",
   "metadata": {},
   "outputs": [
    {
     "data": {
      "text/plain": [
       "0      Male\n",
       "1    Female\n",
       "2      Male\n",
       "3    Female\n",
       "4    Female\n",
       "5      Male\n",
       "6      Male\n",
       "7      Male\n",
       "8    Female\n",
       "dtype: category\n",
       "Categories (2, object): ['Female', 'Male']"
      ]
     },
     "execution_count": 11,
     "metadata": {},
     "output_type": "execute_result"
    }
   ],
   "source": [
    "gender = pd.Series([\"Male\", \"Female\", \"Male\", \"Female\", \"Female\", \"Male\", \"Male\", \"Male\", \"Female\"], dtype= \"category\")\n",
    "gender"
   ]
  },
  {
   "cell_type": "code",
   "execution_count": 12,
   "id": "f8576d66-db3f-436b-a6f5-43e0bdafbd27",
   "metadata": {},
   "outputs": [
    {
     "data": {
      "text/plain": [
       "['Male', 'Female', 'Male', 'Female', 'Female', 'Male', 'Male', 'Male', 'Female']\n",
       "Categories (2, object): ['Female', 'Male']"
      ]
     },
     "execution_count": 12,
     "metadata": {},
     "output_type": "execute_result"
    }
   ],
   "source": [
    "Categories = pd.Categorical(gender)\n",
    "Categories"
   ]
  },
  {
   "cell_type": "markdown",
   "id": "0fe66ebc-bf65-43d5-886d-32611b165473",
   "metadata": {},
   "source": [
    "**Accessing the objects from the categories**"
   ]
  },
  {
   "cell_type": "code",
   "execution_count": 13,
   "id": "4bdf1ea5-d311-4c6c-8046-c7c8158f7e4e",
   "metadata": {},
   "outputs": [
    {
     "name": "stdout",
     "output_type": "stream",
     "text": [
      "Categories: Male and Female\n"
     ]
    }
   ],
   "source": [
    "print(\"Categories:\", Categories[0], \"and\", Categories[1])"
   ]
  },
  {
   "cell_type": "markdown",
   "id": "622f2b42-cbcc-4096-bf07-7150d571da8e",
   "metadata": {},
   "source": [
    "**Summary on the Categrical attribute**"
   ]
  },
  {
   "cell_type": "code",
   "execution_count": 14,
   "id": "35c6cbda-c9ab-418c-8153-a918b991b464",
   "metadata": {},
   "outputs": [
    {
     "data": {
      "text/plain": [
       "count        9\n",
       "unique       2\n",
       "top       Male\n",
       "freq         5\n",
       "dtype: object"
      ]
     },
     "execution_count": 14,
     "metadata": {},
     "output_type": "execute_result"
    }
   ],
   "source": [
    "gender.describe()"
   ]
  },
  {
   "cell_type": "markdown",
   "id": "70b05467-4052-42be-94ab-dff676de6ccd",
   "metadata": {},
   "source": [
    "**Removing certain categories**"
   ]
  },
  {
   "cell_type": "code",
   "execution_count": 15,
   "id": "64a186b8-c3dc-41d7-925f-8b8e1d0f4922",
   "metadata": {},
   "outputs": [
    {
     "data": {
      "text/plain": [
       "0       NaN\n",
       "1    Female\n",
       "2       NaN\n",
       "3    Female\n",
       "4    Female\n",
       "5       NaN\n",
       "6       NaN\n",
       "7       NaN\n",
       "8    Female\n",
       "dtype: category\n",
       "Categories (1, object): ['Female']"
      ]
     },
     "execution_count": 15,
     "metadata": {},
     "output_type": "execute_result"
    }
   ],
   "source": [
    "gender.cat.remove_categories(\"Male\")"
   ]
  },
  {
   "cell_type": "markdown",
   "id": "d73980d7-8f6d-4d6d-8c06-984126349132",
   "metadata": {},
   "source": [
    "**Sparse Data - Useful when there is a large number of zero elements**"
   ]
  },
  {
   "cell_type": "code",
   "execution_count": 16,
   "id": "89364807-fdc2-4a4c-b02d-12f5a9e8d2f7",
   "metadata": {},
   "outputs": [
    {
     "data": {
      "text/plain": [
       "pandas.core.frame.DataFrame"
      ]
     },
     "execution_count": 16,
     "metadata": {},
     "output_type": "execute_result"
    }
   ],
   "source": [
    "df = pd.DataFrame(np.random.randn(10000, 4))\n",
    "df.iloc[:9998] = np.nan\n",
    "df_1 = df.astype(pd.SparseDtype(\"float\", np.nan))\n",
    "type(df_1)"
   ]
  },
  {
   "cell_type": "code",
   "execution_count": 17,
   "id": "5587bb39-8fbd-4219-8cd0-15f19305f762",
   "metadata": {},
   "outputs": [
    {
     "data": {
      "text/plain": [
       "0    Sparse[float64, nan]\n",
       "1    Sparse[float64, nan]\n",
       "2    Sparse[float64, nan]\n",
       "3    Sparse[float64, nan]\n",
       "dtype: object"
      ]
     },
     "execution_count": 17,
     "metadata": {},
     "output_type": "execute_result"
    }
   ],
   "source": [
    "df_1.dtypes"
   ]
  },
  {
   "cell_type": "code",
   "execution_count": 18,
   "id": "49d55969-e27d-40d0-9cc3-1af5e2c13f17",
   "metadata": {},
   "outputs": [
    {
     "data": {
      "text/plain": [
       "0.0002"
      ]
     },
     "execution_count": 18,
     "metadata": {},
     "output_type": "execute_result"
    }
   ],
   "source": [
    "df_1.sparse.density"
   ]
  }
 ],
 "metadata": {
  "kernelspec": {
   "display_name": "Python 3 (ipykernel)",
   "language": "python",
   "name": "python3"
  },
  "language_info": {
   "codemirror_mode": {
    "name": "ipython",
    "version": 3
   },
   "file_extension": ".py",
   "mimetype": "text/x-python",
   "name": "python",
   "nbconvert_exporter": "python",
   "pygments_lexer": "ipython3",
   "version": "3.12.1"
  }
 },
 "nbformat": 4,
 "nbformat_minor": 5
}
