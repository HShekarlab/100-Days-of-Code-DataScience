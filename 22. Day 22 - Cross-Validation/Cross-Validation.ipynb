{
 "cells": [
  {
   "cell_type": "code",
   "execution_count": 1,
   "id": "9172bffc-153a-45b2-a8e7-4809e957a9f6",
   "metadata": {},
   "outputs": [],
   "source": [
    "import numpy as np"
   ]
  },
  {
   "cell_type": "code",
   "execution_count": 2,
   "id": "f6a4e9a9-03bd-44a7-be29-675693bf24eb",
   "metadata": {},
   "outputs": [],
   "source": [
    "from sklearn.model_selection import train_test_split"
   ]
  },
  {
   "cell_type": "code",
   "execution_count": 3,
   "id": "d14034c0-0af7-4414-8371-3b1feb5bfd41",
   "metadata": {},
   "outputs": [],
   "source": [
    "X, y = np.arange(30).reshape((15, 2)), range(15)"
   ]
  },
  {
   "cell_type": "code",
   "execution_count": 4,
   "id": "96f4ff3c-10ff-451b-8e33-071c9215310c",
   "metadata": {},
   "outputs": [
    {
     "data": {
      "text/plain": [
       "array([[ 0,  1],\n",
       "       [ 2,  3],\n",
       "       [ 4,  5],\n",
       "       [ 6,  7],\n",
       "       [ 8,  9],\n",
       "       [10, 11],\n",
       "       [12, 13],\n",
       "       [14, 15],\n",
       "       [16, 17],\n",
       "       [18, 19],\n",
       "       [20, 21],\n",
       "       [22, 23],\n",
       "       [24, 25],\n",
       "       [26, 27],\n",
       "       [28, 29]])"
      ]
     },
     "execution_count": 4,
     "metadata": {},
     "output_type": "execute_result"
    }
   ],
   "source": [
    "X"
   ]
  },
  {
   "cell_type": "code",
   "execution_count": 5,
   "id": "8a993af8-73a4-48ae-8993-05ab9f4aa3c6",
   "metadata": {},
   "outputs": [
    {
     "data": {
      "text/plain": [
       "range(0, 15)"
      ]
     },
     "execution_count": 5,
     "metadata": {},
     "output_type": "execute_result"
    }
   ],
   "source": [
    "y"
   ]
  },
  {
   "cell_type": "code",
   "execution_count": 6,
   "id": "7f9afdf0-af8f-46cd-a23a-8b573d520f85",
   "metadata": {},
   "outputs": [],
   "source": [
    "X_train, X_test, y_train, y_test = train_test_split(X, y, test_size= 0.25, random_state= 100)"
   ]
  },
  {
   "cell_type": "markdown",
   "id": "861685e6-240f-409d-afb0-ab6f45569451",
   "metadata": {},
   "source": [
    "**K-folds cross-validation**"
   ]
  },
  {
   "cell_type": "code",
   "execution_count": 7,
   "id": "d0e5caec-c64b-42a1-8960-b847ef2d738c",
   "metadata": {},
   "outputs": [],
   "source": [
    "from sklearn.model_selection import KFold"
   ]
  },
  {
   "cell_type": "code",
   "execution_count": 8,
   "id": "64112910-9d0e-40d6-988d-2116ab2412aa",
   "metadata": {},
   "outputs": [],
   "source": [
    "X = np.array([[11, 26], [53, 7], [81, 39], [22, 18]])\n",
    "y = np.array([1, 2, 3, 4])"
   ]
  },
  {
   "cell_type": "code",
   "execution_count": 9,
   "id": "e617d0e7-35ef-4899-a06c-960003b0c750",
   "metadata": {},
   "outputs": [],
   "source": [
    "kf = KFold(n_splits= 2)"
   ]
  },
  {
   "cell_type": "code",
   "execution_count": 10,
   "id": "cc0a1a2d-3861-4f83-bd6e-93d52a743571",
   "metadata": {},
   "outputs": [
    {
     "name": "stdout",
     "output_type": "stream",
     "text": [
      "Train: [2 3] Test: [0 1]\n",
      "Train: [0 1] Test: [2 3]\n"
     ]
    }
   ],
   "source": [
    "for train_index, test_index in kf.split(X):\n",
    "    print(\"Train:\", train_index, \"Test:\", test_index)\n",
    "    X_train, X_test = X[train_index], X[test_index]\n",
    "    y_train, y_test = y[train_index], y[test_index]"
   ]
  },
  {
   "cell_type": "code",
   "execution_count": 11,
   "id": "19647311-11b5-4bb5-864c-575860f03bc9",
   "metadata": {},
   "outputs": [],
   "source": [
    "kf = KFold(n_splits= 3)"
   ]
  },
  {
   "cell_type": "code",
   "execution_count": 12,
   "id": "bbe47092-e71a-4e17-86ef-d6da5d26298d",
   "metadata": {},
   "outputs": [
    {
     "name": "stdout",
     "output_type": "stream",
     "text": [
      "Train: [2 3] Test: [0 1]\n",
      "Train: [0 1 3] Test: [2]\n",
      "Train: [0 1 2] Test: [3]\n"
     ]
    }
   ],
   "source": [
    "for train_index, test_index in kf.split(X):\n",
    "    print(\"Train:\", train_index, \"Test:\", test_index)\n",
    "    X_train, X_test = X[train_index], X[test_index]\n",
    "    y_train, y_test = y[train_index], y[test_index]"
   ]
  },
  {
   "cell_type": "markdown",
   "id": "9f2f5637-8392-48da-b458-f3b93f0d85ae",
   "metadata": {},
   "source": [
    "**Leave-one-out cross-validation**"
   ]
  },
  {
   "cell_type": "code",
   "execution_count": 13,
   "id": "a3d3cf91-301d-4e14-bb9d-5d175925162d",
   "metadata": {},
   "outputs": [],
   "source": [
    "from sklearn.model_selection import LeaveOneOut"
   ]
  },
  {
   "cell_type": "code",
   "execution_count": 14,
   "id": "0910130f-78df-4344-b02b-913e9ab7d01a",
   "metadata": {},
   "outputs": [],
   "source": [
    "X = np.array([[20, 16], [79, 44]])\n",
    "y = np.array([1, 2])"
   ]
  },
  {
   "cell_type": "code",
   "execution_count": 15,
   "id": "8515738e-ada3-4d9c-8305-b8e43fcb547e",
   "metadata": {},
   "outputs": [],
   "source": [
    "leave = LeaveOneOut()"
   ]
  },
  {
   "cell_type": "code",
   "execution_count": 16,
   "id": "afe0faab-7cfa-4e80-8250-4c07f9cd4f6c",
   "metadata": {},
   "outputs": [
    {
     "name": "stdout",
     "output_type": "stream",
     "text": [
      "Train: [1] Test: [0]\n",
      "Train: [0] Test: [1]\n"
     ]
    }
   ],
   "source": [
    "for train_index, test_index in leave.split(X):\n",
    "    print(\"Train:\", train_index, \"Test:\", test_index)\n",
    "    X_train, X_test = X[train_index], X[test_index]\n",
    "    y_train, y_test = y[train_index], y[test_index]"
   ]
  },
  {
   "cell_type": "markdown",
   "id": "74e7bf3c-a47b-469a-bc6d-c92bf836839e",
   "metadata": {},
   "source": [
    "**Leave-p-out cross-validation**"
   ]
  },
  {
   "cell_type": "code",
   "execution_count": 17,
   "id": "3a43e7f8-efb4-45f9-abb7-e9d4d9228072",
   "metadata": {},
   "outputs": [],
   "source": [
    "from sklearn.model_selection import LeavePOut"
   ]
  },
  {
   "cell_type": "code",
   "execution_count": 18,
   "id": "83533a57-d633-4081-a628-6fcce02ab1b8",
   "metadata": {},
   "outputs": [],
   "source": [
    "X = np.array([[11, 26], [53, 7], [81, 39], [22, 18]])\n",
    "y = np.array([1, 2, 3, 4])"
   ]
  },
  {
   "cell_type": "code",
   "execution_count": 19,
   "id": "df3fd2f4-4d40-45e9-af3f-da4ba82f7742",
   "metadata": {},
   "outputs": [],
   "source": [
    "leave_po = LeavePOut(2)"
   ]
  },
  {
   "cell_type": "code",
   "execution_count": 20,
   "id": "d9ff23da-82e6-416f-b7ef-996c27149943",
   "metadata": {},
   "outputs": [
    {
     "name": "stdout",
     "output_type": "stream",
     "text": [
      "Train: [2 3] Test: [0 1]\n",
      "Train: [1 3] Test: [0 2]\n",
      "Train: [1 2] Test: [0 3]\n",
      "Train: [0 3] Test: [1 2]\n",
      "Train: [0 2] Test: [1 3]\n",
      "Train: [0 1] Test: [2 3]\n"
     ]
    }
   ],
   "source": [
    "for train_index, test_index in leave_po.split(X):\n",
    "    print(\"Train:\", train_index, \"Test:\", test_index)\n",
    "    X_train, X_test = X[train_index], X[test_index]\n",
    "    y_train, y_test = y[train_index], y[test_index]"
   ]
  },
  {
   "cell_type": "code",
   "execution_count": 21,
   "id": "3ec50dc8-e9da-4361-8c9f-037d516e45d3",
   "metadata": {},
   "outputs": [],
   "source": [
    "leave_po = LeavePOut(3)"
   ]
  },
  {
   "cell_type": "code",
   "execution_count": 22,
   "id": "d5d2e371-e5d9-489d-9df9-43e94e3300e1",
   "metadata": {},
   "outputs": [
    {
     "name": "stdout",
     "output_type": "stream",
     "text": [
      "Train: [3] Test: [0 1 2]\n",
      "Train: [2] Test: [0 1 3]\n",
      "Train: [1] Test: [0 2 3]\n",
      "Train: [0] Test: [1 2 3]\n"
     ]
    }
   ],
   "source": [
    "for train_index, test_index in leave_po.split(X):\n",
    "    print(\"Train:\", train_index, \"Test:\", test_index)\n",
    "    X_train, X_test = X[train_index], X[test_index]\n",
    "    y_train, y_test = y[train_index], y[test_index]"
   ]
  },
  {
   "cell_type": "markdown",
   "id": "a610570b-6859-45bb-8f97-5d224d5ea0cd",
   "metadata": {},
   "source": [
    "**Stratified k-Fold cross-validation**"
   ]
  },
  {
   "cell_type": "code",
   "execution_count": 23,
   "id": "3cee2d16-22dd-485b-bf98-a41a1a886a6c",
   "metadata": {},
   "outputs": [],
   "source": [
    "from sklearn.model_selection import StratifiedKFold"
   ]
  },
  {
   "cell_type": "code",
   "execution_count": 24,
   "id": "fe5f0719-2117-4eeb-a7d6-c68a96b74613",
   "metadata": {},
   "outputs": [],
   "source": [
    "X = np.array([[1, 2], [3, 4], [1, 2], [3, 4]])\n",
    "y = np.array([0, 0, 1, 1])"
   ]
  },
  {
   "cell_type": "code",
   "execution_count": 25,
   "id": "2128350d-9201-4398-9833-caaebd049d25",
   "metadata": {},
   "outputs": [],
   "source": [
    "s_kf = StratifiedKFold(n_splits= 2)"
   ]
  },
  {
   "cell_type": "code",
   "execution_count": 26,
   "id": "0b3b7691-2fe4-4af8-8847-ed5b22b7f3ab",
   "metadata": {},
   "outputs": [
    {
     "name": "stdout",
     "output_type": "stream",
     "text": [
      "Train: [1 3] Test: [0 2]\n",
      "Train: [0 2] Test: [1 3]\n"
     ]
    }
   ],
   "source": [
    "for train_index, test_index in s_kf.split(X, y):\n",
    "    print(\"Train:\", train_index, \"Test:\", test_index)\n",
    "    X_train, X_test = X[train_index], X[test_index]\n",
    "    y_train, y_test = y[train_index], y[test_index]"
   ]
  },
  {
   "cell_type": "markdown",
   "id": "4f10f76e-35b0-4a89-ae29-6e3a18d9998e",
   "metadata": {},
   "source": [
    "**Repeated k-Fold cross-validation**"
   ]
  },
  {
   "cell_type": "code",
   "execution_count": 27,
   "id": "6a234049-5abc-4550-a03d-16faf2ca88b6",
   "metadata": {},
   "outputs": [],
   "source": [
    "from sklearn.model_selection import RepeatedKFold"
   ]
  },
  {
   "cell_type": "code",
   "execution_count": 28,
   "id": "f21ae8b4-fc0a-4550-932b-315bbdf634b9",
   "metadata": {},
   "outputs": [],
   "source": [
    "r_kf = RepeatedKFold(n_splits= 2, n_repeats= 2, random_state= 100)"
   ]
  },
  {
   "cell_type": "code",
   "execution_count": 29,
   "id": "fb20896e-abee-49de-b5fa-ce32ef916aa5",
   "metadata": {},
   "outputs": [
    {
     "name": "stdout",
     "output_type": "stream",
     "text": [
      "Train: [0 3] Test: [1 2]\n",
      "Train: [1 2] Test: [0 3]\n",
      "Train: [0 3] Test: [1 2]\n",
      "Train: [1 2] Test: [0 3]\n"
     ]
    }
   ],
   "source": [
    "for train_index, test_index in r_kf.split(X):\n",
    "    print(\"Train:\", train_index, \"Test:\", test_index)\n",
    "    X_train, X_test = X[train_index], X[test_index]\n",
    "    y_train, y_test = y[train_index], y[test_index]"
   ]
  }
 ],
 "metadata": {
  "kernelspec": {
   "display_name": "Python 3 (ipykernel)",
   "language": "python",
   "name": "python3"
  },
  "language_info": {
   "codemirror_mode": {
    "name": "ipython",
    "version": 3
   },
   "file_extension": ".py",
   "mimetype": "text/x-python",
   "name": "python",
   "nbconvert_exporter": "python",
   "pygments_lexer": "ipython3",
   "version": "3.12.1"
  }
 },
 "nbformat": 4,
 "nbformat_minor": 5
}
