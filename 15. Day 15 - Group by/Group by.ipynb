{
 "cells": [
  {
   "cell_type": "code",
   "execution_count": 1,
   "id": "3eda2bf9-f773-4540-9bb9-6f9e9c4e93f3",
   "metadata": {},
   "outputs": [],
   "source": [
    "import numpy as np\n",
    "import pandas as pd"
   ]
  },
  {
   "cell_type": "code",
   "execution_count": 2,
   "id": "b9caaa48-26d2-4c59-afee-f87fe2dae699",
   "metadata": {},
   "outputs": [],
   "source": [
    "df = pd.read_csv(\"SearchTrendData.csv\")"
   ]
  },
  {
   "cell_type": "code",
   "execution_count": 3,
   "id": "081d02e8-532a-44b9-9ffb-2ce5d4f3e13d",
   "metadata": {},
   "outputs": [
    {
     "data": {
      "text/html": [
       "<div>\n",
       "<style scoped>\n",
       "    .dataframe tbody tr th:only-of-type {\n",
       "        vertical-align: middle;\n",
       "    }\n",
       "\n",
       "    .dataframe tbody tr th {\n",
       "        vertical-align: top;\n",
       "    }\n",
       "\n",
       "    .dataframe thead th {\n",
       "        text-align: right;\n",
       "    }\n",
       "</style>\n",
       "<table border=\"1\" class=\"dataframe\">\n",
       "  <thead>\n",
       "    <tr style=\"text-align: right;\">\n",
       "      <th></th>\n",
       "      <th>Week</th>\n",
       "      <th>eLearning</th>\n",
       "      <th>DataScience</th>\n",
       "      <th>MachineLearning</th>\n",
       "      <th>ArtificialIntelligence</th>\n",
       "      <th>DeepLearning</th>\n",
       "    </tr>\n",
       "  </thead>\n",
       "  <tbody>\n",
       "    <tr>\n",
       "      <th>0</th>\n",
       "      <td>20/09/2015</td>\n",
       "      <td>32</td>\n",
       "      <td>9</td>\n",
       "      <td>11</td>\n",
       "      <td>11</td>\n",
       "      <td>4</td>\n",
       "    </tr>\n",
       "    <tr>\n",
       "      <th>1</th>\n",
       "      <td>27/09/2015</td>\n",
       "      <td>35</td>\n",
       "      <td>10</td>\n",
       "      <td>11</td>\n",
       "      <td>11</td>\n",
       "      <td>4</td>\n",
       "    </tr>\n",
       "    <tr>\n",
       "      <th>2</th>\n",
       "      <td>4/10/2015</td>\n",
       "      <td>38</td>\n",
       "      <td>10</td>\n",
       "      <td>12</td>\n",
       "      <td>11</td>\n",
       "      <td>4</td>\n",
       "    </tr>\n",
       "  </tbody>\n",
       "</table>\n",
       "</div>"
      ],
      "text/plain": [
       "         Week  eLearning  DataScience  MachineLearning  \\\n",
       "0  20/09/2015         32            9               11   \n",
       "1  27/09/2015         35           10               11   \n",
       "2   4/10/2015         38           10               12   \n",
       "\n",
       "   ArtificialIntelligence  DeepLearning  \n",
       "0                      11             4  \n",
       "1                      11             4  \n",
       "2                      11             4  "
      ]
     },
     "execution_count": 3,
     "metadata": {},
     "output_type": "execute_result"
    }
   ],
   "source": [
    "df.head(3)"
   ]
  },
  {
   "cell_type": "code",
   "execution_count": 4,
   "id": "19df9335-a6d1-45a5-b3d3-8fb4e0de506b",
   "metadata": {},
   "outputs": [
    {
     "data": {
      "text/html": [
       "<div>\n",
       "<style scoped>\n",
       "    .dataframe tbody tr th:only-of-type {\n",
       "        vertical-align: middle;\n",
       "    }\n",
       "\n",
       "    .dataframe tbody tr th {\n",
       "        vertical-align: top;\n",
       "    }\n",
       "\n",
       "    .dataframe thead th {\n",
       "        text-align: right;\n",
       "    }\n",
       "</style>\n",
       "<table border=\"1\" class=\"dataframe\">\n",
       "  <thead>\n",
       "    <tr style=\"text-align: right;\">\n",
       "      <th></th>\n",
       "      <th>Week</th>\n",
       "      <th>eLearning</th>\n",
       "      <th>DataScience</th>\n",
       "      <th>MachineLearning</th>\n",
       "      <th>ArtificialIntelligence</th>\n",
       "      <th>DeepLearning</th>\n",
       "      <th>Year</th>\n",
       "      <th>Month</th>\n",
       "      <th>Day</th>\n",
       "    </tr>\n",
       "  </thead>\n",
       "  <tbody>\n",
       "    <tr>\n",
       "      <th>0</th>\n",
       "      <td>20/09/2015</td>\n",
       "      <td>32</td>\n",
       "      <td>9</td>\n",
       "      <td>11</td>\n",
       "      <td>11</td>\n",
       "      <td>4</td>\n",
       "      <td>2015</td>\n",
       "      <td>09</td>\n",
       "      <td>20</td>\n",
       "    </tr>\n",
       "    <tr>\n",
       "      <th>1</th>\n",
       "      <td>27/09/2015</td>\n",
       "      <td>35</td>\n",
       "      <td>10</td>\n",
       "      <td>11</td>\n",
       "      <td>11</td>\n",
       "      <td>4</td>\n",
       "      <td>2015</td>\n",
       "      <td>09</td>\n",
       "      <td>27</td>\n",
       "    </tr>\n",
       "    <tr>\n",
       "      <th>2</th>\n",
       "      <td>4/10/2015</td>\n",
       "      <td>38</td>\n",
       "      <td>10</td>\n",
       "      <td>12</td>\n",
       "      <td>11</td>\n",
       "      <td>4</td>\n",
       "      <td>2015</td>\n",
       "      <td>10</td>\n",
       "      <td>4</td>\n",
       "    </tr>\n",
       "  </tbody>\n",
       "</table>\n",
       "</div>"
      ],
      "text/plain": [
       "         Week  eLearning  DataScience  MachineLearning  \\\n",
       "0  20/09/2015         32            9               11   \n",
       "1  27/09/2015         35           10               11   \n",
       "2   4/10/2015         38           10               12   \n",
       "\n",
       "   ArtificialIntelligence  DeepLearning  Year Month Day  \n",
       "0                      11             4  2015    09  20  \n",
       "1                      11             4  2015    09  27  \n",
       "2                      11             4  2015    10   4  "
      ]
     },
     "execution_count": 4,
     "metadata": {},
     "output_type": "execute_result"
    }
   ],
   "source": [
    "df[\"Year\"] = df[\"Week\"].str.strip().str[-4:]\n",
    "df[\"Month\"] = df[\"Week\"].str.strip().str[-7: -5]\n",
    "df[\"Day\"] = df[\"Week\"].str.strip().str[: -8]\n",
    "df.head(3)"
   ]
  },
  {
   "cell_type": "code",
   "execution_count": 5,
   "id": "3422287a-18ef-483c-b955-2c65854f984a",
   "metadata": {},
   "outputs": [
    {
     "data": {
      "text/plain": [
       "Year\n",
       "2015     8.800000\n",
       "2016    11.000000\n",
       "2017    17.094340\n",
       "2018    22.942308\n",
       "2019    30.653846\n",
       "2020    34.486486\n",
       "Name: DataScience, dtype: float64"
      ]
     },
     "execution_count": 5,
     "metadata": {},
     "output_type": "execute_result"
    }
   ],
   "source": [
    "df.groupby(\"Year\").DataScience.mean()"
   ]
  },
  {
   "cell_type": "code",
   "execution_count": 6,
   "id": "2471e94f-bbca-4c6c-82f9-0becf85ddfc4",
   "metadata": {},
   "outputs": [
    {
     "data": {
      "text/plain": [
       "Year\n",
       "2015    12.200000\n",
       "2016    15.865385\n",
       "2017    28.660377\n",
       "2018    36.500000\n",
       "2019    40.730769\n",
       "2020    40.351351\n",
       "Name: MachineLearning, dtype: float64"
      ]
     },
     "execution_count": 6,
     "metadata": {},
     "output_type": "execute_result"
    }
   ],
   "source": [
    "df.groupby(\"Year\").MachineLearning.mean()"
   ]
  },
  {
   "cell_type": "code",
   "execution_count": 7,
   "id": "d5dd8546-6bc8-4d56-b563-0001c1d19ec6",
   "metadata": {},
   "outputs": [
    {
     "data": {
      "text/plain": [
       "Year\n",
       "2015    10.733333\n",
       "2016    11.826923\n",
       "2017    18.094340\n",
       "2018    22.000000\n",
       "2019    22.865385\n",
       "2020    21.783784\n",
       "Name: ArtificialIntelligence, dtype: float64"
      ]
     },
     "execution_count": 7,
     "metadata": {},
     "output_type": "execute_result"
    }
   ],
   "source": [
    "df.groupby(\"Year\").ArtificialIntelligence.mean()"
   ]
  },
  {
   "cell_type": "code",
   "execution_count": 8,
   "id": "c8012f10-3b13-4da5-8cb5-4e7d7c57ae91",
   "metadata": {},
   "outputs": [
    {
     "data": {
      "text/plain": [
       "Year\n",
       "2015     4.066667\n",
       "2016     6.692308\n",
       "2017    12.150943\n",
       "2018    14.173077\n",
       "2019    14.538462\n",
       "2020    14.297297\n",
       "Name: DeepLearning, dtype: float64"
      ]
     },
     "execution_count": 8,
     "metadata": {},
     "output_type": "execute_result"
    }
   ],
   "source": [
    "df.groupby(\"Year\").DeepLearning.mean()"
   ]
  },
  {
   "cell_type": "code",
   "execution_count": 9,
   "id": "de475672-cc65-40c8-aa7b-cf1a6df6bdcd",
   "metadata": {},
   "outputs": [
    {
     "data": {
      "text/plain": [
       "Month\n",
       "01    11.454545\n",
       "02    12.100000\n",
       "03    12.272727\n",
       "04    12.363636\n",
       "05    12.181818\n",
       "06    12.333333\n",
       "07    11.826087\n",
       "08    11.952381\n",
       "09    12.000000\n",
       "10    10.954545\n",
       "11    11.000000\n",
       "12    11.000000\n",
       "Name: DeepLearning, dtype: float64"
      ]
     },
     "execution_count": 9,
     "metadata": {},
     "output_type": "execute_result"
    }
   ],
   "source": [
    "df.groupby(\"Month\").DeepLearning.mean()"
   ]
  },
  {
   "cell_type": "code",
   "execution_count": 10,
   "id": "eb08dbf0-2eea-44b1-b77b-861a5c470956",
   "metadata": {},
   "outputs": [
    {
     "data": {
      "text/plain": [
       "Year\n",
       "2015     5\n",
       "2016    10\n",
       "2017    15\n",
       "2018    16\n",
       "2019    16\n",
       "2020    16\n",
       "Name: DeepLearning, dtype: int64"
      ]
     },
     "execution_count": 10,
     "metadata": {},
     "output_type": "execute_result"
    }
   ],
   "source": [
    "df.groupby(\"Year\").DeepLearning.max()"
   ]
  },
  {
   "cell_type": "code",
   "execution_count": 11,
   "id": "e3e50c95-8f32-4021-aae3-45fa28db3413",
   "metadata": {},
   "outputs": [
    {
     "data": {
      "text/plain": [
       "Year\n",
       "2015    10\n",
       "2016    14\n",
       "2017    21\n",
       "2018    27\n",
       "2019    37\n",
       "2020    39\n",
       "Name: DataScience, dtype: int64"
      ]
     },
     "execution_count": 11,
     "metadata": {},
     "output_type": "execute_result"
    }
   ],
   "source": [
    "df.groupby(\"Year\").DataScience.max()"
   ]
  },
  {
   "cell_type": "code",
   "execution_count": 12,
   "id": "849c98aa-63ca-4e2f-820c-c8c4d24f07bc",
   "metadata": {},
   "outputs": [
    {
     "data": {
      "text/html": [
       "<div>\n",
       "<style scoped>\n",
       "    .dataframe tbody tr th:only-of-type {\n",
       "        vertical-align: middle;\n",
       "    }\n",
       "\n",
       "    .dataframe tbody tr th {\n",
       "        vertical-align: top;\n",
       "    }\n",
       "\n",
       "    .dataframe thead th {\n",
       "        text-align: right;\n",
       "    }\n",
       "</style>\n",
       "<table border=\"1\" class=\"dataframe\">\n",
       "  <thead>\n",
       "    <tr style=\"text-align: right;\">\n",
       "      <th></th>\n",
       "      <th>eLearning</th>\n",
       "      <th>DataScience</th>\n",
       "      <th>MachineLearning</th>\n",
       "      <th>ArtificialIntelligence</th>\n",
       "      <th>DeepLearning</th>\n",
       "    </tr>\n",
       "    <tr>\n",
       "      <th>Year</th>\n",
       "      <th></th>\n",
       "      <th></th>\n",
       "      <th></th>\n",
       "      <th></th>\n",
       "      <th></th>\n",
       "    </tr>\n",
       "  </thead>\n",
       "  <tbody>\n",
       "    <tr>\n",
       "      <th>2015</th>\n",
       "      <td>32.533333</td>\n",
       "      <td>8.800000</td>\n",
       "      <td>12.200000</td>\n",
       "      <td>10.733333</td>\n",
       "      <td>4.066667</td>\n",
       "    </tr>\n",
       "    <tr>\n",
       "      <th>2016</th>\n",
       "      <td>26.500000</td>\n",
       "      <td>11.000000</td>\n",
       "      <td>15.865385</td>\n",
       "      <td>11.826923</td>\n",
       "      <td>6.692308</td>\n",
       "    </tr>\n",
       "    <tr>\n",
       "      <th>2017</th>\n",
       "      <td>26.075472</td>\n",
       "      <td>17.094340</td>\n",
       "      <td>28.660377</td>\n",
       "      <td>18.094340</td>\n",
       "      <td>12.150943</td>\n",
       "    </tr>\n",
       "    <tr>\n",
       "      <th>2018</th>\n",
       "      <td>30.269231</td>\n",
       "      <td>22.942308</td>\n",
       "      <td>36.500000</td>\n",
       "      <td>22.000000</td>\n",
       "      <td>14.173077</td>\n",
       "    </tr>\n",
       "    <tr>\n",
       "      <th>2019</th>\n",
       "      <td>35.519231</td>\n",
       "      <td>30.653846</td>\n",
       "      <td>40.730769</td>\n",
       "      <td>22.865385</td>\n",
       "      <td>14.538462</td>\n",
       "    </tr>\n",
       "    <tr>\n",
       "      <th>2020</th>\n",
       "      <td>61.594595</td>\n",
       "      <td>34.486486</td>\n",
       "      <td>40.351351</td>\n",
       "      <td>21.783784</td>\n",
       "      <td>14.297297</td>\n",
       "    </tr>\n",
       "  </tbody>\n",
       "</table>\n",
       "</div>"
      ],
      "text/plain": [
       "      eLearning  DataScience  MachineLearning  ArtificialIntelligence  \\\n",
       "Year                                                                    \n",
       "2015  32.533333     8.800000        12.200000               10.733333   \n",
       "2016  26.500000    11.000000        15.865385               11.826923   \n",
       "2017  26.075472    17.094340        28.660377               18.094340   \n",
       "2018  30.269231    22.942308        36.500000               22.000000   \n",
       "2019  35.519231    30.653846        40.730769               22.865385   \n",
       "2020  61.594595    34.486486        40.351351               21.783784   \n",
       "\n",
       "      DeepLearning  \n",
       "Year                \n",
       "2015      4.066667  \n",
       "2016      6.692308  \n",
       "2017     12.150943  \n",
       "2018     14.173077  \n",
       "2019     14.538462  \n",
       "2020     14.297297  "
      ]
     },
     "execution_count": 12,
     "metadata": {},
     "output_type": "execute_result"
    }
   ],
   "source": [
    "column = [\"eLearning\", \"DataScience\", \"MachineLearning\", \"ArtificialIntelligence\", \"DeepLearning\"]\n",
    "\n",
    "df.groupby(\"Year\").apply(lambda df: df[column].mean())"
   ]
  },
  {
   "cell_type": "code",
   "execution_count": 13,
   "id": "d2759781-5be3-4624-b7fb-fc1c5b7e1b5f",
   "metadata": {},
   "outputs": [
    {
     "data": {
      "text/plain": [
       "Year  Month\n",
       "2015  09        9.50\n",
       "      10        9.50\n",
       "      11        8.60\n",
       "      12        8.00\n",
       "2016  01       10.40\n",
       "               ...  \n",
       "2020  05       32.40\n",
       "      06       33.75\n",
       "      07       35.25\n",
       "      08       36.20\n",
       "      09       38.50\n",
       "Name: DataScience, Length: 61, dtype: float64"
      ]
     },
     "execution_count": 13,
     "metadata": {},
     "output_type": "execute_result"
    }
   ],
   "source": [
    "df.groupby([\"Year\", \"Month\"]).DataScience.mean()"
   ]
  },
  {
   "cell_type": "code",
   "execution_count": 14,
   "id": "08d0d021-6c68-4661-a539-72e9e049ff8c",
   "metadata": {},
   "outputs": [
    {
     "name": "stderr",
     "output_type": "stream",
     "text": [
      "C:\\Users\\Hediye\\AppData\\Local\\Temp\\ipykernel_13200\\2498795344.py:1: FutureWarning: The provided callable <function mean at 0x00000282E6C42F20> is currently using SeriesGroupBy.mean. In a future version of pandas, the provided callable will be used directly. To keep current behavior pass the string \"mean\" instead.\n",
      "  df.groupby(\"Year\").DataScience.aggregate([np.mean, max, min, len, np.std])\n",
      "C:\\Users\\Hediye\\AppData\\Local\\Temp\\ipykernel_13200\\2498795344.py:1: FutureWarning: The provided callable <built-in function max> is currently using SeriesGroupBy.max. In a future version of pandas, the provided callable will be used directly. To keep current behavior pass the string \"max\" instead.\n",
      "  df.groupby(\"Year\").DataScience.aggregate([np.mean, max, min, len, np.std])\n",
      "C:\\Users\\Hediye\\AppData\\Local\\Temp\\ipykernel_13200\\2498795344.py:1: FutureWarning: The provided callable <built-in function min> is currently using SeriesGroupBy.min. In a future version of pandas, the provided callable will be used directly. To keep current behavior pass the string \"min\" instead.\n",
      "  df.groupby(\"Year\").DataScience.aggregate([np.mean, max, min, len, np.std])\n",
      "C:\\Users\\Hediye\\AppData\\Local\\Temp\\ipykernel_13200\\2498795344.py:1: FutureWarning: The provided callable <function std at 0x00000282E6C43060> is currently using SeriesGroupBy.std. In a future version of pandas, the provided callable will be used directly. To keep current behavior pass the string \"std\" instead.\n",
      "  df.groupby(\"Year\").DataScience.aggregate([np.mean, max, min, len, np.std])\n"
     ]
    },
    {
     "data": {
      "text/html": [
       "<div>\n",
       "<style scoped>\n",
       "    .dataframe tbody tr th:only-of-type {\n",
       "        vertical-align: middle;\n",
       "    }\n",
       "\n",
       "    .dataframe tbody tr th {\n",
       "        vertical-align: top;\n",
       "    }\n",
       "\n",
       "    .dataframe thead th {\n",
       "        text-align: right;\n",
       "    }\n",
       "</style>\n",
       "<table border=\"1\" class=\"dataframe\">\n",
       "  <thead>\n",
       "    <tr style=\"text-align: right;\">\n",
       "      <th></th>\n",
       "      <th>mean</th>\n",
       "      <th>max</th>\n",
       "      <th>min</th>\n",
       "      <th>len</th>\n",
       "      <th>std</th>\n",
       "    </tr>\n",
       "    <tr>\n",
       "      <th>Year</th>\n",
       "      <th></th>\n",
       "      <th></th>\n",
       "      <th></th>\n",
       "      <th></th>\n",
       "      <th></th>\n",
       "    </tr>\n",
       "  </thead>\n",
       "  <tbody>\n",
       "    <tr>\n",
       "      <th>2015</th>\n",
       "      <td>8.800000</td>\n",
       "      <td>10</td>\n",
       "      <td>7</td>\n",
       "      <td>15</td>\n",
       "      <td>0.941124</td>\n",
       "    </tr>\n",
       "    <tr>\n",
       "      <th>2016</th>\n",
       "      <td>11.000000</td>\n",
       "      <td>14</td>\n",
       "      <td>9</td>\n",
       "      <td>52</td>\n",
       "      <td>1.546660</td>\n",
       "    </tr>\n",
       "    <tr>\n",
       "      <th>2017</th>\n",
       "      <td>17.094340</td>\n",
       "      <td>21</td>\n",
       "      <td>13</td>\n",
       "      <td>53</td>\n",
       "      <td>1.983239</td>\n",
       "    </tr>\n",
       "    <tr>\n",
       "      <th>2018</th>\n",
       "      <td>22.942308</td>\n",
       "      <td>27</td>\n",
       "      <td>19</td>\n",
       "      <td>52</td>\n",
       "      <td>1.974479</td>\n",
       "    </tr>\n",
       "    <tr>\n",
       "      <th>2019</th>\n",
       "      <td>30.653846</td>\n",
       "      <td>37</td>\n",
       "      <td>26</td>\n",
       "      <td>52</td>\n",
       "      <td>2.771597</td>\n",
       "    </tr>\n",
       "    <tr>\n",
       "      <th>2020</th>\n",
       "      <td>34.486486</td>\n",
       "      <td>39</td>\n",
       "      <td>28</td>\n",
       "      <td>37</td>\n",
       "      <td>2.652270</td>\n",
       "    </tr>\n",
       "  </tbody>\n",
       "</table>\n",
       "</div>"
      ],
      "text/plain": [
       "           mean  max  min  len       std\n",
       "Year                                    \n",
       "2015   8.800000   10    7   15  0.941124\n",
       "2016  11.000000   14    9   52  1.546660\n",
       "2017  17.094340   21   13   53  1.983239\n",
       "2018  22.942308   27   19   52  1.974479\n",
       "2019  30.653846   37   26   52  2.771597\n",
       "2020  34.486486   39   28   37  2.652270"
      ]
     },
     "execution_count": 14,
     "metadata": {},
     "output_type": "execute_result"
    }
   ],
   "source": [
    "df.groupby(\"Year\").DataScience.aggregate([np.mean, max, min, len, np.std])"
   ]
  }
 ],
 "metadata": {
  "kernelspec": {
   "display_name": "Python 3 (ipykernel)",
   "language": "python",
   "name": "python3"
  },
  "language_info": {
   "codemirror_mode": {
    "name": "ipython",
    "version": 3
   },
   "file_extension": ".py",
   "mimetype": "text/x-python",
   "name": "python",
   "nbconvert_exporter": "python",
   "pygments_lexer": "ipython3",
   "version": "3.12.1"
  }
 },
 "nbformat": 4,
 "nbformat_minor": 5
}
