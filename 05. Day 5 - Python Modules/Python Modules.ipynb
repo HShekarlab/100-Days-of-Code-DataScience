{
 "cells": [
  {
   "cell_type": "markdown",
   "id": "46968917-f3e0-4408-bdff-713df934e2e5",
   "metadata": {},
   "source": [
    "**==================== Python Modules ====================**"
   ]
  },
  {
   "cell_type": "code",
   "execution_count": 1,
   "id": "a11f6f2b-409f-44c8-9a70-971d3529ecb7",
   "metadata": {},
   "outputs": [],
   "source": [
    "import math"
   ]
  },
  {
   "cell_type": "code",
   "execution_count": 2,
   "id": "ea8c04b9-11d7-4c0f-b089-0e4d2a1097ee",
   "metadata": {},
   "outputs": [],
   "source": [
    "cos_90 = math.cos(90)\n",
    "sin_0 = math.sin(0)\n",
    "tan_45 = math.tan(45)\n",
    "pie = math.pi"
   ]
  },
  {
   "cell_type": "code",
   "execution_count": 3,
   "id": "f55aa62e-1c87-46e3-ae29-cc1cbd0120fa",
   "metadata": {},
   "outputs": [
    {
     "name": "stdout",
     "output_type": "stream",
     "text": [
      "Value of cos_90 is: -0.4480736161291701\n"
     ]
    }
   ],
   "source": [
    "print(\"Value of cos_90 is:\", cos_90)"
   ]
  },
  {
   "cell_type": "code",
   "execution_count": 4,
   "id": "6e211795-2e73-42cd-b0cc-51207d81f42d",
   "metadata": {},
   "outputs": [
    {
     "name": "stdout",
     "output_type": "stream",
     "text": [
      "Value of sin_0 is: 0.0\n"
     ]
    }
   ],
   "source": [
    "print(\"Value of sin_0 is:\", sin_0)"
   ]
  },
  {
   "cell_type": "code",
   "execution_count": 5,
   "id": "62e78a67-ec1e-4b69-acea-1efe3d9d3983",
   "metadata": {},
   "outputs": [
    {
     "name": "stdout",
     "output_type": "stream",
     "text": [
      "Value of tan_45 is: 1.6197751905438615\n"
     ]
    }
   ],
   "source": [
    "print(\"Value of tan_45 is:\", tan_45)"
   ]
  },
  {
   "cell_type": "code",
   "execution_count": 6,
   "id": "4659d68e-faf5-445f-86b7-2d1a9d5a1552",
   "metadata": {},
   "outputs": [
    {
     "name": "stdout",
     "output_type": "stream",
     "text": [
      "Value of pie is: 3.141592653589793\n"
     ]
    }
   ],
   "source": [
    "print(\"Value of pie is:\", pie)"
   ]
  },
  {
   "cell_type": "code",
   "execution_count": 7,
   "id": "b8a2608c-4e90-4430-a9d5-e4bd5c546d1f",
   "metadata": {},
   "outputs": [],
   "source": [
    "from math import e, tau"
   ]
  },
  {
   "cell_type": "code",
   "execution_count": 8,
   "id": "c7e54606-3279-4619-b7e3-088e679b2da2",
   "metadata": {},
   "outputs": [
    {
     "name": "stdout",
     "output_type": "stream",
     "text": [
      "The value of tau is:  6.283185307179586\n"
     ]
    }
   ],
   "source": [
    "print( \"The value of tau is: \", tau )    "
   ]
  },
  {
   "cell_type": "code",
   "execution_count": 9,
   "id": "4a3075db-85fc-4063-af51-88cf1a43448f",
   "metadata": {},
   "outputs": [
    {
     "name": "stdout",
     "output_type": "stream",
     "text": [
      "euler's number is:  2.718281828459045\n"
     ]
    }
   ],
   "source": [
    "print( \"euler's number is: \", e ) "
   ]
  },
  {
   "cell_type": "code",
   "execution_count": 10,
   "id": "833af466-4085-4b24-9e3e-3f01d0810c20",
   "metadata": {},
   "outputs": [],
   "source": [
    "from math import sqrt, factorial, pi"
   ]
  },
  {
   "cell_type": "code",
   "execution_count": 11,
   "id": "ecd217a2-0617-47cd-8fb6-e3e8d139fc5e",
   "metadata": {},
   "outputs": [
    {
     "name": "stdout",
     "output_type": "stream",
     "text": [
      "10.0\n"
     ]
    }
   ],
   "source": [
    "print(sqrt(100))"
   ]
  },
  {
   "cell_type": "code",
   "execution_count": 12,
   "id": "1161a078-b46c-4958-844e-bd87ddefa89c",
   "metadata": {},
   "outputs": [
    {
     "name": "stdout",
     "output_type": "stream",
     "text": [
      "120\n"
     ]
    }
   ],
   "source": [
    "print(factorial(5))"
   ]
  },
  {
   "cell_type": "code",
   "execution_count": 13,
   "id": "b7609dd2-7862-44dc-a60b-c473796f4ef7",
   "metadata": {},
   "outputs": [
    {
     "name": "stdout",
     "output_type": "stream",
     "text": [
      "3.141592653589793\n"
     ]
    }
   ],
   "source": [
    "print(pi)"
   ]
  },
  {
   "cell_type": "code",
   "execution_count": 14,
   "id": "377716be-0c55-4d0a-98df-45bde9c4e47f",
   "metadata": {},
   "outputs": [
    {
     "data": {
      "text/plain": [
       "36"
      ]
     },
     "execution_count": 14,
     "metadata": {},
     "output_type": "execute_result"
    }
   ],
   "source": [
    "x = math.ceil(35.8)\n",
    "x"
   ]
  },
  {
   "cell_type": "code",
   "execution_count": 15,
   "id": "c48100b8-3bc8-4116-a5aa-a2a535b19535",
   "metadata": {},
   "outputs": [
    {
     "data": {
      "text/plain": [
       "35"
      ]
     },
     "execution_count": 15,
     "metadata": {},
     "output_type": "execute_result"
    }
   ],
   "source": [
    "y = math.floor(35.8)\n",
    "y"
   ]
  },
  {
   "cell_type": "code",
   "execution_count": 16,
   "id": "7137257e-34c6-4591-b38c-355f6042a80b",
   "metadata": {},
   "outputs": [
    {
     "name": "stdout",
     "output_type": "stream",
     "text": [
      "7 to the power of 3: 343\n"
     ]
    }
   ],
   "source": [
    "x = pow(7, 3)\n",
    "print(\"7 to the power of 3:\", x)"
   ]
  },
  {
   "cell_type": "code",
   "execution_count": 17,
   "id": "e48adaf2-cfa0-419e-9293-bccc164e8084",
   "metadata": {},
   "outputs": [
    {
     "name": "stdout",
     "output_type": "stream",
     "text": [
      "Minimum value in x:  5\n",
      "Maximum value in y: 30\n"
     ]
    }
   ],
   "source": [
    "x = min(5, 10, 30, 11)\n",
    "y = max(5, 10, 30, 11)\n",
    "\n",
    "print(\"Minimum value in x: \", x)\n",
    "print(\"Maximum value in y:\", y)"
   ]
  },
  {
   "cell_type": "code",
   "execution_count": 18,
   "id": "02489d0c-d04c-43d8-bb68-320e8521b18e",
   "metadata": {},
   "outputs": [
    {
     "data": {
      "text/plain": [
       "49.25"
      ]
     },
     "execution_count": 18,
     "metadata": {},
     "output_type": "execute_result"
    }
   ],
   "source": [
    "x = abs(-49.25)\n",
    "x"
   ]
  },
  {
   "cell_type": "markdown",
   "id": "0dca91ed-748e-499b-86e1-54d0914a5957",
   "metadata": {},
   "source": [
    "**==================== Date & Time ====================**"
   ]
  },
  {
   "cell_type": "code",
   "execution_count": 19,
   "id": "b4307c47-de87-4e3c-a014-c47f2be6855d",
   "metadata": {},
   "outputs": [],
   "source": [
    "import datetime"
   ]
  },
  {
   "cell_type": "code",
   "execution_count": 20,
   "id": "cd0381e4-ac54-4066-8174-ad7d41b4c7f6",
   "metadata": {},
   "outputs": [
    {
     "name": "stdout",
     "output_type": "stream",
     "text": [
      "2024-02-03 11:01:22.647229\n"
     ]
    }
   ],
   "source": [
    "now = datetime.datetime.now()\n",
    "print(now)"
   ]
  },
  {
   "cell_type": "code",
   "execution_count": 21,
   "id": "2354c2f8-5eb0-4a5c-8052-d81e58e0da16",
   "metadata": {},
   "outputs": [
    {
     "data": {
      "text/plain": [
       "2024"
      ]
     },
     "execution_count": 21,
     "metadata": {},
     "output_type": "execute_result"
    }
   ],
   "source": [
    "now.year"
   ]
  },
  {
   "cell_type": "code",
   "execution_count": 22,
   "id": "c81a495e-1c7b-4e51-93b6-58b42c11bcbd",
   "metadata": {},
   "outputs": [
    {
     "data": {
      "text/plain": [
       "2"
      ]
     },
     "execution_count": 22,
     "metadata": {},
     "output_type": "execute_result"
    }
   ],
   "source": [
    "now.month"
   ]
  },
  {
   "cell_type": "code",
   "execution_count": 23,
   "id": "23c3b20c-56a9-49f4-a5bb-8d507b4ac18c",
   "metadata": {},
   "outputs": [
    {
     "data": {
      "text/plain": [
       "3"
      ]
     },
     "execution_count": 23,
     "metadata": {},
     "output_type": "execute_result"
    }
   ],
   "source": [
    "now.day"
   ]
  },
  {
   "cell_type": "code",
   "execution_count": 24,
   "id": "45f32fe7-9b1f-4140-9c2e-ebde2964b03d",
   "metadata": {},
   "outputs": [],
   "source": [
    "import time"
   ]
  },
  {
   "cell_type": "code",
   "execution_count": 25,
   "id": "1af2aaa7-f201-432b-9ccd-96eac28c88d1",
   "metadata": {},
   "outputs": [
    {
     "data": {
      "text/plain": [
       "1706945483.3171587"
      ]
     },
     "execution_count": 25,
     "metadata": {},
     "output_type": "execute_result"
    }
   ],
   "source": [
    "time.time()"
   ]
  },
  {
   "cell_type": "code",
   "execution_count": 26,
   "id": "2d5e1767-532e-4705-8ad2-8f17763e88f7",
   "metadata": {},
   "outputs": [
    {
     "data": {
      "text/plain": [
       "'Sat Feb  3 11:01:23 2024'"
      ]
     },
     "execution_count": 26,
     "metadata": {},
     "output_type": "execute_result"
    }
   ],
   "source": [
    "time.ctime()"
   ]
  },
  {
   "cell_type": "code",
   "execution_count": 27,
   "id": "1c965137-45b3-427f-9f82-6ea4ac5411e1",
   "metadata": {},
   "outputs": [
    {
     "name": "stdout",
     "output_type": "stream",
     "text": [
      "Sat Feb  3 11:01:23 2024\n"
     ]
    }
   ],
   "source": [
    "print(time.ctime())"
   ]
  },
  {
   "cell_type": "code",
   "execution_count": 28,
   "id": "d7761c1c-688f-435b-ae05-4519e0f21732",
   "metadata": {},
   "outputs": [
    {
     "name": "stdout",
     "output_type": "stream",
     "text": [
      "Sat Feb  3 11:01:50 2024\n"
     ]
    }
   ],
   "source": [
    "time.sleep(27)\n",
    "print(time.ctime())"
   ]
  },
  {
   "cell_type": "code",
   "execution_count": 29,
   "id": "65e40da4-f8b2-4ce7-ab60-1aed330c3c34",
   "metadata": {},
   "outputs": [
    {
     "data": {
      "text/plain": [
       "time.struct_time(tm_year=2022, tm_mon=7, tm_mday=24, tm_hour=17, tm_min=59, tm_sec=16, tm_wday=6, tm_yday=205, tm_isdst=0)"
      ]
     },
     "execution_count": 29,
     "metadata": {},
     "output_type": "execute_result"
    }
   ],
   "source": [
    "time.localtime(1658672956.8853111)"
   ]
  },
  {
   "cell_type": "code",
   "execution_count": 30,
   "id": "5b5e1b3e-2e85-4af8-bc1e-df4b101fbbd0",
   "metadata": {},
   "outputs": [
    {
     "data": {
      "text/plain": [
       "time.struct_time(tm_year=2022, tm_mon=7, tm_mday=24, tm_hour=14, tm_min=29, tm_sec=16, tm_wday=6, tm_yday=205, tm_isdst=0)"
      ]
     },
     "execution_count": 30,
     "metadata": {},
     "output_type": "execute_result"
    }
   ],
   "source": [
    "time.gmtime(1658672956.8853111)"
   ]
  },
  {
   "cell_type": "code",
   "execution_count": 31,
   "id": "364cf2f9-e569-4a54-bcc3-3a753d18a405",
   "metadata": {},
   "outputs": [
    {
     "data": {
      "text/plain": [
       "1718132715.0"
      ]
     },
     "execution_count": 31,
     "metadata": {},
     "output_type": "execute_result"
    }
   ],
   "source": [
    "local_time = (2024, 6, 11, 22, 35, 15, 6, 205, 0)\n",
    "time.mktime(local_time)"
   ]
  },
  {
   "cell_type": "code",
   "execution_count": 32,
   "id": "f3cc825f-a332-479e-a983-1e37da27463d",
   "metadata": {},
   "outputs": [
    {
     "data": {
      "text/plain": [
       "'Sun Jun 11 22:35:15 2024'"
      ]
     },
     "execution_count": 32,
     "metadata": {},
     "output_type": "execute_result"
    }
   ],
   "source": [
    "local_time = (2024, 6, 11, 22, 35, 15, 6, 205, 0)\n",
    "time.asctime(local_time)"
   ]
  },
  {
   "cell_type": "code",
   "execution_count": 33,
   "id": "fdb57c34-966b-412c-8f2b-a17dbfdde885",
   "metadata": {},
   "outputs": [
    {
     "name": "stdout",
     "output_type": "stream",
     "text": [
      "Sun Jun 11 22:35:15 2024\n"
     ]
    }
   ],
   "source": [
    "local_time = (2024, 6, 11, 22, 35, 15, 6, 205, 0)\n",
    "print(time.asctime(local_time))"
   ]
  },
  {
   "cell_type": "code",
   "execution_count": 34,
   "id": "ceea9fac-af1d-4c2f-89bf-e7eaf0df903b",
   "metadata": {},
   "outputs": [
    {
     "data": {
      "text/plain": [
       "time.struct_time(tm_year=2024, tm_mon=7, tm_mday=20, tm_hour=0, tm_min=0, tm_sec=0, tm_wday=5, tm_yday=202, tm_isdst=-1)"
      ]
     },
     "execution_count": 34,
     "metadata": {},
     "output_type": "execute_result"
    }
   ],
   "source": [
    "local_time = \"20 July, 2024\"\n",
    "time.strptime(local_time, \"%d %B, %Y\")"
   ]
  },
  {
   "cell_type": "code",
   "execution_count": 35,
   "id": "431cf803-4a1d-4dd1-b39e-ba15737c71e6",
   "metadata": {},
   "outputs": [],
   "source": [
    "import calendar"
   ]
  },
  {
   "cell_type": "code",
   "execution_count": 36,
   "id": "bcedf2d1-ebcc-4f3b-9d55-0d7ad73bf63d",
   "metadata": {},
   "outputs": [
    {
     "data": {
      "text/plain": [
       "'      May 2024\\nMo Tu We Th Fr Sa Su\\n       1  2  3  4  5\\n 6  7  8  9 10 11 12\\n13 14 15 16 17 18 19\\n20 21 22 23 24 25 26\\n27 28 29 30 31\\n'"
      ]
     },
     "execution_count": 36,
     "metadata": {},
     "output_type": "execute_result"
    }
   ],
   "source": [
    "calendar.month(2024, 5)"
   ]
  },
  {
   "cell_type": "code",
   "execution_count": 37,
   "id": "ec215cfa-312a-4cba-b420-a93ed087d542",
   "metadata": {},
   "outputs": [
    {
     "name": "stdout",
     "output_type": "stream",
     "text": [
      "      May 2024\n",
      "Mo Tu We Th Fr Sa Su\n",
      "       1  2  3  4  5\n",
      " 6  7  8  9 10 11 12\n",
      "13 14 15 16 17 18 19\n",
      "20 21 22 23 24 25 26\n",
      "27 28 29 30 31\n",
      "\n"
     ]
    }
   ],
   "source": [
    "print(calendar.month(2024, 5))"
   ]
  },
  {
   "cell_type": "code",
   "execution_count": 38,
   "id": "738b27aa-e6cf-495b-80ea-149864258b25",
   "metadata": {},
   "outputs": [],
   "source": [
    "import os"
   ]
  },
  {
   "cell_type": "code",
   "execution_count": 39,
   "id": "147ae465-f434-49df-be86-bac73e6926d1",
   "metadata": {},
   "outputs": [
    {
     "data": {
      "text/plain": [
       "\"C:\\\\Users\\\\Hediye\\\\Desktop\\\\Data Science\\\\practice\\\\100 Day's Challenge\\\\5\""
      ]
     },
     "execution_count": 39,
     "metadata": {},
     "output_type": "execute_result"
    }
   ],
   "source": [
    "os.getcwd()"
   ]
  },
  {
   "cell_type": "code",
   "execution_count": 40,
   "id": "be0e7b74-1c56-4099-8872-0368918d0670",
   "metadata": {},
   "outputs": [
    {
     "name": "stdout",
     "output_type": "stream",
     "text": [
      "C:\\Users\\Hediye\\Desktop\\Data Science\\practice\\100 Day's Challenge\\5\n"
     ]
    }
   ],
   "source": [
    "print(os.getcwd())"
   ]
  },
  {
   "cell_type": "code",
   "execution_count": 41,
   "id": "cc4e1e46-f41a-49de-b7ed-48c596488941",
   "metadata": {},
   "outputs": [
    {
     "data": {
      "text/plain": [
       "'Hediye'"
      ]
     },
     "execution_count": 41,
     "metadata": {},
     "output_type": "execute_result"
    }
   ],
   "source": [
    "os.getlogin()"
   ]
  },
  {
   "cell_type": "code",
   "execution_count": 42,
   "id": "94ff18a0-16cc-4c48-99a5-745084e26556",
   "metadata": {},
   "outputs": [
    {
     "name": "stdout",
     "output_type": "stream",
     "text": [
      "Hediye\n"
     ]
    }
   ],
   "source": [
    "print(os.getlogin())"
   ]
  },
  {
   "cell_type": "code",
   "execution_count": 43,
   "id": "4cfdcfb1-c85e-49d6-8b04-f44b6ee03bee",
   "metadata": {},
   "outputs": [],
   "source": [
    "import sys"
   ]
  },
  {
   "cell_type": "code",
   "execution_count": 44,
   "id": "98e1e509-3e38-4962-81bb-73f379c9a1da",
   "metadata": {},
   "outputs": [
    {
     "data": {
      "text/plain": [
       "'3.12.1 (tags/v3.12.1:2305ca5, Dec  7 2023, 22:03:25) [MSC v.1937 64 bit (AMD64)]'"
      ]
     },
     "execution_count": 44,
     "metadata": {},
     "output_type": "execute_result"
    }
   ],
   "source": [
    "sys.version"
   ]
  },
  {
   "cell_type": "code",
   "execution_count": 45,
   "id": "d541505c-7e95-4f98-94bb-955fece23132",
   "metadata": {},
   "outputs": [
    {
     "data": {
      "text/plain": [
       "['C:\\\\Users\\\\Hediye\\\\AppData\\\\Local\\\\Programs\\\\Python\\\\Python312\\\\Lib\\\\site-packages\\\\ipykernel_launcher.py',\n",
       " '-f',\n",
       " 'C:\\\\Users\\\\Hediye\\\\AppData\\\\Roaming\\\\jupyter\\\\runtime\\\\kernel-a331aa04-cefd-49c5-954c-8bef1856d3a9.json']"
      ]
     },
     "execution_count": 45,
     "metadata": {},
     "output_type": "execute_result"
    }
   ],
   "source": [
    "sys.argv"
   ]
  },
  {
   "cell_type": "code",
   "execution_count": 46,
   "id": "693ce4c7-3bd1-453e-9ff5-8cc9c50ee16c",
   "metadata": {},
   "outputs": [],
   "source": [
    "import json"
   ]
  },
  {
   "cell_type": "code",
   "execution_count": 47,
   "id": "c7323822-7bd3-4199-83c2-f615a910fe8b",
   "metadata": {},
   "outputs": [
    {
     "name": "stdout",
     "output_type": "stream",
     "text": [
      "{\"name\": \"John Doe\", \"age\": 30, \"city\": \"New York\"}\n"
     ]
    }
   ],
   "source": [
    "data = {\"name\": \"John Doe\",\n",
    "        \"age\": 30,\n",
    "        \"city\": \"New York\"\n",
    "}\n",
    "\n",
    "json_data = json.dumps(data)\n",
    "print(json_data)"
   ]
  },
  {
   "cell_type": "code",
   "execution_count": 48,
   "id": "25f0293a-6bb7-4622-acf5-1d3b14cd6520",
   "metadata": {},
   "outputs": [],
   "source": [
    "import random"
   ]
  },
  {
   "cell_type": "code",
   "execution_count": 49,
   "id": "84f58cf5-5923-479a-a3df-337caf247084",
   "metadata": {},
   "outputs": [
    {
     "data": {
      "text/plain": [
       "746"
      ]
     },
     "execution_count": 49,
     "metadata": {},
     "output_type": "execute_result"
    }
   ],
   "source": [
    "random.randint(1, 1000)"
   ]
  },
  {
   "cell_type": "code",
   "execution_count": 50,
   "id": "139b989b-3535-498f-b927-d691f534a361",
   "metadata": {},
   "outputs": [
    {
     "data": {
      "text/plain": [
       "170"
      ]
     },
     "execution_count": 50,
     "metadata": {},
     "output_type": "execute_result"
    }
   ],
   "source": [
    "random.choice(range(1, 200))"
   ]
  },
  {
   "cell_type": "markdown",
   "id": "fe655522-a859-407e-a885-31e093f5ae9e",
   "metadata": {},
   "source": [
    "**==================== User-defined modules in Python ====================**"
   ]
  },
  {
   "cell_type": "code",
   "execution_count": 51,
   "id": "77b66e2c-0273-4b82-add6-4d311c99abde",
   "metadata": {},
   "outputs": [
    {
     "name": "stdin",
     "output_type": "stream",
     "text": [
      "Please Enter first number: 73\n",
      "Please Enter second number: 52\n"
     ]
    }
   ],
   "source": [
    "num_1 = int(input(\"Please Enter first number:\"))\n",
    "num_2 = int(input(\"Please Enter second number:\"))"
   ]
  },
  {
   "cell_type": "code",
   "execution_count": 52,
   "id": "2a93b281-335b-4707-8a31-844378ffcff3",
   "metadata": {},
   "outputs": [
    {
     "name": "stdout",
     "output_type": "stream",
     "text": [
      "Addition :  125\n"
     ]
    }
   ],
   "source": [
    "print(\"Addition : \", num_1 + num_2)"
   ]
  },
  {
   "cell_type": "code",
   "execution_count": 53,
   "id": "162f2d4f-a4ab-4d40-a703-e61372e6afdc",
   "metadata": {},
   "outputs": [
    {
     "name": "stdout",
     "output_type": "stream",
     "text": [
      "Subtraction :  21\n"
     ]
    }
   ],
   "source": [
    "print(\"Subtraction : \", num_1 - num_2)"
   ]
  },
  {
   "cell_type": "code",
   "execution_count": 54,
   "id": "67be464d-4624-4617-be07-02312dbe8a04",
   "metadata": {},
   "outputs": [
    {
     "name": "stdout",
     "output_type": "stream",
     "text": [
      "Multiplication :  3796\n"
     ]
    }
   ],
   "source": [
    "print(\"Multiplication : \", num_1 * num_2)"
   ]
  },
  {
   "cell_type": "code",
   "execution_count": 55,
   "id": "8a82bfdd-8f34-4d0d-86d9-d3684ac9d810",
   "metadata": {},
   "outputs": [
    {
     "name": "stdout",
     "output_type": "stream",
     "text": [
      "Division :  1.4038461538461537\n"
     ]
    }
   ],
   "source": [
    "print(\"Division : \", num_1 / num_2)"
   ]
  },
  {
   "cell_type": "code",
   "execution_count": 56,
   "id": "b441d772-ddc3-404c-9f4b-4b5fb1336845",
   "metadata": {},
   "outputs": [
    {
     "name": "stdout",
     "output_type": "stream",
     "text": [
      "The number is: 657\n",
      "The number is: 857\n"
     ]
    }
   ],
   "source": [
    "num = 657 \n",
    "\n",
    "def Add_Number(): \n",
    "    global num    \n",
    "    num = num + 200  \n",
    "\n",
    "\n",
    "print(\"The number is:\", num)       \n",
    "\n",
    "Add_Number()    \n",
    "print(\"The number is:\", num)   "
   ]
  }
 ],
 "metadata": {
  "kernelspec": {
   "display_name": "Python 3 (ipykernel)",
   "language": "python",
   "name": "python3"
  },
  "language_info": {
   "codemirror_mode": {
    "name": "ipython",
    "version": 3
   },
   "file_extension": ".py",
   "mimetype": "text/x-python",
   "name": "python",
   "nbconvert_exporter": "python",
   "pygments_lexer": "ipython3",
   "version": "3.12.1"
  }
 },
 "nbformat": 4,
 "nbformat_minor": 5
}
