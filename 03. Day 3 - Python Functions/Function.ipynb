{
 "cells": [
  {
   "cell_type": "markdown",
   "id": "e885fed5-3e1a-44ef-b9f3-3cc9a9b5191c",
   "metadata": {},
   "source": [
    "**==================== Python Functions ====================**"
   ]
  },
  {
   "cell_type": "code",
   "execution_count": 2,
   "id": "5e3868cc-b856-463e-9716-cb3440988364",
   "metadata": {},
   "outputs": [
    {
     "name": "stdout",
     "output_type": "stream",
     "text": [
      "Hello,  Jack David\n"
     ]
    }
   ],
   "source": [
    "def full_name(f_name, l_name):\n",
    "    print(\"Hello, \", f_name, l_name)\n",
    "\n",
    "full_name(\"Jack\", \"David\")"
   ]
  },
  {
   "cell_type": "markdown",
   "id": "5636a451-4d48-469e-99d9-cc9544a75fa8",
   "metadata": {},
   "source": [
    "**==================== Function Arguments ====================**"
   ]
  },
  {
   "cell_type": "code",
   "execution_count": 3,
   "id": "658a97b7-b8ea-4ec7-b81a-22661b6179e4",
   "metadata": {},
   "outputs": [
    {
     "name": "stdout",
     "output_type": "stream",
     "text": [
      "Hello,  Amy Jack David\n"
     ]
    }
   ],
   "source": [
    "def full_name(f_name, m_name = \"Jack\", l_name = \"David\"):\n",
    "    print(\"Hello, \", f_name, m_name, l_name)\n",
    "\n",
    "full_name(\"Amy\")"
   ]
  },
  {
   "cell_type": "code",
   "execution_count": 4,
   "id": "2bfb005f-6286-48c7-b8e0-753f82ee8018",
   "metadata": {},
   "outputs": [
    {
     "name": "stdout",
     "output_type": "stream",
     "text": [
      "Hello,  Jade Peter Wesker\n"
     ]
    }
   ],
   "source": [
    "def full_name(f_name, m_name, l_name):\n",
    "    print(\"Hello, \", f_name, m_name, l_name)\n",
    "\n",
    "full_name(m_name = \"Peter\", l_name = \"Wesker\", f_name = \"Jade\")"
   ]
  },
  {
   "cell_type": "code",
   "execution_count": 5,
   "id": "6d4c69a0-5f62-4513-bd6c-9935594df5a9",
   "metadata": {},
   "outputs": [
    {
     "name": "stdout",
     "output_type": "stream",
     "text": [
      "Hello,  Peter Ego Quill\n"
     ]
    }
   ],
   "source": [
    "def full_name(f_name, m_name, l_name):\n",
    "    print(\"Hello, \", f_name, m_name, l_name)\n",
    "\n",
    "full_name(\"Peter\", \"Ego\", \"Quill\")"
   ]
  },
  {
   "cell_type": "code",
   "execution_count": 6,
   "id": "6680a252-0ca1-470e-8851-886a445b1353",
   "metadata": {},
   "outputs": [
    {
     "name": "stdout",
     "output_type": "stream",
     "text": [
      "Hello,  James Buchanan Barnes\n"
     ]
    }
   ],
   "source": [
    "def full_name(**name):\n",
    "    print(\"Hello, \", name[\"f_name\"], name[\"m_name\"], name[\"l_name\"])\n",
    "\n",
    "full_name(m_name = \"Buchanan\", l_name = \"Barnes\", f_name = \"James\")"
   ]
  },
  {
   "cell_type": "markdown",
   "id": "c35b7e9b-f723-4810-9d06-64f07b586313",
   "metadata": {},
   "source": [
    "**==================== Return Statement ====================**"
   ]
  },
  {
   "cell_type": "code",
   "execution_count": 7,
   "id": "b0355a49-1beb-460d-bfe3-29f9ee41e3ab",
   "metadata": {},
   "outputs": [
    {
     "name": "stdout",
     "output_type": "stream",
     "text": [
      "Hello, James Buchanan Barnes\n"
     ]
    }
   ],
   "source": [
    "def full_name(f_name, m_name, l_name):\n",
    "    return \"Hello, \" + f_name + \" \" + m_name + \" \" + l_name\n",
    "\n",
    "print(full_name(\"James\", \"Buchanan\", \"Barnes\"))"
   ]
  },
  {
   "cell_type": "markdown",
   "id": "8bfa9f77-72ef-4bc5-82ee-18f01a88d757",
   "metadata": {},
   "source": [
    "**==================== Python Recursion ====================**"
   ]
  },
  {
   "cell_type": "code",
   "execution_count": 8,
   "id": "f735a817-a6e4-4bf2-80ad-109a1db4eca9",
   "metadata": {},
   "outputs": [
    {
     "name": "stdin",
     "output_type": "stream",
     "text": [
      "Please, Enter You'r Number 7\n"
     ]
    },
    {
     "name": "stdout",
     "output_type": "stream",
     "text": [
      "Number:  7\n",
      "Factorial:  5040\n"
     ]
    }
   ],
   "source": [
    "def factorial(num): \n",
    "    if (num == 1 or num == 0):\n",
    "        return 1\n",
    "    else:\n",
    "        return (num * factorial(num - 1)) \n",
    " \n",
    "num = int(input(\"Please, Enter You'r Number\"))\n",
    "\n",
    "print(\"Number: \", num)\n",
    "print(\"Factorial: \", factorial(num))"
   ]
  },
  {
   "cell_type": "code",
   "execution_count": 9,
   "id": "d3ce2f33-2dd3-49d3-9a9a-9d41e2f19322",
   "metadata": {},
   "outputs": [
    {
     "name": "stdin",
     "output_type": "stream",
     "text": [
      "Please, Enter the password length:  15\n",
      "Please, Enter the number of passwords:  3\n"
     ]
    },
    {
     "name": "stdout",
     "output_type": "stream",
     "text": [
      "_ ! z > T ( = L D 9 - v U c E\n",
      ") U L C ' X n W o ) l $ v ~ w\n",
      "< C O * & Q G ^ 2 ] H t q @ 5\n"
     ]
    }
   ],
   "source": [
    "import random\n",
    "import string\n",
    "\n",
    "def Generate_Password(lenght = 12):\n",
    "    character = string.ascii_letters + string.digits + string.punctuation\n",
    "    password = \" \".join(random.choice(character) for _ in range(lenght))\n",
    "    return password\n",
    "    \n",
    "try:\n",
    "    password_length = int(input(\"Please, Enter the password length: \"))\n",
    "    num_passwords = int(input(\"Please, Enter the number of passwords: \"))\n",
    "    for _ in range(num_passwords):\n",
    "        password = Generate_Password(password_length)\n",
    "        print(password)\n",
    "\n",
    "except ValueError:\n",
    "    print(\"Invalid input. Please enter valid numbers for password length and number of passwords.\")"
   ]
  },
  {
   "cell_type": "code",
   "execution_count": 10,
   "id": "8785681d-2b2b-4841-be62-8420caa315c4",
   "metadata": {},
   "outputs": [
    {
     "name": "stdin",
     "output_type": "stream",
     "text": [
      "Enter a time in seconds:  26\n"
     ]
    },
    {
     "name": "stdout",
     "output_type": "stream",
     "text": [
      "Countdown off!\n"
     ]
    }
   ],
   "source": [
    "import time\n",
    "def Count_Down(user_time):\n",
    "   while user_time >= 0:\n",
    "       mins, secs = divmod(user_time, 60)\n",
    "       timer = \"{:02d}:{:02d}\".format(mins, secs)\n",
    "       print(timer, end= \"\\r\")\n",
    "       time.sleep(1)\n",
    "       user_time -= 1\n",
    "   print(\"Countdown off!\")\n",
    "\n",
    "if __name__ == \"__main__\":\n",
    "   user_time = int(input(\"Enter a time in seconds: \"))\n",
    "   Count_Down(user_time)"
   ]
  },
  {
   "cell_type": "code",
   "execution_count": 11,
   "id": "67b30641-5feb-442e-b239-93d9e47ea241",
   "metadata": {},
   "outputs": [
    {
     "name": "stdout",
     "output_type": "stream",
     "text": [
      "        1 \n",
      "       1 1 \n",
      "      1 2 1 \n",
      "     1 3 3 1 \n",
      "    1 4 6 4 1 \n",
      "   1 5 10 10 5 1 \n",
      "  1 6 15 20 15 6 1 \n"
     ]
    }
   ],
   "source": [
    "from math import factorial\n",
    "\n",
    "def Pascal_Triangle(n):\n",
    "   for i in range(n):\n",
    "       for j in range(n - i + 1):\n",
    "           print(end= \" \")\n",
    "       for j in range(i + 1):       \n",
    "           print(factorial(i) // (factorial(j) * factorial(i - j)), end= \" \")\n",
    "       print()\n",
    "\n",
    "if __name__ == \"__main__\":\n",
    "   Pascal_Triangle(7)"
   ]
  },
  {
   "cell_type": "markdown",
   "id": "2ba65d9d-d146-4215-b35f-bf4951877a81",
   "metadata": {},
   "source": [
    "**==================== Lambda Function ====================**"
   ]
  },
  {
   "cell_type": "code",
   "execution_count": 12,
   "id": "2f348820-133f-4bb9-83c7-3bf4c332c441",
   "metadata": {},
   "outputs": [
    {
     "data": {
      "text/plain": [
       "14"
      ]
     },
     "execution_count": 12,
     "metadata": {},
     "output_type": "execute_result"
    }
   ],
   "source": [
    "double = lambda x: x * 2\n",
    "double(7)"
   ]
  }
 ],
 "metadata": {
  "kernelspec": {
   "display_name": "Python 3 (ipykernel)",
   "language": "python",
   "name": "python3"
  },
  "language_info": {
   "codemirror_mode": {
    "name": "ipython",
    "version": 3
   },
   "file_extension": ".py",
   "mimetype": "text/x-python",
   "name": "python",
   "nbconvert_exporter": "python",
   "pygments_lexer": "ipython3",
   "version": "3.12.1"
  }
 },
 "nbformat": 4,
 "nbformat_minor": 5
}
