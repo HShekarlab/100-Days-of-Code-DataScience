{
 "cells": [
  {
   "cell_type": "markdown",
   "id": "bd4fe498-bc20-4ed6-a8df-32c64413a01e",
   "metadata": {},
   "source": [
    "**==================== If...Else ====================**"
   ]
  },
  {
   "cell_type": "code",
   "execution_count": 1,
   "id": "90d9c6ad-9356-45bc-988d-795209cf068f",
   "metadata": {},
   "outputs": [
    {
     "name": "stdout",
     "output_type": "stream",
     "text": [
      "y is greater than x\n"
     ]
    }
   ],
   "source": [
    "x = 35\n",
    "y = 75\n",
    "\n",
    "if y > x:\n",
    "    print(f\"y is greater than x\")"
   ]
  },
  {
   "cell_type": "code",
   "execution_count": 2,
   "id": "44e17a0f-fb03-41e6-b13a-fb6fa2b895ec",
   "metadata": {},
   "outputs": [
    {
     "name": "stdout",
     "output_type": "stream",
     "text": [
      "x and y are equal\n"
     ]
    }
   ],
   "source": [
    "x = 20\n",
    "y = 20\n",
    "\n",
    "if y > x:\n",
    "    print(f\"y is greater than x\")\n",
    "elif x == y:\n",
    "    print(f\"x and y are equal\")"
   ]
  },
  {
   "cell_type": "code",
   "execution_count": 3,
   "id": "a904be80-e697-4128-914e-5767ca8d3011",
   "metadata": {},
   "outputs": [
    {
     "name": "stdout",
     "output_type": "stream",
     "text": [
      "x is greater than y\n"
     ]
    }
   ],
   "source": [
    "x = 320\n",
    "y = 164\n",
    "\n",
    "if y > x:\n",
    "    print(f\"y is greater than x\")\n",
    "elif x == y:\n",
    "    print(f\"x and y are equal\")\n",
    "else:\n",
    "    print(f\"x is greater than y\")"
   ]
  },
  {
   "cell_type": "code",
   "execution_count": 4,
   "id": "34bc72a9-1787-4b16-8189-e52cab43db5c",
   "metadata": {},
   "outputs": [
    {
     "name": "stdin",
     "output_type": "stream",
     "text": [
      "Please Enter your age :  30\n"
     ]
    },
    {
     "name": "stdout",
     "output_type": "stream",
     "text": [
      "Mid-Age\n"
     ]
    }
   ],
   "source": [
    "age = float(input(\"Please Enter your age : \"))\n",
    "if(age < 18):\n",
    "    print(\"Minor Age\")\n",
    "elif(age >= 18 and age <= 45):\n",
    "    print(\"Mid-Age\")\n",
    "elif(age > 45 and age <= 60):\n",
    "    print(\"Senior Mid Age\")\n",
    "else:\n",
    "    print(\"Senior Citizen\")"
   ]
  },
  {
   "cell_type": "markdown",
   "id": "2f3a1cd5-bce2-4ff0-8cc6-8a1d3dad9b91",
   "metadata": {},
   "source": [
    "**==================== Python Loops ====================**"
   ]
  },
  {
   "cell_type": "code",
   "execution_count": 5,
   "id": "9bbd6d79-aeff-41c4-926c-c837d57c529b",
   "metadata": {},
   "outputs": [
    {
     "name": "stdout",
     "output_type": "stream",
     "text": [
      "1\n",
      "2\n",
      "3\n",
      "4\n",
      "5\n",
      "6\n",
      "7\n"
     ]
    }
   ],
   "source": [
    "x = 1\n",
    "while(x < 8):\n",
    "    print(x)\n",
    "    x += 1"
   ]
  },
  {
   "cell_type": "code",
   "execution_count": 6,
   "id": "63eab014-c1f4-46e8-adb9-8a06a5706f2c",
   "metadata": {},
   "outputs": [
    {
     "name": "stdout",
     "output_type": "stream",
     "text": [
      "1\n",
      "2\n",
      "3\n",
      "4\n",
      "5\n"
     ]
    }
   ],
   "source": [
    "x = 1\n",
    "while(x < 8):\n",
    "    print(x)\n",
    "    if x == 5:\n",
    "        break\n",
    "    x += 1"
   ]
  },
  {
   "cell_type": "code",
   "execution_count": 7,
   "id": "66030619-bb4c-4c2d-a908-dc0688685df4",
   "metadata": {},
   "outputs": [
    {
     "name": "stdout",
     "output_type": "stream",
     "text": [
      "1\n",
      "2\n",
      "3\n",
      "4\n",
      "6\n",
      "7\n",
      "8\n"
     ]
    }
   ],
   "source": [
    "x = 0\n",
    "while(x < 8):\n",
    "    x += 1\n",
    "    if x == 5:\n",
    "        continue\n",
    "    print(x)\n",
    "    "
   ]
  },
  {
   "cell_type": "code",
   "execution_count": 8,
   "id": "65fab2d7-34f2-4fed-85b5-7b22cc22e378",
   "metadata": {},
   "outputs": [
    {
     "name": "stdin",
     "output_type": "stream",
     "text": [
      "Please Enter You'r Number :  10\n"
     ]
    },
    {
     "name": "stdout",
     "output_type": "stream",
     "text": [
      "Choose Lower value\n"
     ]
    },
    {
     "name": "stdin",
     "output_type": "stream",
     "text": [
      "Please Enter You'r Number :  7\n"
     ]
    },
    {
     "name": "stdout",
     "output_type": "stream",
     "text": [
      "Choose Lower value\n"
     ]
    },
    {
     "name": "stdin",
     "output_type": "stream",
     "text": [
      "Please Enter You'r Number :  5\n"
     ]
    },
    {
     "name": "stdout",
     "output_type": "stream",
     "text": [
      "Choose Lower value\n"
     ]
    },
    {
     "name": "stdin",
     "output_type": "stream",
     "text": [
      "Please Enter You'r Number :  3\n"
     ]
    },
    {
     "name": "stdout",
     "output_type": "stream",
     "text": [
      "Choose Upper Value\n"
     ]
    },
    {
     "name": "stdin",
     "output_type": "stream",
     "text": [
      "Please Enter You'r Number :  4\n"
     ]
    },
    {
     "name": "stdout",
     "output_type": "stream",
     "text": [
      "Congratulations. You made it!\n"
     ]
    }
   ],
   "source": [
    "import random\n",
    "\n",
    "max = 25\n",
    "min = 1\n",
    "\n",
    "new_max = max\n",
    "new_min = min\n",
    "\n",
    "x = 0\n",
    "y = random.randint(min, max)\n",
    "\n",
    "\n",
    "while x != y:\n",
    "    x = int(input(\"Please Enter You'r Number : \"))\n",
    "    if x == 0:  \n",
    "        print(\"Sorry that you're giving up!\")\n",
    "        break   \n",
    "    elif x > y:\n",
    "        new_max = x - 1\n",
    "        print(\"Choose Lower value\")\n",
    "    elif x < y:\n",
    "        new_max = x + 1\n",
    "        print(\"Choose Upper Value\")   \n",
    "else:\n",
    "    print(\"Congratulations. You made it!\")"
   ]
  },
  {
   "cell_type": "markdown",
   "id": "58299c22-f27d-43cd-9662-3bb98a2a7b75",
   "metadata": {},
   "source": [
    "**==================== For Loop ====================**"
   ]
  },
  {
   "cell_type": "code",
   "execution_count": 9,
   "id": "8d3cb831-0bca-4f07-9a8e-b403583f7290",
   "metadata": {},
   "outputs": [
    {
     "name": "stdout",
     "output_type": "stream",
     "text": [
      "blue\n",
      "green\n",
      "red\n",
      "pink\n",
      "orange\n"
     ]
    }
   ],
   "source": [
    "colors = [\"blue\", \"green\", \"red\", \"pink\", \"orange\"]\n",
    "\n",
    "for i in colors:\n",
    "  print(i)"
   ]
  },
  {
   "cell_type": "code",
   "execution_count": 10,
   "id": "035e7fca-f4d2-433f-b512-87acf32d446a",
   "metadata": {},
   "outputs": [
    {
     "name": "stdout",
     "output_type": "stream",
     "text": [
      "blue\n",
      "green\n",
      "red\n",
      "pink\n"
     ]
    }
   ],
   "source": [
    "colors = [\"blue\", \"green\", \"red\", \"pink\", \"orange\"]\n",
    "\n",
    "for i in colors:\n",
    "  print(i)\n",
    "  if i == \"pink\":\n",
    "    break"
   ]
  },
  {
   "cell_type": "code",
   "execution_count": 11,
   "id": "8819c75e-addb-4a39-af8d-14c384d8cd4d",
   "metadata": {},
   "outputs": [
    {
     "name": "stdout",
     "output_type": "stream",
     "text": [
      "blue\n",
      "green\n",
      "pink\n",
      "orange\n"
     ]
    }
   ],
   "source": [
    "colors = [\"blue\", \"green\", \"red\", \"pink\", \"orange\"]\n",
    "\n",
    "for i in colors:\n",
    "  if i == \"red\":\n",
    "    continue\n",
    "  print(i)"
   ]
  },
  {
   "cell_type": "code",
   "execution_count": 12,
   "id": "ce2f479d-228d-4c5b-ab78-58079586f91c",
   "metadata": {},
   "outputs": [
    {
     "name": "stdout",
     "output_type": "stream",
     "text": [
      "2\n",
      "3\n",
      "4\n",
      "5\n",
      "6\n",
      "7\n",
      "8\n",
      "9\n"
     ]
    }
   ],
   "source": [
    "for i in range(2, 10):\n",
    "    print(i)"
   ]
  },
  {
   "cell_type": "code",
   "execution_count": 13,
   "id": "d22524e3-7f28-4a69-ae5a-cb4953152270",
   "metadata": {},
   "outputs": [
    {
     "name": "stdout",
     "output_type": "stream",
     "text": [
      "                            *  \n",
      "                           * *  \n",
      "                          * * *  \n",
      "                         * * * *  \n",
      "                        * * * * *  \n",
      "                       * * * * * *  \n",
      "                      * * * * * * *  \n",
      "                     * * * * * * * *  \n",
      "                    * * * * * * * * *  \n",
      "                   * * * * * * * * * *  \n",
      "                  * * * * * * * * * * *  \n",
      "                 * * * * * * * * * * * *  \n",
      "                * * * * * * * * * * * * *  \n",
      "               * * * * * * * * * * * * * *  \n",
      "              * * * * * * * * * * * * * * *  \n"
     ]
    }
   ],
   "source": [
    "def star(n):\n",
    "      k = 2 * n - 2\n",
    "      for i in range(0,n):\n",
    "           for j in range(0,k):\n",
    "               print(end = \" \")\n",
    "           k = k - 1\n",
    "           for j in range(0, i + 1):\n",
    "                print(\"*\", end = \" \")\n",
    "           print(\" \")\n",
    "  \n",
    "star(15)"
   ]
  },
  {
   "cell_type": "code",
   "execution_count": 14,
   "id": "352606eb-d56f-4489-98f3-1a66ed575073",
   "metadata": {},
   "outputs": [
    {
     "name": "stdout",
     "output_type": "stream",
     "text": [
      "* \n",
      "* * \n",
      "* * * \n",
      "* * * * \n",
      "* * * * * \n",
      "* * * * * * \n",
      "* * * * * * * \n",
      "* * * * * * \n",
      "* * * * * \n",
      "* * * * \n",
      "* * * \n",
      "* * \n",
      "* \n",
      "\n"
     ]
    }
   ],
   "source": [
    "rows = 7\n",
    "\n",
    "for i in range(0, rows):\n",
    "    for j in range(0, i + 1):\n",
    "        print(\"*\", end = \" \")\n",
    "    print(\"\\r\")\n",
    "\n",
    "for i in range(rows, 0, -1):\n",
    "    for j in range(0, i - 1):\n",
    "        print(\"*\", end = \" \")\n",
    "    print(\"\\r\")"
   ]
  },
  {
   "cell_type": "code",
   "execution_count": 15,
   "id": "0b1ea918-9018-4222-ab49-ea759b1c7cb7",
   "metadata": {},
   "outputs": [
    {
     "name": "stdout",
     "output_type": "stream",
     "text": [
      "* * * * * * * \n",
      " * * * * * * \n",
      "  * * * * * \n",
      "   * * * * \n",
      "    * * * \n",
      "     * * \n",
      "      * \n",
      "      * \n",
      "     * * \n",
      "    * * * \n",
      "   * * * * \n",
      "  * * * * * \n",
      " * * * * * * \n",
      "* * * * * * * \n"
     ]
    }
   ],
   "source": [
    "rows = 7\n",
    "i = 0\n",
    "\n",
    "while i <= rows - 1:\n",
    "    j = 0\n",
    "    \n",
    "    while j < i:\n",
    "        print(\"\", end = \" \")\n",
    "        j += 1\n",
    "    k = i\n",
    "    \n",
    "    while k <= rows - 1:\n",
    "        print(\"*\", end = \" \")\n",
    "        k += 1\n",
    "    print()\n",
    "    i += 1\n",
    "\n",
    "i = rows - 1\n",
    "\n",
    "while i >= 0:\n",
    "    j = 0\n",
    "    \n",
    "    while j < i:\n",
    "        print(\"\", end = \" \")\n",
    "        j += 1\n",
    "    k = i\n",
    "    \n",
    "    while k <= rows - 1:\n",
    "        print(\"*\", end = \" \")\n",
    "        k += 1\n",
    "    print(\"\")\n",
    "    i -= 1"
   ]
  },
  {
   "cell_type": "code",
   "execution_count": 16,
   "id": "76c184d9-ed07-4bd7-9bd5-327562ceadb4",
   "metadata": {},
   "outputs": [
    {
     "name": "stdout",
     "output_type": "stream",
     "text": [
      "**************\n",
      "******__******\n",
      "*****____*****\n",
      "****______****\n",
      "***________***\n",
      "**__________**\n",
      "*____________*\n"
     ]
    }
   ],
   "source": [
    "rows = 14\n",
    "print(\"*\" * rows, end = \"\\n\")\n",
    "i = (rows // 2) - 1\n",
    "j = 2\n",
    "\n",
    "while i != 0:\n",
    "    while j <= (rows - 2):\n",
    "        print(\"*\" * i, end = \"\")\n",
    "        print(\"_\" * j, end = \"\")\n",
    "        print(\"*\" * i, end = \"\\n\")\n",
    "        i = i - 1\n",
    "        j = j + 2"
   ]
  },
  {
   "cell_type": "code",
   "execution_count": 17,
   "id": "7594a5df-e1f3-4fbe-9e52-882f92d9ba4e",
   "metadata": {},
   "outputs": [
    {
     "name": "stdout",
     "output_type": "stream",
     "text": [
      "**************\n",
      "******@@******\n",
      "*****@@@@*****\n",
      "****@@@@@@****\n",
      "***@@@@@@@@***\n",
      "**@@@@@@@@@@**\n",
      "*@@@@@@@@@@@@*\n"
     ]
    }
   ],
   "source": [
    "rows = 14\n",
    "print(\"*\" * rows, end = \"\\n\")\n",
    "i = (rows // 2) - 1\n",
    "j = 2\n",
    "\n",
    "while i != 0:\n",
    "    while j <= (rows - 2):\n",
    "        print(\"*\" * i, end = \"\")\n",
    "        print(\"@\" * j, end = \"\")\n",
    "        print(\"*\" * i, end = \"\\n\")\n",
    "        i = i - 1\n",
    "        j = j + 2"
   ]
  }
 ],
 "metadata": {
  "kernelspec": {
   "display_name": "Python 3 (ipykernel)",
   "language": "python",
   "name": "python3"
  },
  "language_info": {
   "codemirror_mode": {
    "name": "ipython",
    "version": 3
   },
   "file_extension": ".py",
   "mimetype": "text/x-python",
   "name": "python",
   "nbconvert_exporter": "python",
   "pygments_lexer": "ipython3",
   "version": "3.12.1"
  }
 },
 "nbformat": 4,
 "nbformat_minor": 5
}
