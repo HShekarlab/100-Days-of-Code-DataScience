{
 "cells": [
  {
   "cell_type": "code",
   "execution_count": 1,
   "id": "fd0eb922-c74d-4f3d-9009-ddc862b941bb",
   "metadata": {},
   "outputs": [],
   "source": [
    "from sklearn.metrics import accuracy_score, precision_score, recall_score, f1_score, confusion_matrix\n",
    "from sklearn.metrics import mean_absolute_error, mean_squared_error, r2_score, median_absolute_error"
   ]
  },
  {
   "cell_type": "code",
   "execution_count": 2,
   "id": "2b1c4c5e-26a3-4431-b60c-953d7de84c66",
   "metadata": {},
   "outputs": [],
   "source": [
    "act_label = [1, 1, 0, 1, 0, 0, 0, 1, 0, 1, 1, 0, 1, 1, 1, 0, 0, 1, 1, 1]\n",
    "predict_label = [1, 0, 0, 1, 0, 1, 0, 1, 0, 1, 1, 0, 1, 0, 1, 0, 0, 1, 1, 1]"
   ]
  },
  {
   "cell_type": "code",
   "execution_count": 3,
   "id": "ae7f55f7-b6fa-433f-a17e-5c48f2ec8675",
   "metadata": {},
   "outputs": [
    {
     "name": "stdout",
     "output_type": "stream",
     "text": [
      "Accuracy :  0.85\n"
     ]
    }
   ],
   "source": [
    "accuracy = accuracy_score(act_label, predict_label)\n",
    "print(\"Accuracy : \", accuracy)"
   ]
  },
  {
   "cell_type": "code",
   "execution_count": 4,
   "id": "8a0cdd7f-b071-4bf2-b393-14816d6d39b6",
   "metadata": {},
   "outputs": [
    {
     "name": "stdout",
     "output_type": "stream",
     "text": [
      "Precision :  0.9090909090909091\n"
     ]
    }
   ],
   "source": [
    "precision = precision_score(act_label, predict_label)\n",
    "print(\"Precision : \", precision)"
   ]
  },
  {
   "cell_type": "code",
   "execution_count": 5,
   "id": "d37f1eca-7e7e-4050-a25d-e45787dfc7d1",
   "metadata": {},
   "outputs": [
    {
     "name": "stdout",
     "output_type": "stream",
     "text": [
      "Recall :  0.8333333333333334\n"
     ]
    }
   ],
   "source": [
    "recall = recall_score(act_label, predict_label)\n",
    "print(\"Recall : \", recall)"
   ]
  },
  {
   "cell_type": "code",
   "execution_count": 6,
   "id": "c5b05838-2481-4fc2-b463-3d3c1021ad92",
   "metadata": {},
   "outputs": [
    {
     "name": "stdout",
     "output_type": "stream",
     "text": [
      "F1_Score : 0.8695652173913043\n"
     ]
    }
   ],
   "source": [
    "F1 = f1_score(act_label, predict_label)\n",
    "print(\"F1_Score :\", F1)"
   ]
  },
  {
   "cell_type": "code",
   "execution_count": 7,
   "id": "bd5796af-65e5-4037-b489-f0bb24dd4776",
   "metadata": {},
   "outputs": [
    {
     "name": "stdout",
     "output_type": "stream",
     "text": [
      "Confusion_Matrix : \n",
      " [[ 7  1]\n",
      " [ 2 10]]\n"
     ]
    }
   ],
   "source": [
    "confusion_matrix = confusion_matrix(act_label, predict_label)\n",
    "print(\"Confusion_Matrix : \\n\", confusion_matrix)"
   ]
  },
  {
   "cell_type": "code",
   "execution_count": 8,
   "id": "6afa5fb0-658f-46ca-97ad-6f65e6c9df1e",
   "metadata": {},
   "outputs": [],
   "source": [
    "act_value = [20, 41, 11, 54, 3, 15, 62, 90]\n",
    "predict_value = [18, 42, 10, 53, 5, 16, 61, 88]"
   ]
  },
  {
   "cell_type": "code",
   "execution_count": 9,
   "id": "129ab6d7-a83a-40f9-8dcc-06cd40f0c78f",
   "metadata": {},
   "outputs": [
    {
     "name": "stdout",
     "output_type": "stream",
     "text": [
      "Mean Absolute Error: 1.375\n"
     ]
    }
   ],
   "source": [
    "mae = mean_absolute_error(act_value, predict_value)\n",
    "print(\"Mean Absolute Error:\", mae)"
   ]
  },
  {
   "cell_type": "code",
   "execution_count": 10,
   "id": "5cc2d905-36af-46be-9fd6-e367a83fc143",
   "metadata": {},
   "outputs": [
    {
     "name": "stdout",
     "output_type": "stream",
     "text": [
      "Mean Squared Error: 2.125\n"
     ]
    }
   ],
   "source": [
    "mse = mean_squared_error(act_value, predict_value)\n",
    "print(\"Mean Squared Error:\", mse)"
   ]
  },
  {
   "cell_type": "code",
   "execution_count": 11,
   "id": "3e897ed3-b652-4f3a-b8e0-f15fe72f4a2a",
   "metadata": {},
   "outputs": [
    {
     "name": "stdout",
     "output_type": "stream",
     "text": [
      "R-squared: 0.9973203026481715\n"
     ]
    }
   ],
   "source": [
    "r2 = r2_score(act_value, predict_value)\n",
    "print(\"R-squared:\", r2)"
   ]
  },
  {
   "cell_type": "code",
   "execution_count": 12,
   "id": "be041fa7-ac0f-48a4-9719-525a6808a54b",
   "metadata": {},
   "outputs": [
    {
     "name": "stdout",
     "output_type": "stream",
     "text": [
      "Median Absolute Error: 1.0\n"
     ]
    }
   ],
   "source": [
    "medae = median_absolute_error(act_value, predict_value)\n",
    "print(\"Median Absolute Error:\", medae)"
   ]
  }
 ],
 "metadata": {
  "kernelspec": {
   "display_name": "Python 3 (ipykernel)",
   "language": "python",
   "name": "python3"
  },
  "language_info": {
   "codemirror_mode": {
    "name": "ipython",
    "version": 3
   },
   "file_extension": ".py",
   "mimetype": "text/x-python",
   "name": "python",
   "nbconvert_exporter": "python",
   "pygments_lexer": "ipython3",
   "version": "3.12.1"
  }
 },
 "nbformat": 4,
 "nbformat_minor": 5
}
