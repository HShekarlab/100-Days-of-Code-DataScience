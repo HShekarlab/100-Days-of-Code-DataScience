{
 "cells": [
  {
   "cell_type": "markdown",
   "id": "945cc8b0-6d2e-4b7e-8f3f-e1f261148f58",
   "metadata": {},
   "source": [
    "**==================== Python Oops ====================**"
   ]
  },
  {
   "cell_type": "markdown",
   "id": "7ea95e9a-07ac-4280-92ca-9cb33cb43eb4",
   "metadata": {},
   "source": [
    "**Creating a Class**"
   ]
  },
  {
   "cell_type": "code",
   "execution_count": 1,
   "id": "104544cb-9015-4010-a03d-04ebd08f090d",
   "metadata": {},
   "outputs": [],
   "source": [
    "class Detail:\n",
    "    name = \"Alice\"\n",
    "    address = \"Paris\"\n",
    "    age = 25"
   ]
  },
  {
   "cell_type": "markdown",
   "id": "5376cb08-c3cb-4f2a-902e-9e0765e0f496",
   "metadata": {},
   "source": [
    "**Creatin an Object**"
   ]
  },
  {
   "cell_type": "code",
   "execution_count": 2,
   "id": "ddefd589-8713-496b-b9a6-4de2abf441f6",
   "metadata": {},
   "outputs": [],
   "source": [
    "obj = Detail()"
   ]
  },
  {
   "cell_type": "code",
   "execution_count": 3,
   "id": "1437dc51-475c-4f19-ac3c-ce2a7c408072",
   "metadata": {},
   "outputs": [
    {
     "data": {
      "text/plain": [
       "'Alice'"
      ]
     },
     "execution_count": 3,
     "metadata": {},
     "output_type": "execute_result"
    }
   ],
   "source": [
    "obj.name"
   ]
  },
  {
   "cell_type": "code",
   "execution_count": 4,
   "id": "248b321f-3936-4187-beae-22e2931a31a1",
   "metadata": {},
   "outputs": [
    {
     "data": {
      "text/plain": [
       "'Paris'"
      ]
     },
     "execution_count": 4,
     "metadata": {},
     "output_type": "execute_result"
    }
   ],
   "source": [
    "obj.address"
   ]
  },
  {
   "cell_type": "code",
   "execution_count": 5,
   "id": "25b097a3-0fc4-4ee1-a5e1-935718f04e2f",
   "metadata": {},
   "outputs": [
    {
     "data": {
      "text/plain": [
       "25"
      ]
     },
     "execution_count": 5,
     "metadata": {},
     "output_type": "execute_result"
    }
   ],
   "source": [
    "obj.age"
   ]
  },
  {
   "cell_type": "markdown",
   "id": "b346038c-1ac1-42ab-95f3-8464157f0004",
   "metadata": {},
   "source": [
    "**self** method"
   ]
  },
  {
   "cell_type": "code",
   "execution_count": 6,
   "id": "88b1cb6b-d300-4457-8fa4-647fe4de85cf",
   "metadata": {},
   "outputs": [
    {
     "name": "stdout",
     "output_type": "stream",
     "text": [
      "My name is Alice, I'm from Paris and I'm 25 years old.\n"
     ]
    }
   ],
   "source": [
    "class Detail:\n",
    "    name = \"Alice\"\n",
    "    address = \"Paris\"\n",
    "    age = 25\n",
    "    \n",
    "    def desc(self):\n",
    "        print(f\"My name is {self.name}, I'm from {self.address} and I'm {self.age} years old.\")\n",
    "\n",
    "obj = Detail()\n",
    "obj.desc()"
   ]
  },
  {
   "cell_type": "markdown",
   "id": "7d9dd1bb-3c9c-4579-9a5d-42d385912914",
   "metadata": {},
   "source": [
    "**init** method"
   ]
  },
  {
   "cell_type": "code",
   "execution_count": 7,
   "id": "97dddd2a-222c-4fba-8b66-f9e1620ed674",
   "metadata": {},
   "outputs": [
    {
     "name": "stdout",
     "output_type": "stream",
     "text": [
      "Hello, my name is Brilliant\n"
     ]
    }
   ],
   "source": [
    "class Detail:\n",
    "    def __init__(self, name, age):\n",
    "        self.name = name\n",
    "        self.age = age\n",
    "\n",
    "obj = Detail(\"Brilliant\", 27)\n",
    "\n",
    "print(\"Hello, my name is \" + obj.name)"
   ]
  },
  {
   "cell_type": "code",
   "execution_count": 8,
   "id": "10d0290e-72af-479a-80e1-87aaf1eacf5b",
   "metadata": {},
   "outputs": [
    {
     "name": "stdout",
     "output_type": "stream",
     "text": [
      "Brilliant (27)\n"
     ]
    }
   ],
   "source": [
    "class Detail:\n",
    "    def __init__(self, name, age):\n",
    "        self.name = name\n",
    "        self.age = age\n",
    "        \n",
    "    def __str__(self):\n",
    "        return f\"{self.name} ({self.age})\"\n",
    "\n",
    "obj = Detail(\"Brilliant\", 27)\n",
    "print(obj)"
   ]
  },
  {
   "cell_type": "code",
   "execution_count": 9,
   "id": "cf073783-8c27-4f77-933b-c0c0a14b7f19",
   "metadata": {},
   "outputs": [
    {
     "name": "stdout",
     "output_type": "stream",
     "text": [
      "Brilliant 27\n"
     ]
    }
   ],
   "source": [
    "class Detail:\n",
    "    def __init__(self, name, age):\n",
    "        self.name = name\n",
    "        self.age = age\n",
    "        \n",
    "    def __str__(self):\n",
    "        return f\"{self.name} {self.age}\"\n",
    "\n",
    "obj = Detail(\"Brilliant\", 27)\n",
    "print(obj)"
   ]
  },
  {
   "cell_type": "markdown",
   "id": "2536f8b8-3bd5-42c0-9611-bbcb8198d142",
   "metadata": {},
   "source": [
    "**Python Iterators**"
   ]
  },
  {
   "cell_type": "code",
   "execution_count": 10,
   "id": "bd7af0af-083b-44a4-9ba8-976e0833a501",
   "metadata": {},
   "outputs": [
    {
     "name": "stdout",
     "output_type": "stream",
     "text": [
      "D\n",
      "a\n",
      "t\n",
      "a\n",
      " \n",
      "S\n",
      "c\n",
      "i\n",
      "e\n",
      "n\n",
      "c\n",
      "e\n"
     ]
    }
   ],
   "source": [
    "str = \"Data Science\"\n",
    "iter_obj = iter(str)\n",
    "\n",
    "while True:\n",
    "    try:\n",
    "        char = next(iter_obj)\n",
    "        print(char)\n",
    "    except StopIteration:\n",
    "        break"
   ]
  },
  {
   "cell_type": "code",
   "execution_count": 11,
   "id": "842cf008-17c8-4dae-9fdb-c609f7531777",
   "metadata": {},
   "outputs": [
    {
     "name": "stdout",
     "output_type": "stream",
     "text": [
      "0\n",
      "10\n",
      "20\n",
      "30\n",
      "40\n",
      "50\n",
      "60\n",
      "70\n",
      "80\n",
      "90\n",
      "100\n"
     ]
    }
   ],
   "source": [
    "class Multiple:\n",
    "    def __iter__(self):\n",
    "        self.count = 0\n",
    "        return self\n",
    "        \n",
    "    def __next__(self):\n",
    "        if self.count <= 100:\n",
    "            x = self.count\n",
    "            self.count += 10\n",
    "            return x\n",
    "        else:\n",
    "            raise StopIteration\n",
    "\n",
    "obj = Multiple()\n",
    "num = iter(obj)\n",
    "\n",
    "for i in num:\n",
    "    print(i)"
   ]
  },
  {
   "cell_type": "markdown",
   "id": "712b6b67-dae5-4d2f-8cbd-bbaab2961524",
   "metadata": {},
   "source": [
    "**==================== Python Try Except ====================**"
   ]
  },
  {
   "cell_type": "code",
   "execution_count": 12,
   "id": "03b3d5ea-cb67-4ea0-a2d4-45a3ae5f6cb5",
   "metadata": {},
   "outputs": [
    {
     "name": "stdin",
     "output_type": "stream",
     "text": [
      "Please Enter an integer:  45\n"
     ]
    }
   ],
   "source": [
    "try:\n",
    "    num = int(input(\"Please Enter an integer: \"))\n",
    "except ValueError:\n",
    "    print(\"Value entered is not an integer.\")"
   ]
  },
  {
   "cell_type": "code",
   "execution_count": 13,
   "id": "1cfe229b-1aa3-4c90-8e47-80b61b38c428",
   "metadata": {},
   "outputs": [
    {
     "name": "stdin",
     "output_type": "stream",
     "text": [
      "Please Enter an integer:  71.6\n"
     ]
    },
    {
     "name": "stdout",
     "output_type": "stream",
     "text": [
      "Value entered is not an integer.\n"
     ]
    }
   ],
   "source": [
    "try:\n",
    "    num = int(input(\"Please Enter an integer: \"))\n",
    "except ValueError:\n",
    "    print(\"Value entered is not an integer.\")"
   ]
  },
  {
   "cell_type": "code",
   "execution_count": 14,
   "id": "12b83788-5e9e-411d-b0f0-83d6dec0cb07",
   "metadata": {},
   "outputs": [
    {
     "name": "stdin",
     "output_type": "stream",
     "text": [
      "Please Enter an integer:  data\n"
     ]
    },
    {
     "name": "stdout",
     "output_type": "stream",
     "text": [
      "Value entered is not an integer.\n"
     ]
    }
   ],
   "source": [
    "try:\n",
    "    num = int(input(\"Please Enter an integer: \"))\n",
    "except ValueError:\n",
    "    print(\"Value entered is not an integer.\")"
   ]
  },
  {
   "cell_type": "code",
   "execution_count": 15,
   "id": "1925f1ce-c76a-4688-8f7f-80e619f35b38",
   "metadata": {},
   "outputs": [
    {
     "name": "stdin",
     "output_type": "stream",
     "text": [
      "Please Enter an integer:  55\n"
     ]
    },
    {
     "name": "stdout",
     "output_type": "stream",
     "text": [
      "Integer Accepted.\n"
     ]
    }
   ],
   "source": [
    "try:\n",
    "    num = int(input(\"Please Enter an integer: \"))\n",
    "except ValueError:\n",
    "    print(\"Value entered is not an integer.\")\n",
    "else:\n",
    "    print(\"Integer Accepted.\")"
   ]
  },
  {
   "cell_type": "code",
   "execution_count": 16,
   "id": "2bc8a1dc-6144-4f15-bbff-b2778f83fb6b",
   "metadata": {},
   "outputs": [
    {
     "name": "stdin",
     "output_type": "stream",
     "text": [
      "Please Enter an integer:  11\n"
     ]
    },
    {
     "name": "stdout",
     "output_type": "stream",
     "text": [
      "Integer Accepted.\n",
      "This block is always executed.\n"
     ]
    }
   ],
   "source": [
    "try:\n",
    "    num = int(input(\"Please Enter an integer: \"))\n",
    "except ValueError:\n",
    "    print(\"Value entered is not an integer.\")\n",
    "else:\n",
    "    print(\"Integer Accepted.\")\n",
    "finally:\n",
    "    print(\"This block is always executed.\")"
   ]
  },
  {
   "cell_type": "code",
   "execution_count": 17,
   "id": "9e0deef8-7f84-487c-a319-920cde2fb79a",
   "metadata": {},
   "outputs": [
    {
     "name": "stdin",
     "output_type": "stream",
     "text": [
      "Please Enter an integer:  -83\n"
     ]
    },
    {
     "name": "stdout",
     "output_type": "stream",
     "text": [
      "Integer Accepted.\n",
      "This block is always executed.\n"
     ]
    }
   ],
   "source": [
    "try:\n",
    "    num = int(input(\"Please Enter an integer: \"))\n",
    "except ValueError:\n",
    "    print(\"Value entered is not an integer.\")\n",
    "else:\n",
    "    print(\"Integer Accepted.\")\n",
    "finally:\n",
    "    print(\"This block is always executed.\")"
   ]
  }
 ],
 "metadata": {
  "kernelspec": {
   "display_name": "Python 3 (ipykernel)",
   "language": "python",
   "name": "python3"
  },
  "language_info": {
   "codemirror_mode": {
    "name": "ipython",
    "version": 3
   },
   "file_extension": ".py",
   "mimetype": "text/x-python",
   "name": "python",
   "nbconvert_exporter": "python",
   "pygments_lexer": "ipython3",
   "version": "3.12.1"
  }
 },
 "nbformat": 4,
 "nbformat_minor": 5
}
